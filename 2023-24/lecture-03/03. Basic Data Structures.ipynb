{
 "cells": [
  {
   "cell_type": "markdown",
   "id": "86dcd382",
   "metadata": {},
   "source": [
    "# Data Structures\n",
    "\n",
    "A **data structure** is a specialized format for organizing, processing, retrieving and storing data. There are several basic and advanced types of data structures, all designed to arrange data to suit a specific purpose. Data structures make it easy for users to access and work with the data they need in appropriate ways.\n",
    "\n",
    "## Lists\n",
    "\n",
    "**Lists** are used to store multiple items in a single variable and are created using square brackets, `[...]`."
   ]
  },
  {
   "cell_type": "code",
   "execution_count": 1,
   "id": "1471eefd",
   "metadata": {},
   "outputs": [
    {
     "data": {
      "text/plain": [
       "['apple', 'banana', 'cherry']"
      ]
     },
     "execution_count": 1,
     "metadata": {},
     "output_type": "execute_result"
    }
   ],
   "source": [
    "fruit = ['apple', 'banana', 'cherry']\n",
    "fruit"
   ]
  },
  {
   "cell_type": "code",
   "execution_count": 2,
   "id": "23a7ab20-36e8-4651-90de-7e69b51e75c8",
   "metadata": {},
   "outputs": [
    {
     "data": {
      "text/plain": [
       "list"
      ]
     },
     "execution_count": 2,
     "metadata": {},
     "output_type": "execute_result"
    }
   ],
   "source": [
    "type(fruit)"
   ]
  },
  {
   "cell_type": "markdown",
   "id": "786e26de",
   "metadata": {},
   "source": [
    "A list can contain different data types."
   ]
  },
  {
   "cell_type": "code",
   "execution_count": 3,
   "id": "7a07b537",
   "metadata": {},
   "outputs": [
    {
     "data": {
      "text/plain": [
       "['hello', 23, [2.3, True]]"
      ]
     },
     "execution_count": 3,
     "metadata": {},
     "output_type": "execute_result"
    }
   ],
   "source": [
    "mix = ['hello', 23, [2.3, True]]\n",
    "mix"
   ]
  },
  {
   "cell_type": "markdown",
   "id": "408f2811",
   "metadata": {},
   "source": [
    "Like all the other built-in sequence types, such as strings, lists can be indexed and sliced."
   ]
  },
  {
   "cell_type": "code",
   "execution_count": 4,
   "id": "10e0c90f",
   "metadata": {},
   "outputs": [
    {
     "data": {
      "text/plain": [
       "'apple'"
      ]
     },
     "execution_count": 4,
     "metadata": {},
     "output_type": "execute_result"
    }
   ],
   "source": [
    "fruit[0]"
   ]
  },
  {
   "cell_type": "code",
   "execution_count": 5,
   "id": "395a133a-a99d-4e90-9995-7d8eea1bf4ea",
   "metadata": {},
   "outputs": [
    {
     "data": {
      "text/plain": [
       "str"
      ]
     },
     "execution_count": 5,
     "metadata": {},
     "output_type": "execute_result"
    }
   ],
   "source": [
    "type(fruit[0])"
   ]
  },
  {
   "cell_type": "code",
   "execution_count": 6,
   "id": "eb2c771b-ba8f-47ff-b380-9b6dc6bc0e9a",
   "metadata": {},
   "outputs": [
    {
     "data": {
      "text/plain": [
       "'APPLE'"
      ]
     },
     "execution_count": 6,
     "metadata": {},
     "output_type": "execute_result"
    }
   ],
   "source": [
    "fruit[0].upper()"
   ]
  },
  {
   "cell_type": "code",
   "execution_count": 10,
   "id": "c6c2cbb5-0995-49ab-877c-c0a01ef978ff",
   "metadata": {},
   "outputs": [
    {
     "data": {
      "text/plain": [
       "[2.3, True]"
      ]
     },
     "execution_count": 10,
     "metadata": {},
     "output_type": "execute_result"
    }
   ],
   "source": [
    "mix[2]"
   ]
  },
  {
   "cell_type": "code",
   "execution_count": 11,
   "id": "b95604d5-718c-4b38-9fdb-7ed8cb90cb2c",
   "metadata": {},
   "outputs": [
    {
     "data": {
      "text/plain": [
       "list"
      ]
     },
     "execution_count": 11,
     "metadata": {},
     "output_type": "execute_result"
    }
   ],
   "source": [
    "type(mix[2])"
   ]
  },
  {
   "cell_type": "code",
   "execution_count": 12,
   "id": "c1e59b07-1e8b-4ffb-bb1b-8e8e1763ab2b",
   "metadata": {},
   "outputs": [
    {
     "data": {
      "text/plain": [
       "2.3"
      ]
     },
     "execution_count": 12,
     "metadata": {},
     "output_type": "execute_result"
    }
   ],
   "source": [
    "mix[2][0]"
   ]
  },
  {
   "cell_type": "markdown",
   "id": "4df71c54",
   "metadata": {},
   "source": [
    "Unlike strings, which are *immutable*, lists are a *mutable* type, thus it is possible to change their content."
   ]
  },
  {
   "cell_type": "code",
   "execution_count": 20,
   "id": "7cb03455-7caa-4b05-b342-1bfdc592a842",
   "metadata": {},
   "outputs": [],
   "source": [
    "first_str = 'hello'\n",
    "second_str = first_str.replace('e', 'a')"
   ]
  },
  {
   "cell_type": "code",
   "execution_count": 21,
   "id": "c998d5fc",
   "metadata": {},
   "outputs": [
    {
     "data": {
      "text/plain": [
       "4357616624"
      ]
     },
     "execution_count": 21,
     "metadata": {},
     "output_type": "execute_result"
    }
   ],
   "source": [
    "id(first_str)"
   ]
  },
  {
   "cell_type": "code",
   "execution_count": 22,
   "id": "2991fbca-6cd6-4f77-a591-fc0b9086c080",
   "metadata": {},
   "outputs": [
    {
     "data": {
      "text/plain": [
       "4418803888"
      ]
     },
     "execution_count": 22,
     "metadata": {},
     "output_type": "execute_result"
    }
   ],
   "source": [
    "id(second_str)"
   ]
  },
  {
   "cell_type": "code",
   "execution_count": 25,
   "id": "a69e80cf-d4c9-428b-a103-250db794f2be",
   "metadata": {},
   "outputs": [
    {
     "data": {
      "text/plain": [
       "4361876672"
      ]
     },
     "execution_count": 25,
     "metadata": {},
     "output_type": "execute_result"
    }
   ],
   "source": [
    "id(fruit)"
   ]
  },
  {
   "cell_type": "code",
   "execution_count": 27,
   "id": "6437477b-a997-45de-9dda-e65b9b64a747",
   "metadata": {},
   "outputs": [
    {
     "data": {
      "text/plain": [
       "['apricot', 'banana', 'cherry']"
      ]
     },
     "execution_count": 27,
     "metadata": {},
     "output_type": "execute_result"
    }
   ],
   "source": [
    "fruit[0] = 'apricot'\n",
    "fruit"
   ]
  },
  {
   "cell_type": "code",
   "execution_count": 28,
   "id": "9deef0f4-d700-452b-bdd4-f8d6e741e81b",
   "metadata": {},
   "outputs": [
    {
     "data": {
      "text/plain": [
       "4361876672"
      ]
     },
     "execution_count": 28,
     "metadata": {},
     "output_type": "execute_result"
    }
   ],
   "source": [
    "id(fruit)"
   ]
  },
  {
   "cell_type": "code",
   "execution_count": 30,
   "id": "aea5c393-8c31-467f-980b-bc317871f64a",
   "metadata": {},
   "outputs": [
    {
     "ename": "TypeError",
     "evalue": "'str' object does not support item assignment",
     "output_type": "error",
     "traceback": [
      "\u001b[0;31m---------------------------------------------------------------------------\u001b[0m",
      "\u001b[0;31mTypeError\u001b[0m                                 Traceback (most recent call last)",
      "Cell \u001b[0;32mIn[30], line 1\u001b[0m\n\u001b[0;32m----> 1\u001b[0m \u001b[43mfirst_str\u001b[49m\u001b[43m[\u001b[49m\u001b[38;5;241;43m1\u001b[39;49m\u001b[43m]\u001b[49m \u001b[38;5;241m=\u001b[39m \u001b[38;5;124m'\u001b[39m\u001b[38;5;124ma\u001b[39m\u001b[38;5;124m'\u001b[39m\n",
      "\u001b[0;31mTypeError\u001b[0m: 'str' object does not support item assignment"
     ]
    }
   ],
   "source": [
    "first_str[1] = 'a'"
   ]
  },
  {
   "cell_type": "markdown",
   "id": "39098447",
   "metadata": {},
   "source": [
    "It is also possible to use the `list()` constructor to make a list."
   ]
  },
  {
   "cell_type": "code",
   "execution_count": 31,
   "id": "157c888a",
   "metadata": {},
   "outputs": [
    {
     "data": {
      "text/plain": [
       "['banana', 'cherry']"
      ]
     },
     "execution_count": 31,
     "metadata": {},
     "output_type": "execute_result"
    }
   ],
   "source": [
    "fruit[1:]"
   ]
  },
  {
   "cell_type": "code",
   "execution_count": 38,
   "id": "c8d0328a-c12a-4c11-abc1-e2f18e417845",
   "metadata": {},
   "outputs": [
    {
     "ename": "IndexError",
     "evalue": "string index out of range",
     "output_type": "error",
     "traceback": [
      "\u001b[0;31m---------------------------------------------------------------------------\u001b[0m",
      "\u001b[0;31mIndexError\u001b[0m                                Traceback (most recent call last)",
      "Cell \u001b[0;32mIn[38], line 1\u001b[0m\n\u001b[0;32m----> 1\u001b[0m \u001b[38;5;124;43m'\u001b[39;49m\u001b[38;5;124;43mhello\u001b[39;49m\u001b[38;5;124;43m'\u001b[39;49m\u001b[43m[\u001b[49m\u001b[38;5;241;43m10\u001b[39;49m\u001b[43m]\u001b[49m\n",
      "\u001b[0;31mIndexError\u001b[0m: string index out of range"
     ]
    }
   ],
   "source": [
    "'hello'[10]"
   ]
  },
  {
   "cell_type": "code",
   "execution_count": 37,
   "id": "5ae8cc51-1d69-44f1-9992-ae82ffdd3e70",
   "metadata": {},
   "outputs": [
    {
     "ename": "IndexError",
     "evalue": "list index out of range",
     "output_type": "error",
     "traceback": [
      "\u001b[0;31m---------------------------------------------------------------------------\u001b[0m",
      "\u001b[0;31mIndexError\u001b[0m                                Traceback (most recent call last)",
      "Cell \u001b[0;32mIn[37], line 1\u001b[0m\n\u001b[0;32m----> 1\u001b[0m \u001b[43mfruit\u001b[49m\u001b[43m[\u001b[49m\u001b[38;5;241;43m3\u001b[39;49m\u001b[43m]\u001b[49m\n",
      "\u001b[0;31mIndexError\u001b[0m: list index out of range"
     ]
    }
   ],
   "source": [
    "fruit[3]"
   ]
  },
  {
   "cell_type": "code",
   "execution_count": 36,
   "id": "ac6159a9-38c4-4023-82c9-89f644c16f8a",
   "metadata": {},
   "outputs": [
    {
     "data": {
      "text/plain": [
       "['apricot', 'banana', 'cherry']"
      ]
     },
     "execution_count": 36,
     "metadata": {},
     "output_type": "execute_result"
    }
   ],
   "source": [
    "fruit"
   ]
  },
  {
   "cell_type": "code",
   "execution_count": 35,
   "id": "d9b1f459-59b5-41aa-bf94-bcac5d36b93b",
   "metadata": {},
   "outputs": [
    {
     "data": {
      "text/plain": [
       "'cherry'"
      ]
     },
     "execution_count": 35,
     "metadata": {},
     "output_type": "execute_result"
    }
   ],
   "source": [
    "fruit[-1]"
   ]
  },
  {
   "cell_type": "code",
   "execution_count": 33,
   "id": "f7aa93f2-0bc3-4d72-ae9a-4eaa778abd3b",
   "metadata": {},
   "outputs": [
    {
     "data": {
      "text/plain": [
       "'banana'"
      ]
     },
     "execution_count": 33,
     "metadata": {},
     "output_type": "execute_result"
    }
   ],
   "source": [
    "fruit[-2]"
   ]
  },
  {
   "cell_type": "code",
   "execution_count": 34,
   "id": "9c219190-85f3-4e31-a057-6a4e3f45ff33",
   "metadata": {},
   "outputs": [
    {
     "data": {
      "text/plain": [
       "['apricot', 'banana']"
      ]
     },
     "execution_count": 34,
     "metadata": {},
     "output_type": "execute_result"
    }
   ],
   "source": [
    "fruit[:2]"
   ]
  },
  {
   "cell_type": "markdown",
   "id": "8d0f6a57",
   "metadata": {},
   "source": [
    "### `len(object)`\n",
    "\n",
    "The `len()` function returns the length (the number of items) of an object. The argument may be a sequence (such as a string, bytes, tuple, list, or range) or a collection (such as a dictionary, set, or frozen set)."
   ]
  },
  {
   "cell_type": "code",
   "execution_count": 39,
   "id": "37b23791",
   "metadata": {},
   "outputs": [
    {
     "data": {
      "text/plain": [
       "3"
      ]
     },
     "execution_count": 39,
     "metadata": {},
     "output_type": "execute_result"
    }
   ],
   "source": [
    "len(fruit)"
   ]
  },
  {
   "cell_type": "code",
   "execution_count": 40,
   "id": "84d95679-d679-49b6-82f0-0ac38223bc63",
   "metadata": {},
   "outputs": [
    {
     "data": {
      "text/plain": [
       "5"
      ]
     },
     "execution_count": 40,
     "metadata": {},
     "output_type": "execute_result"
    }
   ],
   "source": [
    "len(first_str)"
   ]
  },
  {
   "cell_type": "code",
   "execution_count": 41,
   "id": "d017eded-48da-4358-b219-42a2df9a6a56",
   "metadata": {},
   "outputs": [
    {
     "name": "stdout",
     "output_type": "stream",
     "text": [
      "Hello, Alice\n",
      "Hello, Bob\n",
      "Hello, Charlie\n"
     ]
    }
   ],
   "source": [
    "names = ['Alice', 'Bob', 'Charlie']\n",
    "for name in names:\n",
    "    print(f'Hello, {name}')"
   ]
  },
  {
   "cell_type": "markdown",
   "id": "b13f8cbb",
   "metadata": {},
   "source": [
    "### `list` Methods\n",
    "\n",
    "Lists are ordered, meaning that the items have a defined order, and that order will not change. If you add new items to a list, the new items will be placed at the end of the it.\n",
    "\n",
    "`list.append(x)` adds an item to the end of the list."
   ]
  },
  {
   "cell_type": "code",
   "execution_count": 42,
   "id": "7ecc7a49",
   "metadata": {},
   "outputs": [
    {
     "data": {
      "text/plain": [
       "['apricot', 'banana', 'cherry', 'apple']"
      ]
     },
     "execution_count": 42,
     "metadata": {},
     "output_type": "execute_result"
    }
   ],
   "source": [
    "fruit.append('apple')\n",
    "fruit"
   ]
  },
  {
   "cell_type": "code",
   "execution_count": 43,
   "id": "55e26697-ce70-4149-9a00-6bb59d472f21",
   "metadata": {},
   "outputs": [
    {
     "data": {
      "text/plain": [
       "4"
      ]
     },
     "execution_count": 43,
     "metadata": {},
     "output_type": "execute_result"
    }
   ],
   "source": [
    "len(fruit)"
   ]
  },
  {
   "cell_type": "code",
   "execution_count": 44,
   "id": "db0c8ecf-523a-4d11-a81e-21e49117981e",
   "metadata": {},
   "outputs": [],
   "source": [
    "new_fruit = fruit.append('pineapple')\n",
    "new_fruit"
   ]
  },
  {
   "cell_type": "code",
   "execution_count": 47,
   "id": "631428dd-d445-4911-a64c-40b01dd12177",
   "metadata": {},
   "outputs": [
    {
     "data": {
      "text/plain": [
       "['apricot', 'banana', 'cherry', 'apple', 'pineapple']"
      ]
     },
     "execution_count": 47,
     "metadata": {},
     "output_type": "execute_result"
    }
   ],
   "source": [
    "fruit"
   ]
  },
  {
   "cell_type": "code",
   "execution_count": 46,
   "id": "35f10441-44ee-4b6b-b928-ed576d89a34a",
   "metadata": {},
   "outputs": [
    {
     "data": {
      "text/plain": [
       "True"
      ]
     },
     "execution_count": 46,
     "metadata": {},
     "output_type": "execute_result"
    }
   ],
   "source": [
    "new_fruit is None"
   ]
  },
  {
   "cell_type": "markdown",
   "id": "0391460d",
   "metadata": {},
   "source": [
    "`list.pop([i])` removes the item at the given position in the list, and return it. If no index is specified, it removes and returns the last item in the list."
   ]
  },
  {
   "cell_type": "code",
   "execution_count": 48,
   "id": "b0ae20a7",
   "metadata": {},
   "outputs": [
    {
     "data": {
      "text/plain": [
       "'pineapple'"
      ]
     },
     "execution_count": 48,
     "metadata": {},
     "output_type": "execute_result"
    }
   ],
   "source": [
    "fruit.pop()"
   ]
  },
  {
   "cell_type": "code",
   "execution_count": 49,
   "id": "c6171aa0-4f19-4663-b624-52d96ab36cdd",
   "metadata": {},
   "outputs": [
    {
     "data": {
      "text/plain": [
       "['apricot', 'banana', 'cherry', 'apple']"
      ]
     },
     "execution_count": 49,
     "metadata": {},
     "output_type": "execute_result"
    }
   ],
   "source": [
    "fruit"
   ]
  },
  {
   "cell_type": "code",
   "execution_count": 50,
   "id": "fb3c86f3-b8b3-4a9e-ac83-cb88ac61975f",
   "metadata": {},
   "outputs": [
    {
     "name": "stdout",
     "output_type": "stream",
     "text": [
      "apricot\n",
      "['banana', 'cherry', 'apple']\n"
     ]
    }
   ],
   "source": [
    "discarded_item = fruit.pop(0)\n",
    "print(discarded_item)\n",
    "print(fruit)"
   ]
  },
  {
   "cell_type": "code",
   "execution_count": 52,
   "id": "f44038be-0ab9-41a3-b9aa-0abea1b64fd3",
   "metadata": {},
   "outputs": [
    {
     "data": {
      "text/plain": [
       "[]"
      ]
     },
     "execution_count": 52,
     "metadata": {},
     "output_type": "execute_result"
    }
   ],
   "source": [
    "empty_list = []\n",
    "empty_list"
   ]
  },
  {
   "cell_type": "code",
   "execution_count": 53,
   "id": "40691eaf-24ee-49cc-8746-a9975ea6fa97",
   "metadata": {},
   "outputs": [
    {
     "ename": "IndexError",
     "evalue": "list index out of range",
     "output_type": "error",
     "traceback": [
      "\u001b[0;31m---------------------------------------------------------------------------\u001b[0m",
      "\u001b[0;31mIndexError\u001b[0m                                Traceback (most recent call last)",
      "Cell \u001b[0;32mIn[53], line 1\u001b[0m\n\u001b[0;32m----> 1\u001b[0m \u001b[43mempty_list\u001b[49m\u001b[43m[\u001b[49m\u001b[38;5;241;43m0\u001b[39;49m\u001b[43m]\u001b[49m\n",
      "\u001b[0;31mIndexError\u001b[0m: list index out of range"
     ]
    }
   ],
   "source": [
    "empty_list[0]"
   ]
  },
  {
   "cell_type": "code",
   "execution_count": 54,
   "id": "65613ede-7d28-45ba-9e9b-c1900f37e9e0",
   "metadata": {},
   "outputs": [
    {
     "data": {
      "text/plain": [
       "[]"
      ]
     },
     "execution_count": 54,
     "metadata": {},
     "output_type": "execute_result"
    }
   ],
   "source": [
    "empty_list = list()\n",
    "empty_list"
   ]
  },
  {
   "cell_type": "code",
   "execution_count": 55,
   "id": "905e8066-79fe-472e-a963-2d438b3aa975",
   "metadata": {},
   "outputs": [
    {
     "data": {
      "text/plain": [
       "['apple', 'fruit']"
      ]
     },
     "execution_count": 55,
     "metadata": {},
     "output_type": "execute_result"
    }
   ],
   "source": [
    "list(['apple', 'fruit'])"
   ]
  },
  {
   "cell_type": "code",
   "execution_count": 56,
   "id": "34005ad3-db5f-4127-a498-c2b10b19a402",
   "metadata": {},
   "outputs": [
    {
     "data": {
      "text/plain": [
       "['a', 'p', 'p', 'l', 'e']"
      ]
     },
     "execution_count": 56,
     "metadata": {},
     "output_type": "execute_result"
    }
   ],
   "source": [
    "list('apple')"
   ]
  },
  {
   "cell_type": "markdown",
   "id": "ebf1371e",
   "metadata": {},
   "source": [
    "## Tuples\n",
    "\n",
    "**Tuples** are used to store multiple items in a single variable. They are written with round brackets, `(...)`, and their items are ordered, unchangeable, and allow duplicate values."
   ]
  },
  {
   "cell_type": "code",
   "execution_count": 51,
   "id": "c917909b",
   "metadata": {},
   "outputs": [
    {
     "data": {
      "text/plain": [
       "('Apple', 'Google', 'Microsoft')"
      ]
     },
     "execution_count": 51,
     "metadata": {},
     "output_type": "execute_result"
    }
   ],
   "source": [
    "brands = ('Apple', 'Google', 'Microsoft')\n",
    "brands"
   ]
  },
  {
   "cell_type": "code",
   "execution_count": 61,
   "id": "adefc862-72cf-41e5-8e2d-61b56c02f691",
   "metadata": {},
   "outputs": [
    {
     "data": {
      "text/plain": [
       "'Apple'"
      ]
     },
     "execution_count": 61,
     "metadata": {},
     "output_type": "execute_result"
    }
   ],
   "source": [
    "brands[0]"
   ]
  },
  {
   "cell_type": "code",
   "execution_count": 62,
   "id": "738b1ea3-3cd8-422a-9055-f8473f7076ef",
   "metadata": {},
   "outputs": [
    {
     "ename": "TypeError",
     "evalue": "'tuple' object does not support item assignment",
     "output_type": "error",
     "traceback": [
      "\u001b[0;31m---------------------------------------------------------------------------\u001b[0m",
      "\u001b[0;31mTypeError\u001b[0m                                 Traceback (most recent call last)",
      "Cell \u001b[0;32mIn[62], line 1\u001b[0m\n\u001b[0;32m----> 1\u001b[0m \u001b[43mbrands\u001b[49m\u001b[43m[\u001b[49m\u001b[38;5;241;43m0\u001b[39;49m\u001b[43m]\u001b[49m \u001b[38;5;241m=\u001b[39m \u001b[38;5;124m'\u001b[39m\u001b[38;5;124mDell\u001b[39m\u001b[38;5;124m'\u001b[39m\n",
      "\u001b[0;31mTypeError\u001b[0m: 'tuple' object does not support item assignment"
     ]
    }
   ],
   "source": [
    "brands[0] = 'Dell'"
   ]
  },
  {
   "cell_type": "markdown",
   "id": "f60bf056",
   "metadata": {},
   "source": [
    "It is also possible to use the `tuple()` constructor to make a tuple."
   ]
  },
  {
   "cell_type": "code",
   "execution_count": 63,
   "id": "3c595ef3",
   "metadata": {},
   "outputs": [
    {
     "data": {
      "text/plain": [
       "('apple', 'banana', 'cherry')"
      ]
     },
     "execution_count": 63,
     "metadata": {},
     "output_type": "execute_result"
    }
   ],
   "source": [
    "fruit = ['apple', 'banana', 'cherry']\n",
    "tuple(fruit)"
   ]
  },
  {
   "cell_type": "code",
   "execution_count": 66,
   "id": "0cbecbb2-7f50-4c40-8a11-dcca910a12a6",
   "metadata": {},
   "outputs": [
    {
     "data": {
      "text/plain": [
       "('apple', 'banana', 'cherry')"
      ]
     },
     "execution_count": 66,
     "metadata": {},
     "output_type": "execute_result"
    }
   ],
   "source": [
    "new_fruit = tuple(fruit)\n",
    "new_fruit"
   ]
  },
  {
   "cell_type": "code",
   "execution_count": 64,
   "id": "bde6fe4a-df47-4567-8a09-9a0b70d8603c",
   "metadata": {},
   "outputs": [
    {
     "data": {
      "text/plain": [
       "tuple"
      ]
     },
     "execution_count": 64,
     "metadata": {},
     "output_type": "execute_result"
    }
   ],
   "source": [
    "type(tuple(fruit))"
   ]
  },
  {
   "cell_type": "markdown",
   "id": "1c21c4b8",
   "metadata": {},
   "source": [
    "Though tuples may seem similar to lists, they are often used in different situations and for different purposes. Tuples are immutable, and usually contain a heterogeneous sequence of elements that are accessed via unpacking or indexing. Lists are mutable, and their elements are usually homogeneous and are accessed by iterating over the list."
   ]
  },
  {
   "cell_type": "code",
   "execution_count": 67,
   "id": "4a94269a",
   "metadata": {},
   "outputs": [
    {
     "data": {
      "text/plain": [
       "('Apple', 'Microsoft', 'Google')"
      ]
     },
     "execution_count": 67,
     "metadata": {},
     "output_type": "execute_result"
    }
   ],
   "source": [
    "brands = 'Apple', 'Microsoft', 'Google'\n",
    "brands"
   ]
  },
  {
   "cell_type": "code",
   "execution_count": 68,
   "id": "beed195e",
   "metadata": {},
   "outputs": [],
   "source": [
    "apple, microsoft, google = brands"
   ]
  },
  {
   "cell_type": "code",
   "execution_count": 69,
   "id": "508147ee-cb4a-4b78-912b-9bdd820a4856",
   "metadata": {},
   "outputs": [
    {
     "data": {
      "text/plain": [
       "'Apple'"
      ]
     },
     "execution_count": 69,
     "metadata": {},
     "output_type": "execute_result"
    }
   ],
   "source": [
    "apple"
   ]
  },
  {
   "cell_type": "code",
   "execution_count": 70,
   "id": "914ebd1d-3142-45dd-a257-b35731025fa2",
   "metadata": {},
   "outputs": [
    {
     "data": {
      "text/plain": [
       "'Microsoft'"
      ]
     },
     "execution_count": 70,
     "metadata": {},
     "output_type": "execute_result"
    }
   ],
   "source": [
    "microsoft"
   ]
  },
  {
   "cell_type": "markdown",
   "id": "6511e559",
   "metadata": {},
   "source": [
    "### `zip(*iterable)`\n",
    "\n",
    "The built-in `zip()` function iterates over several iterables in parallel, producing tuples with an item from each one."
   ]
  },
  {
   "cell_type": "code",
   "execution_count": 71,
   "id": "f63bba91",
   "metadata": {},
   "outputs": [
    {
     "data": {
      "text/plain": [
       "('Apple', 'Microsoft', 'Google')"
      ]
     },
     "execution_count": 71,
     "metadata": {},
     "output_type": "execute_result"
    }
   ],
   "source": [
    "brands"
   ]
  },
  {
   "cell_type": "code",
   "execution_count": 73,
   "id": "a3fa5772-3b1c-4ef9-9c87-d142aebd2ee1",
   "metadata": {},
   "outputs": [
    {
     "data": {
      "text/plain": [
       "(200, 125, 300)"
      ]
     },
     "execution_count": 73,
     "metadata": {},
     "output_type": "execute_result"
    }
   ],
   "source": [
    "prices = (200, 125, 300)\n",
    "prices"
   ]
  },
  {
   "cell_type": "code",
   "execution_count": 75,
   "id": "d4a8d8e7",
   "metadata": {},
   "outputs": [
    {
     "data": {
      "text/plain": [
       "[('Apple', 200), ('Microsoft', 125), ('Google', 300)]"
      ]
     },
     "execution_count": 75,
     "metadata": {},
     "output_type": "execute_result"
    }
   ],
   "source": [
    "list(zip(brands, prices))"
   ]
  },
  {
   "cell_type": "markdown",
   "id": "eca01cf5",
   "metadata": {},
   "source": [
    "## Sets\n",
    "\n",
    "A **set** is an unordered, unindexed and unchangeable collection with no duplicate elements. Basic uses include membership testing and eliminating duplicate entries. Set objects also support mathematical operations like union, intersection, difference, and symmetric difference. Sets are written with curly brackets, `{...}`."
   ]
  },
  {
   "cell_type": "code",
   "execution_count": null,
   "id": "7e71bb84",
   "metadata": {},
   "outputs": [],
   "source": [
    "\n"
   ]
  },
  {
   "cell_type": "markdown",
   "id": "9e623e6d",
   "metadata": {},
   "source": [
    "It is also possible to use the `set()` constructor to make a set."
   ]
  },
  {
   "cell_type": "code",
   "execution_count": null,
   "id": "42cb2356",
   "metadata": {},
   "outputs": [],
   "source": [
    "\n"
   ]
  },
  {
   "cell_type": "markdown",
   "id": "49e59e33",
   "metadata": {},
   "source": [
    "### Operations on Sets\n",
    "\n",
    "The *union* is performed using the `|` operator or the `set.union()` method."
   ]
  },
  {
   "cell_type": "code",
   "execution_count": 1,
   "id": "a7e5cf80",
   "metadata": {},
   "outputs": [],
   "source": [
    "# Union\n",
    "\n"
   ]
  },
  {
   "cell_type": "markdown",
   "id": "972c6a70",
   "metadata": {},
   "source": [
    "The *intersection* is performed using the `&` operator or the `set.intersection()` method."
   ]
  },
  {
   "cell_type": "code",
   "execution_count": 2,
   "id": "845e52d8",
   "metadata": {},
   "outputs": [],
   "source": [
    "# Intersection\n",
    "\n"
   ]
  },
  {
   "cell_type": "markdown",
   "id": "8f9f8500",
   "metadata": {},
   "source": [
    "The *difference* is performed using the `-` operator or the `set.difference()` method."
   ]
  },
  {
   "cell_type": "code",
   "execution_count": 3,
   "id": "9def198e",
   "metadata": {},
   "outputs": [],
   "source": [
    "# Difference\n",
    "\n"
   ]
  },
  {
   "cell_type": "code",
   "execution_count": null,
   "id": "a6591ac1",
   "metadata": {},
   "outputs": [],
   "source": []
  },
  {
   "cell_type": "markdown",
   "id": "58621684",
   "metadata": {},
   "source": [
    "The *symmetric difference* is performed using the `^` operator or the `set.symmetric_difference()` method."
   ]
  },
  {
   "cell_type": "code",
   "execution_count": 4,
   "id": "3522945f",
   "metadata": {},
   "outputs": [],
   "source": [
    "# Symmetric Difference\n",
    "\n"
   ]
  },
  {
   "cell_type": "markdown",
   "id": "0d1300c8",
   "metadata": {},
   "source": [
    "### Membership Tests\n",
    "\n",
    "A **membership test** checks whether a specific element is contained in a sequence, such as strings, lists, tuples, or sets. One of the main advantages of using sets in Python is that they are highly optimized for membership tests.\n",
    "\n",
    "The `in` operator works with iterable types, such as lists or strings, in Python. It is used to check if an element is found in the iterable. The in operator returns True if an element is found. It returns False if not."
   ]
  },
  {
   "cell_type": "code",
   "execution_count": null,
   "id": "05e93228",
   "metadata": {},
   "outputs": [],
   "source": []
  },
  {
   "cell_type": "markdown",
   "id": "60a30e2a",
   "metadata": {},
   "source": [
    "## Dictionaries\n",
    "\n",
    "A **dictionary** is used to store values in *key: value* format and it is defined using curly brackets, `{key:value}`. Unlike sequences, which are indexed by a range of numbers, dictionaries are indexed by keys, which can be any immutable type, with the requirement that the keys are unique. "
   ]
  },
  {
   "cell_type": "code",
   "execution_count": null,
   "id": "a2e77a38",
   "metadata": {},
   "outputs": [],
   "source": []
  },
  {
   "cell_type": "markdown",
   "id": "f6ed620f",
   "metadata": {},
   "source": [
    "It is also possible to use the `dict()` constructor to make a dictionary."
   ]
  },
  {
   "cell_type": "code",
   "execution_count": null,
   "id": "a2ee447c",
   "metadata": {},
   "outputs": [],
   "source": []
  },
  {
   "cell_type": "markdown",
   "id": "1d89d6be",
   "metadata": {},
   "source": [
    "You can access the items of a dictionary by referring to its key name, inside square brackets."
   ]
  },
  {
   "cell_type": "code",
   "execution_count": null,
   "id": "d5a52109",
   "metadata": {},
   "outputs": [],
   "source": []
  },
  {
   "cell_type": "markdown",
   "id": "28b17773",
   "metadata": {},
   "source": [
    "### `dict` methods"
   ]
  },
  {
   "cell_type": "markdown",
   "id": "506ca426",
   "metadata": {},
   "source": [
    "`dict.keys()` returns a list containing the dictionary's keys."
   ]
  },
  {
   "cell_type": "code",
   "execution_count": null,
   "id": "6132c30f",
   "metadata": {},
   "outputs": [],
   "source": []
  },
  {
   "cell_type": "markdown",
   "id": "0defe017",
   "metadata": {},
   "source": [
    "`dict.values()` returns a list of all the values in the dictionary."
   ]
  },
  {
   "cell_type": "code",
   "execution_count": null,
   "id": "649306d1",
   "metadata": {},
   "outputs": [],
   "source": []
  },
  {
   "cell_type": "markdown",
   "id": "acee6877",
   "metadata": {},
   "source": [
    "`dict.items()` returns a list containing a tuple for each key value pair."
   ]
  },
  {
   "cell_type": "code",
   "execution_count": null,
   "id": "18a4cfe6",
   "metadata": {},
   "outputs": [],
   "source": []
  },
  {
   "cell_type": "markdown",
   "id": "85498376",
   "metadata": {},
   "source": [
    "# Reading and Writing Files\n",
    "\n",
    "A **module** is a file containing a set of functions you want to include in your application. In order to gain access to the code inside a module we use the `import` statement.\n",
    "\n",
    "##  `os` module\n",
    "\n",
    "The `os` module provides a portable way of using operating system dependent functionality."
   ]
  },
  {
   "cell_type": "code",
   "execution_count": null,
   "id": "89793d28",
   "metadata": {},
   "outputs": [],
   "source": []
  },
  {
   "cell_type": "markdown",
   "id": "72d8b7d5",
   "metadata": {},
   "source": [
    "`os.getcwd()` returns a string representing the current working directory."
   ]
  },
  {
   "cell_type": "code",
   "execution_count": null,
   "id": "6095ba4c",
   "metadata": {},
   "outputs": [],
   "source": []
  },
  {
   "cell_type": "markdown",
   "id": "f56b9363",
   "metadata": {},
   "source": [
    "`os.listdir(path='.')` returns a list containing the names of the entries in the directory given by path."
   ]
  },
  {
   "cell_type": "code",
   "execution_count": null,
   "id": "fd266a46",
   "metadata": {},
   "outputs": [],
   "source": []
  },
  {
   "cell_type": "markdown",
   "id": "79f7d143",
   "metadata": {},
   "source": [
    "## `open(file, mode)`\n",
    "\n",
    "The `open()` built-in function opens a file and returns a corresponding file object."
   ]
  },
  {
   "cell_type": "code",
   "execution_count": null,
   "id": "91ec050d",
   "metadata": {},
   "outputs": [],
   "source": []
  },
  {
   "cell_type": "markdown",
   "id": "ab21a197",
   "metadata": {},
   "source": [
    "The `read()` method reads up bytes from the object and return them. The `readline()` method reads and returns one line from the stream."
   ]
  },
  {
   "cell_type": "code",
   "execution_count": null,
   "id": "1fda5fd1",
   "metadata": {},
   "outputs": [],
   "source": []
  },
  {
   "cell_type": "markdown",
   "id": "d5138a9a",
   "metadata": {},
   "source": [
    "The `close()` method flushes and closes the stream."
   ]
  },
  {
   "cell_type": "code",
   "execution_count": null,
   "id": "d7a0d780",
   "metadata": {},
   "outputs": [],
   "source": []
  },
  {
   "cell_type": "markdown",
   "id": "93370709",
   "metadata": {},
   "source": [
    "The `with` statement is used to wrap the execution of a block with methods defined by a context manager. It ensures you don’t accidentally leave any resources open. "
   ]
  },
  {
   "cell_type": "code",
   "execution_count": null,
   "id": "00f91d99",
   "metadata": {},
   "outputs": [],
   "source": [
    "\n"
   ]
  },
  {
   "cell_type": "code",
   "execution_count": null,
   "id": "4c5ad3d8",
   "metadata": {},
   "outputs": [],
   "source": []
  },
  {
   "cell_type": "markdown",
   "id": "d44977ca",
   "metadata": {},
   "source": [
    "The `write()` method writes the given bytes-like object to the underlying raw stream. The `writelines()` method writes a list of lines to the stream; line separators are not added, so it is usual for each of the lines provided to have a line separator at the end."
   ]
  },
  {
   "cell_type": "markdown",
   "id": "0cc828b8",
   "metadata": {},
   "source": [
    "## `json` module\n",
    "\n",
    "**JSON** (JavaScript Object Notation) is a lightweight data-interchange format. It is easy for humans to read and write. It is easy for machines to parse and generate. JSON is built on two structures: a collection of name/value pairs and an ordered list of values.\n",
    "\n",
    "In Python, the `json` module makes it easy to parse JSON strings and files containing JSON object. To load a .json file, we use the `json.load()` method."
   ]
  },
  {
   "cell_type": "code",
   "execution_count": null,
   "id": "fcb95ca8",
   "metadata": {},
   "outputs": [],
   "source": [
    "\n",
    "\n",
    "\n"
   ]
  },
  {
   "cell_type": "code",
   "execution_count": null,
   "id": "4924b0c3",
   "metadata": {},
   "outputs": [],
   "source": [
    "\n"
   ]
  },
  {
   "cell_type": "markdown",
   "id": "df2bd64a",
   "metadata": {},
   "source": [
    "# Exercises\n",
    "\n",
    "1. Generate a list containing only the names of the capitals from the following dictionary: `{'Italy': 'Rome', 'France': 'Paris', 'Spain': 'Madrid'}`."
   ]
  },
  {
   "cell_type": "code",
   "execution_count": null,
   "id": "9906105b",
   "metadata": {},
   "outputs": [],
   "source": []
  },
  {
   "cell_type": "markdown",
   "id": "e8f3d665",
   "metadata": {},
   "source": [
    "2. Create a .json file containing data about three stocks of your choice: for each of them indicate name, symbol, industry and last closing price."
   ]
  },
  {
   "cell_type": "code",
   "execution_count": null,
   "id": "baeb9598",
   "metadata": {},
   "outputs": [],
   "source": []
  }
 ],
 "metadata": {
  "kernelspec": {
   "display_name": "Python 3 (ipykernel)",
   "language": "python",
   "name": "python3"
  },
  "language_info": {
   "codemirror_mode": {
    "name": "ipython",
    "version": 3
   },
   "file_extension": ".py",
   "mimetype": "text/x-python",
   "name": "python",
   "nbconvert_exporter": "python",
   "pygments_lexer": "ipython3",
   "version": "3.11.5"
  }
 },
 "nbformat": 4,
 "nbformat_minor": 5
}
