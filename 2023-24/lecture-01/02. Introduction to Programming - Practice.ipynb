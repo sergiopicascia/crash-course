{
 "cells": [
  {
   "cell_type": "code",
   "execution_count": 1,
   "id": "cfd5cb6b",
   "metadata": {},
   "outputs": [
    {
     "name": "stdout",
     "output_type": "stream",
     "text": [
      "Hello, world!\n"
     ]
    }
   ],
   "source": [
    "# Your first Python program!\n",
    "print('Hello, world!')"
   ]
  },
  {
   "cell_type": "code",
   "execution_count": 3,
   "id": "6a04b8ee-44d2-4b55-9f84-08feffd4f913",
   "metadata": {},
   "outputs": [
    {
     "name": "stdout",
     "output_type": "stream",
     "text": [
      "Hello, world!\n",
      "Hello, world! 2\n"
     ]
    }
   ],
   "source": [
    "print('Hello, world!')\n",
    "print('Hello, world! 2')"
   ]
  },
  {
   "cell_type": "code",
   "execution_count": 5,
   "id": "963f96ba-b198-420e-a426-a6fc7d07d4a0",
   "metadata": {},
   "outputs": [],
   "source": [
    "import time"
   ]
  },
  {
   "cell_type": "code",
   "execution_count": 11,
   "id": "f2d59357-475f-410b-a0f9-be22eabeb71f",
   "metadata": {},
   "outputs": [
    {
     "name": "stdout",
     "output_type": "stream",
     "text": [
      "Hello, world!\n",
      "Hello, world! 2\n"
     ]
    }
   ],
   "source": [
    "print('Hello, world!')\n",
    "time.sleep(3) # Stop for 3 seconds\n",
    "print('Hello, world! 2')"
   ]
  },
  {
   "cell_type": "code",
   "execution_count": 9,
   "id": "eafc5d23-1628-496c-bfca-44b5bcfe9f99",
   "metadata": {},
   "outputs": [
    {
     "ename": "NameError",
     "evalue": "name 'show' is not defined",
     "output_type": "error",
     "traceback": [
      "\u001b[0;31m---------------------------------------------------------------------------\u001b[0m",
      "\u001b[0;31mNameError\u001b[0m                                 Traceback (most recent call last)",
      "Cell \u001b[0;32mIn[9], line 1\u001b[0m\n\u001b[0;32m----> 1\u001b[0m \u001b[43mshow\u001b[49m(\u001b[38;5;124m'\u001b[39m\u001b[38;5;124mHello, world!\u001b[39m\u001b[38;5;124m'\u001b[39m)\n",
      "\u001b[0;31mNameError\u001b[0m: name 'show' is not defined"
     ]
    }
   ],
   "source": [
    "show('Hello, world!')"
   ]
  },
  {
   "cell_type": "markdown",
   "id": "ad1341b0",
   "metadata": {},
   "source": [
    "# Comments\n",
    "\n",
    "A comment starts with a hash character (`#`) and ends at the end of the physical line. Comments are ignored by the syntax."
   ]
  },
  {
   "cell_type": "code",
   "execution_count": 10,
   "id": "7f1c9389",
   "metadata": {},
   "outputs": [],
   "source": [
    "# This is a comment"
   ]
  }
 ],
 "metadata": {
  "kernelspec": {
   "display_name": "Python 3 (ipykernel)",
   "language": "python",
   "name": "python3"
  },
  "language_info": {
   "codemirror_mode": {
    "name": "ipython",
    "version": 3
   },
   "file_extension": ".py",
   "mimetype": "text/x-python",
   "name": "python",
   "nbconvert_exporter": "python",
   "pygments_lexer": "ipython3",
   "version": "3.11.5"
  }
 },
 "nbformat": 4,
 "nbformat_minor": 5
}
