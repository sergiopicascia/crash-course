{
 "cells": [
  {
   "cell_type": "code",
   "execution_count": 1,
   "id": "cfd5cb6b",
   "metadata": {},
   "outputs": [
    {
     "name": "stdout",
     "output_type": "stream",
     "text": [
      "Hello, world!\n"
     ]
    }
   ],
   "source": [
    "# Your first Python program!\n",
    "print('Hello, world!')"
   ]
  },
  {
   "cell_type": "code",
   "execution_count": 3,
   "id": "6a04b8ee-44d2-4b55-9f84-08feffd4f913",
   "metadata": {},
   "outputs": [
    {
     "name": "stdout",
     "output_type": "stream",
     "text": [
      "Hello, world!\n",
      "Hello, world! 2\n"
     ]
    }
   ],
   "source": [
    "print('Hello, world!')\n",
    "print('Hello, world! 2')"
   ]
  },
  {
   "cell_type": "code",
   "execution_count": 5,
   "id": "963f96ba-b198-420e-a426-a6fc7d07d4a0",
   "metadata": {},
   "outputs": [],
   "source": [
    "import time"
   ]
  },
  {
   "cell_type": "code",
   "execution_count": 11,
   "id": "f2d59357-475f-410b-a0f9-be22eabeb71f",
   "metadata": {},
   "outputs": [
    {
     "name": "stdout",
     "output_type": "stream",
     "text": [
      "Hello, world!\n",
      "Hello, world! 2\n"
     ]
    }
   ],
   "source": [
    "print('Hello, world!')\n",
    "time.sleep(3) # Stop for 3 seconds\n",
    "print('Hello, world! 2')"
   ]
  },
  {
   "cell_type": "code",
   "execution_count": 9,
   "id": "eafc5d23-1628-496c-bfca-44b5bcfe9f99",
   "metadata": {},
   "outputs": [
    {
     "ename": "NameError",
     "evalue": "name 'show' is not defined",
     "output_type": "error",
     "traceback": [
      "\u001b[0;31m---------------------------------------------------------------------------\u001b[0m",
      "\u001b[0;31mNameError\u001b[0m                                 Traceback (most recent call last)",
      "Cell \u001b[0;32mIn[9], line 1\u001b[0m\n\u001b[0;32m----> 1\u001b[0m \u001b[43mshow\u001b[49m(\u001b[38;5;124m'\u001b[39m\u001b[38;5;124mHello, world!\u001b[39m\u001b[38;5;124m'\u001b[39m)\n",
      "\u001b[0;31mNameError\u001b[0m: name 'show' is not defined"
     ]
    }
   ],
   "source": [
    "show('Hello, world!')"
   ]
  },
  {
   "cell_type": "markdown",
   "id": "ad1341b0",
   "metadata": {},
   "source": [
    "# Comments\n",
    "\n",
    "A comment starts with a hash character (`#`) and ends at the end of the physical line. Comments are ignored by the syntax."
   ]
  },
  {
   "cell_type": "code",
   "execution_count": 10,
   "id": "7f1c9389",
   "metadata": {},
   "outputs": [],
   "source": [
    "# This is a comment"
   ]
  },
  {
   "cell_type": "markdown",
   "id": "74808574",
   "metadata": {},
   "source": [
    "# Data Types\n",
    "\n",
    "A **data type** constrains the set of possible values that an expression might take, and defines the set of allowed operations on it. It tells the compiler or interpreter how the programmer intends to use the data. Python supports, among others, basic data types, like *integers* and *strings*, and sequence data types, such as *lists* and *dictionaries*.\n",
    "\n",
    "### `type(object)`\n",
    "The `type()` function returns the type of an object. "
   ]
  },
  {
   "cell_type": "code",
   "execution_count": null,
   "id": "8b1bfbc7",
   "metadata": {},
   "outputs": [],
   "source": []
  },
  {
   "cell_type": "code",
   "execution_count": null,
   "id": "c3fa657b",
   "metadata": {},
   "outputs": [],
   "source": []
  },
  {
   "cell_type": "markdown",
   "id": "973460c6",
   "metadata": {},
   "source": [
    "## Numeric Types\n",
    "\n",
    "There are three distinct numeric types: *integers*, *floating point numbers*, and *complex numbers*:\n",
    "\n",
    "- `int`: integers are zero, positive or negative whole numbers without a fractional part and having unlimited precision\n",
    "- `float`: floating point numbers are positive and negative real numbers with a fractional part denoted by the decimal symbol `.` or the scientific notation `E` or `e`\n",
    "- `complex`: a complex number is a number with real and imaginary components; you must use `j` or `J` as imaginary component"
   ]
  },
  {
   "cell_type": "code",
   "execution_count": 2,
   "id": "6cff667c",
   "metadata": {},
   "outputs": [],
   "source": [
    "# Integers\n",
    "\n"
   ]
  },
  {
   "cell_type": "code",
   "execution_count": 6,
   "id": "5ff19ab6",
   "metadata": {},
   "outputs": [],
   "source": [
    "# Floating Point Numbers\n",
    "\n"
   ]
  },
  {
   "cell_type": "code",
   "execution_count": 9,
   "id": "f8d2018e",
   "metadata": {},
   "outputs": [],
   "source": [
    "# Complex Numbers\n"
   ]
  },
  {
   "cell_type": "markdown",
   "id": "28933711",
   "metadata": {},
   "source": [
    "### Arithmetic Operators\n",
    "\n",
    "In Python, **operators** are special symbols that designate that some sort of computation should be performed. The values that an operator acts on are called operands.\n",
    "\n",
    "**Arithmetic operators** are used to perform mathematical operations like addition, subtraction, multiplication and division.\n",
    "\n",
    "The *addition operator* is `+` and it is used to add two values."
   ]
  },
  {
   "cell_type": "code",
   "execution_count": 10,
   "id": "ee9f84d0",
   "metadata": {},
   "outputs": [],
   "source": [
    "# Addition\n"
   ]
  },
  {
   "cell_type": "markdown",
   "id": "133a6296",
   "metadata": {},
   "source": [
    "The *subtraction operator* is `-` and it is used to subtract the second value from the first one."
   ]
  },
  {
   "cell_type": "code",
   "execution_count": 11,
   "id": "060000f1",
   "metadata": {},
   "outputs": [],
   "source": [
    "# Subtraction\n"
   ]
  },
  {
   "cell_type": "markdown",
   "id": "b9a2f557",
   "metadata": {},
   "source": [
    "The *multiplication operator* is `*` and it is used to find the product of two values."
   ]
  },
  {
   "cell_type": "code",
   "execution_count": 12,
   "id": "59560741",
   "metadata": {},
   "outputs": [],
   "source": [
    "# Multiplication\n"
   ]
  },
  {
   "cell_type": "markdown",
   "id": "0545fd47",
   "metadata": {},
   "source": [
    "The *division operator* is `/` and it is used to find the quotient when first operand is divided by the second."
   ]
  },
  {
   "cell_type": "code",
   "execution_count": 13,
   "id": "b549d51f",
   "metadata": {},
   "outputs": [],
   "source": [
    "# Division (Float)\n"
   ]
  },
  {
   "cell_type": "markdown",
   "id": "6c023145",
   "metadata": {},
   "source": [
    "The *floor division operator* is `//` and it is used to find the floor of the quotient when first operand is divided by the second."
   ]
  },
  {
   "cell_type": "code",
   "execution_count": 14,
   "id": "cd0be461",
   "metadata": {},
   "outputs": [],
   "source": [
    "# Division (Floor)\n"
   ]
  },
  {
   "cell_type": "markdown",
   "id": "864c52d2",
   "metadata": {},
   "source": [
    "The *modulo operator* is `%` and it is used to find the remainder when first operand is divided by the second."
   ]
  },
  {
   "cell_type": "code",
   "execution_count": 15,
   "id": "ec261013",
   "metadata": {},
   "outputs": [],
   "source": [
    "# Modulo\n"
   ]
  },
  {
   "cell_type": "markdown",
   "id": "2e60688e",
   "metadata": {},
   "source": [
    "The *exponential operator* is `**` and it is used to raise the first operand to power of second."
   ]
  },
  {
   "cell_type": "code",
   "execution_count": 16,
   "id": "0766c508",
   "metadata": {},
   "outputs": [],
   "source": [
    "# Exponential\n"
   ]
  },
  {
   "cell_type": "markdown",
   "id": "f8186498",
   "metadata": {},
   "source": [
    "## String Type\n",
    "\n",
    "Textual data in Python is handled with `str` objects, or *strings*. String literals are written in a variety of ways:\n",
    "\n",
    "- single quotes (`'...'`): allow to embed double quotes\n",
    "- double quotes (`\"...\"`): allow to embed single quotes\n",
    "- triple quotes (`'''...'''`, `\"\"\"...\"\"\"`): allow to span over multiple lines"
   ]
  },
  {
   "cell_type": "code",
   "execution_count": 17,
   "id": "09c70336",
   "metadata": {
    "scrolled": true
   },
   "outputs": [],
   "source": [
    "# Single quotes\n"
   ]
  },
  {
   "cell_type": "code",
   "execution_count": 18,
   "id": "7e37699e",
   "metadata": {},
   "outputs": [],
   "source": [
    "# Double quotes\n"
   ]
  },
  {
   "cell_type": "code",
   "execution_count": 19,
   "id": "8e926537",
   "metadata": {},
   "outputs": [],
   "source": [
    "# Triple quotes\n",
    "\n",
    "\n"
   ]
  },
  {
   "cell_type": "markdown",
   "id": "c4549336",
   "metadata": {},
   "source": [
    "### Concatenation\n",
    "\n",
    "You can concatenate two different strings together or the same string multiple times using `+` and the `*` operator respectively."
   ]
  },
  {
   "cell_type": "code",
   "execution_count": 25,
   "id": "5c7be523",
   "metadata": {},
   "outputs": [],
   "source": [
    "# Concatenation of two strings\n"
   ]
  },
  {
   "cell_type": "code",
   "execution_count": 21,
   "id": "99566284",
   "metadata": {},
   "outputs": [],
   "source": [
    "# Concatenation of the same string\n"
   ]
  },
  {
   "cell_type": "markdown",
   "id": "c235aba3",
   "metadata": {},
   "source": [
    "### Escape Character\n",
    "In Python strings, the backslash `\\` is a special character, also called the **escape character**. It is used in representing certain whitespace characters, such as `\\t` and `\\n`."
   ]
  },
  {
   "cell_type": "code",
   "execution_count": null,
   "id": "7ea309b2",
   "metadata": {},
   "outputs": [],
   "source": []
  },
  {
   "cell_type": "markdown",
   "id": "788208e8",
   "metadata": {},
   "source": [
    "Prefixing a special character with `\\` turns it into an ordinary character. This is called *escaping*."
   ]
  },
  {
   "cell_type": "code",
   "execution_count": null,
   "id": "aad27d16",
   "metadata": {
    "scrolled": true
   },
   "outputs": [],
   "source": []
  },
  {
   "cell_type": "markdown",
   "id": "0db13015",
   "metadata": {},
   "source": [
    "### Slicing\n",
    "\n",
    "In Python, sequential types are **zero-indexed**: the positions of the *n* elements inside an object, *indices*, go from *0* to *n-1*."
   ]
  },
  {
   "cell_type": "code",
   "execution_count": null,
   "id": "2b7a53d7",
   "metadata": {},
   "outputs": [],
   "source": []
  },
  {
   "cell_type": "markdown",
   "id": "f52bea93",
   "metadata": {},
   "source": [
    "You can return a range of characters by using the **slice** syntax. Specify the start index and the end index, separated by a colon, to return a part of the string."
   ]
  },
  {
   "cell_type": "code",
   "execution_count": null,
   "id": "56477b38",
   "metadata": {},
   "outputs": [],
   "source": []
  },
  {
   "cell_type": "markdown",
   "id": "11f0c9e6",
   "metadata": {},
   "source": [
    "### Methods\n",
    "\n",
    "Python has a set of *built-in methods* that you can use on strings.\n",
    "\n",
    "`str.capitalize()` returns a copy of the string with its first character capitalized and the rest lowercased"
   ]
  },
  {
   "cell_type": "code",
   "execution_count": null,
   "id": "9a659734",
   "metadata": {
    "scrolled": true
   },
   "outputs": [],
   "source": []
  },
  {
   "cell_type": "markdown",
   "id": "389589d7",
   "metadata": {},
   "source": [
    "`str.lower()` returns a copy of the string with all the cased characters converted to lowercase"
   ]
  },
  {
   "cell_type": "code",
   "execution_count": null,
   "id": "9e4315d2",
   "metadata": {},
   "outputs": [],
   "source": []
  },
  {
   "cell_type": "markdown",
   "id": "b7f82666",
   "metadata": {},
   "source": [
    "`str.upper()` returns a copy of the string with all the cased characters converted to uppercase"
   ]
  },
  {
   "cell_type": "code",
   "execution_count": null,
   "id": "e6796d9d",
   "metadata": {},
   "outputs": [],
   "source": []
  },
  {
   "cell_type": "markdown",
   "id": "0ec0b7a3",
   "metadata": {},
   "source": [
    "`str.strip()` returns a copy of the string with the leading and trailing characters removed"
   ]
  },
  {
   "cell_type": "code",
   "execution_count": null,
   "id": "92896ac4",
   "metadata": {},
   "outputs": [],
   "source": []
  },
  {
   "cell_type": "markdown",
   "id": "b5d59ceb",
   "metadata": {},
   "source": [
    "`str.find(sub)` return the lowest index in the string where substring sub is found"
   ]
  },
  {
   "cell_type": "code",
   "execution_count": null,
   "id": "34d6d819",
   "metadata": {},
   "outputs": [],
   "source": []
  },
  {
   "cell_type": "markdown",
   "id": "11a44080",
   "metadata": {},
   "source": [
    "`str.replace(old, new)` returns a copy of the string with all occurrences of substring *old* replaced by *new*"
   ]
  },
  {
   "cell_type": "code",
   "execution_count": null,
   "id": "61d651b2",
   "metadata": {},
   "outputs": [],
   "source": []
  },
  {
   "cell_type": "markdown",
   "id": "e868f615",
   "metadata": {},
   "source": [
    "`str.format()` performs a string formatting operation"
   ]
  },
  {
   "cell_type": "code",
   "execution_count": null,
   "id": "e15b6f69",
   "metadata": {},
   "outputs": [],
   "source": []
  },
  {
   "cell_type": "markdown",
   "id": "dcda7b3c",
   "metadata": {},
   "source": [
    "## Type Conversion\n",
    "\n",
    "The process of converting the value of one data type (integer, string, float, etc.) to another data type is called **type conversion**. Python has two types of type conversion:\n",
    "- *implicit type conversion*: Python automatically converts one data type to another data type without any user involvement\n",
    "- *explicit type conversion*: users convert the data type of an object to required data type using predefined functions, like `int()`, `float()`, `str()`"
   ]
  },
  {
   "cell_type": "code",
   "execution_count": 34,
   "id": "52215fcd",
   "metadata": {},
   "outputs": [],
   "source": [
    "# Implicit Type Conversion\n",
    "\n",
    "\n"
   ]
  },
  {
   "cell_type": "code",
   "execution_count": 35,
   "id": "a8703a6e",
   "metadata": {},
   "outputs": [],
   "source": [
    "# Explicit Type Conversion\n",
    "\n"
   ]
  },
  {
   "cell_type": "markdown",
   "id": "71404a23",
   "metadata": {},
   "source": [
    "# Variables\n",
    "\n",
    "A **variable** is used to store information to be referenced and manipulated in a computer program. It also provide a way of labeling data with a descriptive name, so our programs can be understood more clearly by the reader and ourselves.\n",
    "\n",
    "In order to create a variable we need to *declare* it; in Python this is done using the name of the variable, followed by the *assignment operator* `=` and the value we want to associate to it."
   ]
  },
  {
   "cell_type": "code",
   "execution_count": 146,
   "id": "b71f7c28",
   "metadata": {},
   "outputs": [],
   "source": [
    "# Variables Declaration\n",
    "\n"
   ]
  },
  {
   "cell_type": "code",
   "execution_count": null,
   "id": "5d925f43",
   "metadata": {},
   "outputs": [],
   "source": []
  },
  {
   "cell_type": "code",
   "execution_count": 36,
   "id": "7d834025",
   "metadata": {},
   "outputs": [],
   "source": [
    "# Update Variables\n",
    "\n"
   ]
  },
  {
   "cell_type": "code",
   "execution_count": null,
   "id": "31902364",
   "metadata": {},
   "outputs": [],
   "source": []
  },
  {
   "cell_type": "markdown",
   "id": "6d25d4b5",
   "metadata": {},
   "source": [
    "## Other Assignment Operators\n",
    "\n",
    "`+=` (add and assign): add right side operand with left side operand and then assign to left operand."
   ]
  },
  {
   "cell_type": "code",
   "execution_count": null,
   "id": "6cf2b0f0",
   "metadata": {},
   "outputs": [],
   "source": [
    "\n"
   ]
  },
  {
   "cell_type": "code",
   "execution_count": null,
   "id": "cca136ed",
   "metadata": {},
   "outputs": [],
   "source": [
    "\n"
   ]
  },
  {
   "cell_type": "markdown",
   "id": "78c6a3c1",
   "metadata": {},
   "source": [
    "`-=` (subtract and assign): subtract right operand from left operand and then assign to left side operand."
   ]
  },
  {
   "cell_type": "code",
   "execution_count": null,
   "id": "51e0d05b",
   "metadata": {},
   "outputs": [],
   "source": [
    "\n"
   ]
  },
  {
   "cell_type": "markdown",
   "id": "940020cc",
   "metadata": {},
   "source": [
    "`*=` (multiply and assign): multiply right operand with left operand and then assign to left operand."
   ]
  },
  {
   "cell_type": "code",
   "execution_count": null,
   "id": "180738ee",
   "metadata": {},
   "outputs": [],
   "source": [
    "\n"
   ]
  },
  {
   "cell_type": "markdown",
   "id": "802581fa",
   "metadata": {},
   "source": [
    "## Object References"
   ]
  },
  {
   "cell_type": "markdown",
   "id": "7128b166",
   "metadata": {},
   "source": [
    "A Python variable is a symbolic name that is a reference or pointer to an object. Once an object is assigned to a variable, you can refer to the object by that name. But the data itself is still contained within the object."
   ]
  },
  {
   "cell_type": "code",
   "execution_count": null,
   "id": "2fecc188",
   "metadata": {},
   "outputs": [],
   "source": []
  },
  {
   "cell_type": "markdown",
   "id": "1f5040f7",
   "metadata": {},
   "source": [
    "Every object that is created is given a number that uniquely identifies it. It is guaranteed that no two objects will have the same identifier during any period in which their lifetimes overlap. The built-in function `id(object)` returns the identity of an object."
   ]
  },
  {
   "cell_type": "code",
   "execution_count": null,
   "id": "1ca0a0ea",
   "metadata": {},
   "outputs": [],
   "source": []
  },
  {
   "cell_type": "code",
   "execution_count": null,
   "id": "ac37a82f",
   "metadata": {},
   "outputs": [],
   "source": []
  },
  {
   "cell_type": "code",
   "execution_count": null,
   "id": "ee5b8f82",
   "metadata": {},
   "outputs": [],
   "source": [
    "\n",
    "\n"
   ]
  },
  {
   "cell_type": "code",
   "execution_count": null,
   "id": "1240338e",
   "metadata": {},
   "outputs": [],
   "source": []
  },
  {
   "cell_type": "markdown",
   "id": "6e6030eb",
   "metadata": {},
   "source": [
    "## Naming Conventions\n",
    "\n",
    "Variable names should be lowercase, with words separated by underscores as necessary to improve readability.\n",
    "\n",
    "The Python language reserves a small set of keywords that designate special language functionality. No object can have the same name as a reserved word. You can see this list any time by typing `help(\"keywords\")` to the Python interpreter."
   ]
  },
  {
   "cell_type": "code",
   "execution_count": null,
   "id": "18b108c8",
   "metadata": {},
   "outputs": [],
   "source": []
  },
  {
   "cell_type": "markdown",
   "id": "a025d227",
   "metadata": {},
   "source": [
    "# Exercises\n",
    "\n",
    "1. Write a program that replaces all the occurrences of the first character of a given string with '?', except for the first character itself, i.e. from `sunglasses` to `sungla??e?`."
   ]
  },
  {
   "cell_type": "code",
   "execution_count": null,
   "id": "10147875",
   "metadata": {},
   "outputs": [],
   "source": []
  },
  {
   "cell_type": "markdown",
   "id": "932d30e0",
   "metadata": {},
   "source": [
    "2. Write a program which given the radius of a circle computes the area and prints `The area of the circle with radius _ is equal to _.`, substituting underscores with the actual values."
   ]
  },
  {
   "cell_type": "code",
   "execution_count": null,
   "id": "3e430655",
   "metadata": {},
   "outputs": [],
   "source": []
  }
 ],
 "metadata": {
  "kernelspec": {
   "display_name": "Python 3 (ipykernel)",
   "language": "python",
   "name": "python3"
  },
  "language_info": {
   "codemirror_mode": {
    "name": "ipython",
    "version": 3
   },
   "file_extension": ".py",
   "mimetype": "text/x-python",
   "name": "python",
   "nbconvert_exporter": "python",
   "pygments_lexer": "ipython3",
   "version": "3.11.5"
  }
 },
 "nbformat": 4,
 "nbformat_minor": 5
}
