{
 "cells": [
  {
   "cell_type": "markdown",
   "id": "ad762ad6",
   "metadata": {},
   "source": [
    "# Loops\n",
    "\n",
    "A **loop** in a computer program is an instruction that repeats until a specified condition is reached.\n",
    "\n",
    "## `for`\n",
    "\n",
    "A `for` loop is used for iterating over a sequence, either a list, a tuple, a dictionary, a set, or a string, and execute a set of statements, once for each item in the sequence.\n",
    "\n",
    "```\n",
    "for <var> in <iterable>:\n",
    "    <statement>\n",
    "```\n",
    "\n",
    "An **iterable** is any Python object capable of returning its members one at a time, permitting it to be iterated over in a for-loop."
   ]
  },
  {
   "cell_type": "code",
   "execution_count": 1,
   "id": "d7b602b3",
   "metadata": {},
   "outputs": [],
   "source": [
    "names = ['Alice', 'Bob', 'Charlie']"
   ]
  },
  {
   "cell_type": "code",
   "execution_count": 2,
   "id": "be6d2dfa-ec09-4bc3-bbe0-56a1b2861b5d",
   "metadata": {},
   "outputs": [
    {
     "name": "stdout",
     "output_type": "stream",
     "text": [
      "Hello, Alice\n",
      "Hello, Bob\n",
      "Hello, Charlie\n"
     ]
    }
   ],
   "source": [
    "print(f'Hello, {names[0]}')\n",
    "print(f'Hello, {names[1]}')\n",
    "print(f'Hello, {names[2]}')"
   ]
  },
  {
   "cell_type": "code",
   "execution_count": 3,
   "id": "c74e69ee-9dc2-45f8-aac2-dcf74be9f49d",
   "metadata": {},
   "outputs": [
    {
     "name": "stdout",
     "output_type": "stream",
     "text": [
      "Hello, Alice\n",
      "Hello, Bob\n",
      "Hello, Charlie\n"
     ]
    }
   ],
   "source": [
    "for n in names:\n",
    "    print(f'Hello, {n}')"
   ]
  },
  {
   "cell_type": "code",
   "execution_count": 4,
   "id": "104da91e-8e2e-44bc-873c-ece57ed57241",
   "metadata": {},
   "outputs": [
    {
     "name": "stdout",
     "output_type": "stream",
     "text": [
      "Hello, ALICE\n",
      "Hello, BOB\n",
      "Hello, CHARLIE\n"
     ]
    }
   ],
   "source": [
    "for n in names:\n",
    "    new_name = n.upper()\n",
    "    print(f'Hello, {new_name}')    "
   ]
  },
  {
   "cell_type": "markdown",
   "id": "db5f2c45",
   "metadata": {},
   "source": [
    "## List Comprehension\n",
    "\n",
    "**List comprehension** offers a shorter syntax when you want to create a new list based on the values of an existing list.\n",
    "\n",
    "```\n",
    "[<statement> for <var> in <iterable>]\n",
    "```"
   ]
  },
  {
   "cell_type": "code",
   "execution_count": 5,
   "id": "0fbc5725",
   "metadata": {},
   "outputs": [],
   "source": [
    "# List comprehension\n",
    "upper_names = []\n",
    "\n",
    "for n in names:\n",
    "    new_name = n.upper()\n",
    "    upper_names.append(new_name)"
   ]
  },
  {
   "cell_type": "code",
   "execution_count": 6,
   "id": "582f2a57-35d3-4b7a-882c-30b39304ae20",
   "metadata": {},
   "outputs": [
    {
     "data": {
      "text/plain": [
       "['ALICE', 'BOB', 'CHARLIE']"
      ]
     },
     "execution_count": 6,
     "metadata": {},
     "output_type": "execute_result"
    }
   ],
   "source": [
    "upper_names"
   ]
  },
  {
   "cell_type": "code",
   "execution_count": 7,
   "id": "4ac523f7-a6a4-4cbc-9440-b2c1d3dc384a",
   "metadata": {},
   "outputs": [],
   "source": [
    "lower_names = [n.lower() for n in names]"
   ]
  },
  {
   "cell_type": "code",
   "execution_count": 8,
   "id": "509176f7-6014-4dec-8367-28a56e0fc5a3",
   "metadata": {},
   "outputs": [
    {
     "data": {
      "text/plain": [
       "['alice', 'bob', 'charlie']"
      ]
     },
     "execution_count": 8,
     "metadata": {},
     "output_type": "execute_result"
    }
   ],
   "source": [
    "lower_names"
   ]
  },
  {
   "cell_type": "markdown",
   "id": "ea50225b",
   "metadata": {},
   "source": [
    "## `while`\n",
    "\n",
    "The `while` loop is used to iterate over a block of code as long as the condition is true.\n",
    "\n",
    "```\n",
    "while <expr>:\n",
    "    <statement>\n",
    "```"
   ]
  },
  {
   "cell_type": "code",
   "execution_count": 9,
   "id": "f8f0353e",
   "metadata": {},
   "outputs": [
    {
     "name": "stdout",
     "output_type": "stream",
     "text": [
      "5\n",
      "4\n",
      "3\n",
      "2\n",
      "1\n"
     ]
    }
   ],
   "source": [
    "i = 5\n",
    "\n",
    "while i > 0:\n",
    "    print(i)\n",
    "    i -= 1 # i = i - 1"
   ]
  },
  {
   "cell_type": "code",
   "execution_count": null,
   "id": "a341d0be-8094-4863-ac24-912c161060df",
   "metadata": {},
   "outputs": [],
   "source": [
    "i = 5\n",
    "\n",
    "while i > 0:\n",
    "    print(i)"
   ]
  },
  {
   "cell_type": "markdown",
   "id": "240902fe",
   "metadata": {},
   "source": [
    "## `break`\n",
    "\n",
    "The `break` statement terminates the current loop and resumes execution at the next statement."
   ]
  },
  {
   "cell_type": "code",
   "execution_count": 11,
   "id": "4ccc12c7-199c-49f1-9b81-9b14256b5d36",
   "metadata": {},
   "outputs": [],
   "source": [
    "names = ['Alice', 'Bob', 'Charlie']"
   ]
  },
  {
   "cell_type": "code",
   "execution_count": 16,
   "id": "1b888254-39cb-426a-8c77-d9f03d0f1d57",
   "metadata": {},
   "outputs": [
    {
     "name": "stdout",
     "output_type": "stream",
     "text": [
      "Bob\n"
     ]
    }
   ],
   "source": [
    "for n in names:\n",
    "    if 'e' not in n:\n",
    "        print(n)"
   ]
  },
  {
   "cell_type": "code",
   "execution_count": 17,
   "id": "062ea024",
   "metadata": {},
   "outputs": [
    {
     "name": "stdout",
     "output_type": "stream",
     "text": [
      "Alice\n"
     ]
    }
   ],
   "source": [
    "for n in names:\n",
    "    if 'e' not in n:\n",
    "        break\n",
    "    print(n)"
   ]
  },
  {
   "cell_type": "markdown",
   "id": "78aa1f1c",
   "metadata": {},
   "source": [
    "## `continue`\n",
    "\n",
    "The `continue` statement rejects all the remaining statements in the current iteration of the loop and moves the control back to the top of the loop."
   ]
  },
  {
   "cell_type": "code",
   "execution_count": 18,
   "id": "88cc48da",
   "metadata": {},
   "outputs": [
    {
     "name": "stdout",
     "output_type": "stream",
     "text": [
      "Alice\n",
      "Charlie\n"
     ]
    }
   ],
   "source": [
    "for n in names:\n",
    "    if 'e' not in n:\n",
    "        continue\n",
    "    print(n)"
   ]
  },
  {
   "cell_type": "markdown",
   "id": "79300cdb",
   "metadata": {},
   "source": [
    "## `pass`\n",
    "\n",
    "The `pass` statement is used when a statement is required syntactically but you do not want any command or code to execute."
   ]
  },
  {
   "cell_type": "code",
   "execution_count": 19,
   "id": "b8043bb4",
   "metadata": {},
   "outputs": [
    {
     "name": "stdout",
     "output_type": "stream",
     "text": [
      "Alice\n",
      "Bob\n",
      "Charlie\n"
     ]
    }
   ],
   "source": [
    "for n in names:\n",
    "    if 'e' not in n:\n",
    "        pass\n",
    "    print(n)"
   ]
  },
  {
   "cell_type": "markdown",
   "id": "e23091af",
   "metadata": {},
   "source": [
    "## `else`\n",
    "\n",
    "The `else` clause executes after the loop completes normally. This means that the loop did not encounter a `break` statement."
   ]
  },
  {
   "cell_type": "code",
   "execution_count": 25,
   "id": "6156b96a",
   "metadata": {},
   "outputs": [
    {
     "name": "stdout",
     "output_type": "stream",
     "text": [
      "Alice\n",
      "Bob\n",
      "Charlie\n",
      "All names printed.\n"
     ]
    }
   ],
   "source": [
    "for n in names:\n",
    "    if 'z' in n:\n",
    "        break\n",
    "    print(n)\n",
    "else:\n",
    "    print('All names printed.')"
   ]
  },
  {
   "cell_type": "markdown",
   "id": "98864818",
   "metadata": {},
   "source": [
    "# Built-In Functions\n",
    "\n",
    "**Built-in functions** are pre-defined in the programming language’s library, for the programming to directly call the functions wherever required in the program for achieving certain functional operations.\n",
    "\n",
    "## `range(start, stop, step)`\n",
    "\n",
    "The `range()` function returns a sequence of numbers, starting from 0 by default, and increments by 1 (by default), and stops before a specified number."
   ]
  },
  {
   "cell_type": "code",
   "execution_count": 26,
   "id": "7995e1c0",
   "metadata": {},
   "outputs": [
    {
     "data": {
      "text/plain": [
       "range(0, 10)"
      ]
     },
     "execution_count": 26,
     "metadata": {},
     "output_type": "execute_result"
    }
   ],
   "source": [
    "range(0, 10)"
   ]
  },
  {
   "cell_type": "code",
   "execution_count": 27,
   "id": "93ff2c3e-2d0a-4020-a083-804866fc87ec",
   "metadata": {},
   "outputs": [
    {
     "data": {
      "text/plain": [
       "range"
      ]
     },
     "execution_count": 27,
     "metadata": {},
     "output_type": "execute_result"
    }
   ],
   "source": [
    "type(range(0, 10))"
   ]
  },
  {
   "cell_type": "code",
   "execution_count": 28,
   "id": "24d80825-8b24-4430-9077-54ee541980a8",
   "metadata": {},
   "outputs": [
    {
     "data": {
      "text/plain": [
       "[0, 1, 2, 3, 4, 5, 6, 7, 8, 9]"
      ]
     },
     "execution_count": 28,
     "metadata": {},
     "output_type": "execute_result"
    }
   ],
   "source": [
    "list(range(0, 10))"
   ]
  },
  {
   "cell_type": "code",
   "execution_count": 29,
   "id": "f4587e24-3232-4117-ad8c-1b063daeb758",
   "metadata": {},
   "outputs": [
    {
     "data": {
      "text/plain": [
       "[0, 2, 4, 6, 8]"
      ]
     },
     "execution_count": 29,
     "metadata": {},
     "output_type": "execute_result"
    }
   ],
   "source": [
    "list(range(0, 10, 2))"
   ]
  },
  {
   "cell_type": "code",
   "execution_count": 30,
   "id": "8f56d87d-3428-403e-a0b5-a9c766af9bd8",
   "metadata": {},
   "outputs": [
    {
     "name": "stdout",
     "output_type": "stream",
     "text": [
      "0\n",
      "1\n",
      "4\n",
      "9\n",
      "16\n",
      "25\n",
      "36\n",
      "49\n",
      "64\n",
      "81\n"
     ]
    }
   ],
   "source": [
    "for i in range(0, 10):\n",
    "    print(i ** 2)"
   ]
  },
  {
   "cell_type": "markdown",
   "id": "9eca5ace",
   "metadata": {},
   "source": [
    "## `enumerate(iterable)`\n",
    "\n",
    "The `enumerate()` function adds a counter to an iterable and returns it."
   ]
  },
  {
   "cell_type": "code",
   "execution_count": 31,
   "id": "f6602cde",
   "metadata": {},
   "outputs": [
    {
     "data": {
      "text/plain": [
       "<enumerate at 0x1070b5210>"
      ]
     },
     "execution_count": 31,
     "metadata": {},
     "output_type": "execute_result"
    }
   ],
   "source": [
    "enumerate(names)"
   ]
  },
  {
   "cell_type": "code",
   "execution_count": 32,
   "id": "76fdcc96-874b-42c1-bede-4cadc11f3ff5",
   "metadata": {},
   "outputs": [
    {
     "data": {
      "text/plain": [
       "[(0, 'Alice'), (1, 'Bob'), (2, 'Charlie')]"
      ]
     },
     "execution_count": 32,
     "metadata": {},
     "output_type": "execute_result"
    }
   ],
   "source": [
    "list(enumerate(names))"
   ]
  },
  {
   "cell_type": "code",
   "execution_count": 33,
   "id": "8d19c406-6a2a-4581-823d-ecc324eb88f9",
   "metadata": {},
   "outputs": [
    {
     "name": "stdout",
     "output_type": "stream",
     "text": [
      "(0, 'Alice')\n",
      "(1, 'Bob')\n",
      "(2, 'Charlie')\n"
     ]
    }
   ],
   "source": [
    "for n in enumerate(names):\n",
    "    print(n)"
   ]
  },
  {
   "cell_type": "code",
   "execution_count": 34,
   "id": "b622378a-90fc-427b-92d2-2cc19dbc80ea",
   "metadata": {},
   "outputs": [
    {
     "name": "stdout",
     "output_type": "stream",
     "text": [
      "The element in position 0 is Alice.\n",
      "The element in position 1 is Bob.\n",
      "The element in position 2 is Charlie.\n"
     ]
    }
   ],
   "source": [
    "for i, n in enumerate(names):\n",
    "    print(f'The element in position {i} is {n}.')"
   ]
  },
  {
   "cell_type": "markdown",
   "id": "adb18256",
   "metadata": {},
   "source": [
    "# Guess the Number!"
   ]
  },
  {
   "cell_type": "code",
   "execution_count": 1,
   "id": "56f35aeb",
   "metadata": {},
   "outputs": [],
   "source": [
    "import random"
   ]
  },
  {
   "cell_type": "code",
   "execution_count": 9,
   "id": "dd47380e-4f3e-4759-9e25-cbaa767b6198",
   "metadata": {},
   "outputs": [],
   "source": [
    "n = random.randint(1, 10)"
   ]
  },
  {
   "cell_type": "code",
   "execution_count": 13,
   "id": "0a8b9d42-5464-4634-9a3b-5c17e3ba3845",
   "metadata": {},
   "outputs": [
    {
     "name": "stdin",
     "output_type": "stream",
     "text": [
      "Make a guess:  8\n"
     ]
    }
   ],
   "source": [
    "guess = input('Make a guess: ')"
   ]
  },
  {
   "cell_type": "code",
   "execution_count": 16,
   "id": "0476bd8d-ceee-40e6-b24e-030fcd3713a2",
   "metadata": {},
   "outputs": [
    {
     "data": {
      "text/plain": [
       "str"
      ]
     },
     "execution_count": 16,
     "metadata": {},
     "output_type": "execute_result"
    }
   ],
   "source": [
    "type(guess)"
   ]
  },
  {
   "cell_type": "code",
   "execution_count": 18,
   "id": "b2278948-0c12-4260-9936-d2a733bd31bf",
   "metadata": {},
   "outputs": [
    {
     "data": {
      "text/plain": [
       "'8'"
      ]
     },
     "execution_count": 18,
     "metadata": {},
     "output_type": "execute_result"
    }
   ],
   "source": [
    "guess"
   ]
  },
  {
   "cell_type": "code",
   "execution_count": 19,
   "id": "77e5cce4-51df-481a-9e45-0c0005607488",
   "metadata": {},
   "outputs": [
    {
     "data": {
      "text/plain": [
       "8"
      ]
     },
     "execution_count": 19,
     "metadata": {},
     "output_type": "execute_result"
    }
   ],
   "source": [
    "int(guess)"
   ]
  },
  {
   "cell_type": "code",
   "execution_count": 20,
   "id": "34457a6f-2a2c-4d9e-acb6-21dd0697a7eb",
   "metadata": {},
   "outputs": [
    {
     "data": {
      "text/plain": [
       "int"
      ]
     },
     "execution_count": 20,
     "metadata": {},
     "output_type": "execute_result"
    }
   ],
   "source": [
    "type(int(guess))"
   ]
  },
  {
   "cell_type": "code",
   "execution_count": 17,
   "id": "e1504944-41ff-4534-9f18-6d8ca3a3f270",
   "metadata": {},
   "outputs": [
    {
     "data": {
      "text/plain": [
       "int"
      ]
     },
     "execution_count": 17,
     "metadata": {},
     "output_type": "execute_result"
    }
   ],
   "source": [
    "type(n)"
   ]
  },
  {
   "cell_type": "code",
   "execution_count": 21,
   "id": "f656fc00-dd56-421f-835a-bfcb7792843d",
   "metadata": {},
   "outputs": [
    {
     "name": "stdout",
     "output_type": "stream",
     "text": [
      "The answer is not correct.\n"
     ]
    }
   ],
   "source": [
    "if n == int(guess):\n",
    "    print('The answer is correct.')\n",
    "else:\n",
    "    print('The answer is not correct.')"
   ]
  },
  {
   "cell_type": "code",
   "execution_count": 22,
   "id": "eee13c70-b247-412e-9156-90b32dbb36e2",
   "metadata": {},
   "outputs": [
    {
     "name": "stdin",
     "output_type": "stream",
     "text": [
      "Make a guess:  3\n"
     ]
    },
    {
     "name": "stdout",
     "output_type": "stream",
     "text": [
      "The answer is not correct.\n"
     ]
    },
    {
     "name": "stdin",
     "output_type": "stream",
     "text": [
      "Make a guess:  6\n"
     ]
    },
    {
     "name": "stdout",
     "output_type": "stream",
     "text": [
      "The answer is not correct.\n"
     ]
    },
    {
     "name": "stdin",
     "output_type": "stream",
     "text": [
      "Make a guess:  8\n"
     ]
    },
    {
     "name": "stdout",
     "output_type": "stream",
     "text": [
      "The answer is not correct.\n"
     ]
    },
    {
     "name": "stdin",
     "output_type": "stream",
     "text": [
      "Make a guess:  9\n"
     ]
    },
    {
     "name": "stdout",
     "output_type": "stream",
     "text": [
      "The answer is not correct.\n"
     ]
    },
    {
     "name": "stdin",
     "output_type": "stream",
     "text": [
      "Make a guess:  2\n"
     ]
    },
    {
     "name": "stdout",
     "output_type": "stream",
     "text": [
      "The answer is correct.\n"
     ]
    }
   ],
   "source": [
    "playing = True\n",
    "\n",
    "while playing:\n",
    "    guess = input('Make a guess: ')\n",
    "    if n == int(guess):\n",
    "        print('The answer is correct.')\n",
    "        playing = False\n",
    "    else:\n",
    "        print('The answer is not correct.')"
   ]
  },
  {
   "cell_type": "code",
   "execution_count": 23,
   "id": "a1f5cd62-a1d3-4f3b-976f-810bdf46407e",
   "metadata": {},
   "outputs": [
    {
     "name": "stdin",
     "output_type": "stream",
     "text": [
      "Make a guess:  8\n"
     ]
    },
    {
     "name": "stdout",
     "output_type": "stream",
     "text": [
      "The answer is not correct.\n"
     ]
    },
    {
     "name": "stdin",
     "output_type": "stream",
     "text": [
      "Make a guess:  2\n"
     ]
    },
    {
     "name": "stdout",
     "output_type": "stream",
     "text": [
      "The answer is correct.\n"
     ]
    }
   ],
   "source": [
    "n = random.randint(1, 10)\n",
    "while True:\n",
    "    guess = input('Make a guess: ')\n",
    "    if n == int(guess):\n",
    "        print('The answer is correct.')\n",
    "        break\n",
    "    else:\n",
    "        print('The answer is not correct.')"
   ]
  },
  {
   "cell_type": "code",
   "execution_count": 25,
   "id": "461f4fc9-ec65-46ea-934a-aa314607129a",
   "metadata": {},
   "outputs": [
    {
     "name": "stdin",
     "output_type": "stream",
     "text": [
      "Make a guess:  1\n"
     ]
    },
    {
     "name": "stdout",
     "output_type": "stream",
     "text": [
      "The answer is not correct.\n",
      "The number to guess is higher.\n"
     ]
    },
    {
     "name": "stdin",
     "output_type": "stream",
     "text": [
      "Make a guess:  7\n"
     ]
    },
    {
     "name": "stdout",
     "output_type": "stream",
     "text": [
      "The answer is not correct.\n",
      "The number to guess is lower.\n"
     ]
    },
    {
     "name": "stdin",
     "output_type": "stream",
     "text": [
      "Make a guess:  4\n"
     ]
    },
    {
     "name": "stdout",
     "output_type": "stream",
     "text": [
      "The answer is not correct.\n",
      "The number to guess is lower.\n"
     ]
    },
    {
     "name": "stdin",
     "output_type": "stream",
     "text": [
      "Make a guess:  3\n"
     ]
    },
    {
     "name": "stdout",
     "output_type": "stream",
     "text": [
      "The answer is not correct.\n",
      "The number to guess is lower.\n"
     ]
    },
    {
     "name": "stdin",
     "output_type": "stream",
     "text": [
      "Make a guess:  2\n"
     ]
    },
    {
     "name": "stdout",
     "output_type": "stream",
     "text": [
      "The answer is correct.\n"
     ]
    }
   ],
   "source": [
    "n = random.randint(1, 10)\n",
    "while True:\n",
    "    guess = int(input('Make a guess: '))\n",
    "    if n == guess:\n",
    "        print('The answer is correct.')\n",
    "        break\n",
    "    else:\n",
    "        print('The answer is not correct.')\n",
    "        if n > guess:\n",
    "            print('The number to guess is higher.')\n",
    "        else:\n",
    "            print('The number to guess is lower.')"
   ]
  },
  {
   "cell_type": "code",
   "execution_count": 27,
   "id": "f3137195-e73e-4cb2-94af-9056ef0e14d0",
   "metadata": {},
   "outputs": [
    {
     "name": "stdin",
     "output_type": "stream",
     "text": [
      "Make a guess:  4\n"
     ]
    },
    {
     "name": "stdout",
     "output_type": "stream",
     "text": [
      "The answer is not correct.\n",
      "The number to guess is higher.\n"
     ]
    },
    {
     "name": "stdin",
     "output_type": "stream",
     "text": [
      "Make a guess:  4\n"
     ]
    },
    {
     "name": "stdout",
     "output_type": "stream",
     "text": [
      "The answer is not correct.\n",
      "The number to guess is higher.\n"
     ]
    },
    {
     "name": "stdin",
     "output_type": "stream",
     "text": [
      "Make a guess:  4\n"
     ]
    },
    {
     "name": "stdout",
     "output_type": "stream",
     "text": [
      "The answer is not correct.\n",
      "The number to guess is higher.\n"
     ]
    },
    {
     "name": "stdin",
     "output_type": "stream",
     "text": [
      "Make a guess:  4\n"
     ]
    },
    {
     "name": "stdout",
     "output_type": "stream",
     "text": [
      "The answer is not correct.\n",
      "The number to guess is higher.\n"
     ]
    },
    {
     "name": "stdin",
     "output_type": "stream",
     "text": [
      "Make a guess:  4\n"
     ]
    },
    {
     "name": "stdout",
     "output_type": "stream",
     "text": [
      "The answer is not correct.\n",
      "The number to guess is higher.\n"
     ]
    },
    {
     "name": "stdin",
     "output_type": "stream",
     "text": [
      "Make a guess:  4\n"
     ]
    },
    {
     "name": "stdout",
     "output_type": "stream",
     "text": [
      "The answer is not correct.\n",
      "The number to guess is higher.\n"
     ]
    },
    {
     "name": "stdin",
     "output_type": "stream",
     "text": [
      "Make a guess:  4\n"
     ]
    },
    {
     "name": "stdout",
     "output_type": "stream",
     "text": [
      "The answer is not correct.\n",
      "The number to guess is higher.\n"
     ]
    },
    {
     "name": "stdin",
     "output_type": "stream",
     "text": [
      "Make a guess:  4\n"
     ]
    },
    {
     "name": "stdout",
     "output_type": "stream",
     "text": [
      "The answer is not correct.\n",
      "The number to guess is higher.\n"
     ]
    },
    {
     "name": "stdin",
     "output_type": "stream",
     "text": [
      "Make a guess:  4\n"
     ]
    },
    {
     "name": "stdout",
     "output_type": "stream",
     "text": [
      "The answer is not correct.\n",
      "The number to guess is higher.\n"
     ]
    },
    {
     "name": "stdin",
     "output_type": "stream",
     "text": [
      "Make a guess:  4\n"
     ]
    },
    {
     "name": "stdout",
     "output_type": "stream",
     "text": [
      "The answer is not correct.\n",
      "The number to guess is higher.\n"
     ]
    },
    {
     "name": "stdin",
     "output_type": "stream",
     "text": [
      "Make a guess:  4\n"
     ]
    },
    {
     "name": "stdout",
     "output_type": "stream",
     "text": [
      "The answer is not correct.\n",
      "The number to guess is higher.\n"
     ]
    },
    {
     "name": "stdin",
     "output_type": "stream",
     "text": [
      "Make a guess:  4\n"
     ]
    },
    {
     "name": "stdout",
     "output_type": "stream",
     "text": [
      "The answer is not correct.\n",
      "The number to guess is higher.\n"
     ]
    },
    {
     "name": "stdin",
     "output_type": "stream",
     "text": [
      "Make a guess:  4\n"
     ]
    },
    {
     "name": "stdout",
     "output_type": "stream",
     "text": [
      "The answer is not correct.\n",
      "The number to guess is higher.\n"
     ]
    },
    {
     "name": "stdin",
     "output_type": "stream",
     "text": [
      "Make a guess:  4\n"
     ]
    },
    {
     "name": "stdout",
     "output_type": "stream",
     "text": [
      "The answer is not correct.\n",
      "The number to guess is higher.\n"
     ]
    },
    {
     "name": "stdin",
     "output_type": "stream",
     "text": [
      "Make a guess:  4\n"
     ]
    },
    {
     "name": "stdout",
     "output_type": "stream",
     "text": [
      "The answer is not correct.\n",
      "The number to guess is higher.\n"
     ]
    },
    {
     "name": "stdin",
     "output_type": "stream",
     "text": [
      "Make a guess:  4\n"
     ]
    },
    {
     "name": "stdout",
     "output_type": "stream",
     "text": [
      "The answer is not correct.\n",
      "The number to guess is higher.\n"
     ]
    },
    {
     "name": "stdin",
     "output_type": "stream",
     "text": [
      "Make a guess:  4\n"
     ]
    },
    {
     "name": "stdout",
     "output_type": "stream",
     "text": [
      "The answer is not correct.\n",
      "The number to guess is higher.\n"
     ]
    },
    {
     "name": "stdin",
     "output_type": "stream",
     "text": [
      "Make a guess:  4\n"
     ]
    },
    {
     "name": "stdout",
     "output_type": "stream",
     "text": [
      "The answer is not correct.\n",
      "The number to guess is higher.\n"
     ]
    },
    {
     "name": "stdin",
     "output_type": "stream",
     "text": [
      "Make a guess:  4\n"
     ]
    },
    {
     "name": "stdout",
     "output_type": "stream",
     "text": [
      "The answer is not correct.\n",
      "The number to guess is higher.\n"
     ]
    },
    {
     "name": "stdin",
     "output_type": "stream",
     "text": [
      "Make a guess:  4\n"
     ]
    },
    {
     "name": "stdout",
     "output_type": "stream",
     "text": [
      "The answer is not correct.\n",
      "The number to guess is higher.\n"
     ]
    },
    {
     "name": "stdin",
     "output_type": "stream",
     "text": [
      "Make a guess:  4\n"
     ]
    },
    {
     "name": "stdout",
     "output_type": "stream",
     "text": [
      "The answer is not correct.\n",
      "The number to guess is higher.\n"
     ]
    },
    {
     "name": "stdin",
     "output_type": "stream",
     "text": [
      "Make a guess:  4\n"
     ]
    },
    {
     "name": "stdout",
     "output_type": "stream",
     "text": [
      "The answer is not correct.\n",
      "The number to guess is higher.\n"
     ]
    },
    {
     "name": "stdin",
     "output_type": "stream",
     "text": [
      "Make a guess:  4\n"
     ]
    },
    {
     "name": "stdout",
     "output_type": "stream",
     "text": [
      "The answer is not correct.\n",
      "The number to guess is higher.\n"
     ]
    },
    {
     "name": "stdin",
     "output_type": "stream",
     "text": [
      "Make a guess:  4\n"
     ]
    },
    {
     "name": "stdout",
     "output_type": "stream",
     "text": [
      "The answer is not correct.\n",
      "The number to guess is higher.\n"
     ]
    },
    {
     "name": "stdin",
     "output_type": "stream",
     "text": [
      "Make a guess:  4\n"
     ]
    },
    {
     "name": "stdout",
     "output_type": "stream",
     "text": [
      "The answer is not correct.\n",
      "The number to guess is higher.\n"
     ]
    },
    {
     "name": "stdin",
     "output_type": "stream",
     "text": [
      "Make a guess:  4\n"
     ]
    },
    {
     "name": "stdout",
     "output_type": "stream",
     "text": [
      "The answer is not correct.\n",
      "The number to guess is higher.\n"
     ]
    },
    {
     "name": "stdin",
     "output_type": "stream",
     "text": [
      "Make a guess:  4\n"
     ]
    },
    {
     "name": "stdout",
     "output_type": "stream",
     "text": [
      "The answer is not correct.\n",
      "The number to guess is higher.\n"
     ]
    },
    {
     "name": "stdin",
     "output_type": "stream",
     "text": [
      "Make a guess:  4\n"
     ]
    },
    {
     "name": "stdout",
     "output_type": "stream",
     "text": [
      "The answer is not correct.\n",
      "The number to guess is higher.\n"
     ]
    },
    {
     "name": "stdin",
     "output_type": "stream",
     "text": [
      "Make a guess:  4\n"
     ]
    },
    {
     "name": "stdout",
     "output_type": "stream",
     "text": [
      "The answer is not correct.\n",
      "The number to guess is higher.\n"
     ]
    },
    {
     "name": "stdin",
     "output_type": "stream",
     "text": [
      "Make a guess:  4\n"
     ]
    },
    {
     "name": "stdout",
     "output_type": "stream",
     "text": [
      "The answer is not correct.\n",
      "The number to guess is higher.\n"
     ]
    },
    {
     "name": "stdin",
     "output_type": "stream",
     "text": [
      "Make a guess:  4\n"
     ]
    },
    {
     "name": "stdout",
     "output_type": "stream",
     "text": [
      "The answer is not correct.\n",
      "The number to guess is higher.\n"
     ]
    },
    {
     "name": "stdin",
     "output_type": "stream",
     "text": [
      "Make a guess:  4\n"
     ]
    },
    {
     "name": "stdout",
     "output_type": "stream",
     "text": [
      "The answer is not correct.\n",
      "The number to guess is higher.\n"
     ]
    },
    {
     "name": "stdin",
     "output_type": "stream",
     "text": [
      "Make a guess:  6\n"
     ]
    },
    {
     "name": "stdout",
     "output_type": "stream",
     "text": [
      "The answer is not correct.\n",
      "The number to guess is higher.\n"
     ]
    },
    {
     "name": "stdin",
     "output_type": "stream",
     "text": [
      "Make a guess:  8\n"
     ]
    },
    {
     "name": "stdout",
     "output_type": "stream",
     "text": [
      "The answer is not correct.\n",
      "The number to guess is lower.\n"
     ]
    },
    {
     "name": "stdin",
     "output_type": "stream",
     "text": [
      "Make a guess:  7\n"
     ]
    },
    {
     "name": "stdout",
     "output_type": "stream",
     "text": [
      "The answer is correct.\n",
      "It took you 35 attempts.\n"
     ]
    }
   ],
   "source": [
    "n = random.randint(1, 10)\n",
    "attempts = 0\n",
    "\n",
    "while True:\n",
    "    guess = int(input('Make a guess: '))\n",
    "    attempts += 1\n",
    "    if n == guess:\n",
    "        print('The answer is correct.')\n",
    "        break\n",
    "    else:\n",
    "        print('The answer is not correct.')\n",
    "        if n > guess:\n",
    "            print('The number to guess is higher.')\n",
    "        else:\n",
    "            print('The number to guess is lower.')\n",
    "\n",
    "print(f'It took you {attempts} attempts.')"
   ]
  },
  {
   "cell_type": "code",
   "execution_count": 28,
   "id": "ce000bb6-23cb-446d-a15e-7be83ff17f6d",
   "metadata": {},
   "outputs": [
    {
     "name": "stdin",
     "output_type": "stream",
     "text": [
      "Make a guess:  4\n"
     ]
    },
    {
     "name": "stdout",
     "output_type": "stream",
     "text": [
      "The answer is not correct.\n",
      "The number to guess is lower.\n"
     ]
    },
    {
     "name": "stdin",
     "output_type": "stream",
     "text": [
      "Make a guess:  3\n"
     ]
    },
    {
     "name": "stdout",
     "output_type": "stream",
     "text": [
      "The answer is not correct.\n",
      "The number to guess is lower.\n"
     ]
    },
    {
     "name": "stdin",
     "output_type": "stream",
     "text": [
      "Make a guess:  2\n"
     ]
    },
    {
     "name": "stdout",
     "output_type": "stream",
     "text": [
      "The answer is not correct.\n",
      "The number to guess is lower.\n"
     ]
    },
    {
     "name": "stdin",
     "output_type": "stream",
     "text": [
      "Make a guess:  1\n"
     ]
    },
    {
     "name": "stdout",
     "output_type": "stream",
     "text": [
      "The answer is correct.\n",
      "It took you 1 attempts.\n"
     ]
    }
   ],
   "source": [
    "n = random.randint(1, 10)\n",
    "\n",
    "while True:\n",
    "    attempts = 0 # resets its value each time it enters the while loop\n",
    "    guess = int(input('Make a guess: '))\n",
    "    attempts += 1\n",
    "    if n == guess:\n",
    "        print('The answer is correct.')\n",
    "        break\n",
    "    else:\n",
    "        print('The answer is not correct.')\n",
    "        if n > guess:\n",
    "            print('The number to guess is higher.')\n",
    "        else:\n",
    "            print('The number to guess is lower.')\n",
    "\n",
    "print(f'It took you {attempts} attempts.')"
   ]
  },
  {
   "cell_type": "markdown",
   "id": "5ce72696",
   "metadata": {},
   "source": [
    "# Exercise\n",
    "\n",
    "Write a 'Rock, Paper, Scissors' game in which you play against the computer.  \n",
    "    *Optional*: make it a best of three! Play for three consecutive times and keep track of the scores.  \n",
    "    *Hint*: in order to let the computer make its choice, you want to use `random.choice(['rock', 'paper', 'scissors'])`."
   ]
  },
  {
   "cell_type": "code",
   "execution_count": 38,
   "id": "f66dba85",
   "metadata": {},
   "outputs": [],
   "source": [
    "computer_move = random.choice(['rock', 'paper', 'scissors'])"
   ]
  },
  {
   "cell_type": "code",
   "execution_count": 45,
   "id": "fb9f78ef-c879-4bbf-b857-2b542eaf2635",
   "metadata": {},
   "outputs": [
    {
     "name": "stdin",
     "output_type": "stream",
     "text": [
      "Enter your move:  abc\n"
     ]
    }
   ],
   "source": [
    "player_move = input('Enter your move: ')"
   ]
  },
  {
   "cell_type": "code",
   "execution_count": 49,
   "id": "83255ba4-5730-4318-bd19-e7cf871356fb",
   "metadata": {},
   "outputs": [
    {
     "name": "stdout",
     "output_type": "stream",
     "text": [
      "Invalid move.\n"
     ]
    }
   ],
   "source": [
    "if computer_move == player_move:\n",
    "    print('It is a draw.')\n",
    "elif player_move == 'rock':\n",
    "    if computer_move == 'scissors':\n",
    "        print('Player wins.')\n",
    "    else:\n",
    "        print('Computer wins.')\n",
    "elif player_move == 'scissors':\n",
    "    if computer_move == 'paper':\n",
    "        print('Player wins.')\n",
    "    else:\n",
    "        print('Computer wins.')\n",
    "elif player_move == 'paper':\n",
    "    if computer_move == 'rock':\n",
    "        print('Player wins.')\n",
    "    else:\n",
    "        print('Computer wins.')\n",
    "else:\n",
    "    print('Invalid move.')"
   ]
  },
  {
   "cell_type": "code",
   "execution_count": 51,
   "id": "5da25fcd-b227-42c7-89d0-46dece86d336",
   "metadata": {},
   "outputs": [
    {
     "name": "stdin",
     "output_type": "stream",
     "text": [
      "Enter your move:  scissors\n"
     ]
    },
    {
     "name": "stdout",
     "output_type": "stream",
     "text": [
      "The computer plays scissors.\n",
      "The player plays scissors.\n",
      "It is a draw.\n"
     ]
    }
   ],
   "source": [
    "computer_move = random.choice(['rock', 'paper', 'scissors'])\n",
    "player_move = input('Enter your move: ')\n",
    "\n",
    "print(f'The computer plays {computer_move}.\\nThe player plays {player_move}.')\n",
    "\n",
    "if computer_move == player_move:\n",
    "    print('It is a draw.')\n",
    "elif player_move == 'rock':\n",
    "    if computer_move == 'scissors':\n",
    "        print('Player wins.')\n",
    "    else:\n",
    "        print('Computer wins.')\n",
    "elif player_move == 'scissors':\n",
    "    if computer_move == 'paper':\n",
    "        print('Player wins.')\n",
    "    else:\n",
    "        print('Computer wins.')\n",
    "elif player_move == 'paper':\n",
    "    if computer_move == 'rock':\n",
    "        print('Player wins.')\n",
    "    else:\n",
    "        print('Computer wins.')\n",
    "else:\n",
    "    print('Invalid move.')"
   ]
  },
  {
   "cell_type": "code",
   "execution_count": 67,
   "id": "822202f9-d11e-45b7-ab24-b811779be460",
   "metadata": {},
   "outputs": [
    {
     "name": "stdin",
     "output_type": "stream",
     "text": [
      "Enter the number of rounds:  3\n"
     ]
    }
   ],
   "source": [
    "player_score = 0\n",
    "computer_score = 0\n",
    "n_rounds = int(input('Enter the number of rounds: '))"
   ]
  },
  {
   "cell_type": "code",
   "execution_count": 55,
   "id": "f91efdae-0750-4612-b0d6-64a5145557ab",
   "metadata": {},
   "outputs": [
    {
     "data": {
      "text/plain": [
       "[0, 1, 2, 3, 4]"
      ]
     },
     "execution_count": 55,
     "metadata": {},
     "output_type": "execute_result"
    }
   ],
   "source": [
    "list(range(n_rounds))"
   ]
  },
  {
   "cell_type": "code",
   "execution_count": 59,
   "id": "74729553-b910-45f5-a9b1-e08e4279540c",
   "metadata": {},
   "outputs": [
    {
     "data": {
      "text/plain": [
       "[1, 2, 3, 4, 5]"
      ]
     },
     "execution_count": 59,
     "metadata": {},
     "output_type": "execute_result"
    }
   ],
   "source": [
    "list(range(1, n_rounds+1))"
   ]
  },
  {
   "cell_type": "code",
   "execution_count": 70,
   "id": "0fd6d41f-cf61-4ec9-a8f1-679c14ccf147",
   "metadata": {},
   "outputs": [
    {
     "name": "stdout",
     "output_type": "stream",
     "text": [
      "Round 1\n"
     ]
    },
    {
     "name": "stdin",
     "output_type": "stream",
     "text": [
      "Enter your move:  abc\n"
     ]
    },
    {
     "name": "stdout",
     "output_type": "stream",
     "text": [
      "Invalid move.\n"
     ]
    },
    {
     "name": "stdin",
     "output_type": "stream",
     "text": [
      "Enter your move:  abc\n"
     ]
    },
    {
     "name": "stdout",
     "output_type": "stream",
     "text": [
      "Invalid move.\n"
     ]
    },
    {
     "name": "stdin",
     "output_type": "stream",
     "text": [
      "Enter your move:  rock\n"
     ]
    },
    {
     "name": "stdout",
     "output_type": "stream",
     "text": [
      "The computer plays rock.\n",
      "The player plays rock.\n",
      "It is a draw.\n",
      "Round 2\n"
     ]
    },
    {
     "name": "stdin",
     "output_type": "stream",
     "text": [
      "Enter your move:  342\n"
     ]
    },
    {
     "name": "stdout",
     "output_type": "stream",
     "text": [
      "Invalid move.\n"
     ]
    },
    {
     "name": "stdin",
     "output_type": "stream",
     "text": [
      "Enter your move:  345426\n"
     ]
    },
    {
     "name": "stdout",
     "output_type": "stream",
     "text": [
      "Invalid move.\n"
     ]
    },
    {
     "name": "stdin",
     "output_type": "stream",
     "text": [
      "Enter your move:  643573\n"
     ]
    },
    {
     "name": "stdout",
     "output_type": "stream",
     "text": [
      "Invalid move.\n"
     ]
    },
    {
     "name": "stdin",
     "output_type": "stream",
     "text": [
      "Enter your move:  scissors\n"
     ]
    },
    {
     "name": "stdout",
     "output_type": "stream",
     "text": [
      "The computer plays paper.\n",
      "The player plays scissors.\n",
      "Player wins.\n",
      "Round 3\n"
     ]
    },
    {
     "name": "stdin",
     "output_type": "stream",
     "text": [
      "Enter your move:  paper\n"
     ]
    },
    {
     "name": "stdout",
     "output_type": "stream",
     "text": [
      "The computer plays paper.\n",
      "The player plays paper.\n",
      "It is a draw.\n",
      "Computer score: 0\n",
      "Player score: 1\n",
      "Player wins.\n"
     ]
    }
   ],
   "source": [
    "allowed_moves = ['rock', 'paper', 'scissors']\n",
    "\n",
    "for i in range(1, n_rounds+1):\n",
    "    print(f'Round {i}')\n",
    "    \n",
    "    computer_move = random.choice(allowed_moves)\n",
    "    while True:\n",
    "        player_move = input('Enter your move: ')\n",
    "        if player_move in allowed_moves:\n",
    "            break\n",
    "        else:\n",
    "            print('Invalid move.')\n",
    "    \n",
    "    print(f'The computer plays {computer_move}.\\nThe player plays {player_move}.')\n",
    "    \n",
    "    if computer_move == player_move:\n",
    "        print('It is a draw.')\n",
    "    elif player_move == 'rock':\n",
    "        if computer_move == 'scissors':\n",
    "            print('Player wins.')\n",
    "            player_score += 1\n",
    "        else:\n",
    "            print('Computer wins.')\n",
    "            computer_score += 1\n",
    "    elif player_move == 'scissors':\n",
    "        if computer_move == 'paper':\n",
    "            print('Player wins.')\n",
    "            player_score += 1\n",
    "        else:\n",
    "            print('Computer wins.')\n",
    "            computer_score += 1\n",
    "    else:\n",
    "        if computer_move == 'rock':\n",
    "            print('Player wins.')\n",
    "            player_score += 1\n",
    "        else:\n",
    "            print('Computer wins.')\n",
    "            computer_score += 1\n",
    "\n",
    "print(f'Computer score: {computer_score}\\nPlayer score: {player_score}')\n",
    "if computer_score == player_score:\n",
    "    print('It is a draw.')\n",
    "elif computer_score > player_score:\n",
    "    print('Computer wins.')\n",
    "else:\n",
    "    print('Player wins.')"
   ]
  },
  {
   "cell_type": "code",
   "execution_count": null,
   "id": "8d3813a4-1fef-4c7e-a6d4-e4f86b96d769",
   "metadata": {},
   "outputs": [],
   "source": []
  }
 ],
 "metadata": {
  "kernelspec": {
   "display_name": "Python 3 (ipykernel)",
   "language": "python",
   "name": "python3"
  },
  "language_info": {
   "codemirror_mode": {
    "name": "ipython",
    "version": 3
   },
   "file_extension": ".py",
   "mimetype": "text/x-python",
   "name": "python",
   "nbconvert_exporter": "python",
   "pygments_lexer": "ipython3",
   "version": "3.11.5"
  }
 },
 "nbformat": 4,
 "nbformat_minor": 5
}
