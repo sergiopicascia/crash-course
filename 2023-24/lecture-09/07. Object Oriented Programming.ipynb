{
 "cells": [
  {
   "cell_type": "code",
   "execution_count": 1,
   "id": "edec8155-c61d-4b65-97f7-ddb0fd313eba",
   "metadata": {},
   "outputs": [
    {
     "data": {
      "text/plain": [
       "str"
      ]
     },
     "execution_count": 1,
     "metadata": {},
     "output_type": "execute_result"
    }
   ],
   "source": [
    "type('hello')"
   ]
  },
  {
   "cell_type": "code",
   "execution_count": 2,
   "id": "88ffca84-4e37-4181-92c1-64f6afcdb4b3",
   "metadata": {},
   "outputs": [
    {
     "name": "stdout",
     "output_type": "stream",
     "text": [
      "<class 'str'>\n"
     ]
    }
   ],
   "source": [
    "print(type('hello'))"
   ]
  },
  {
   "cell_type": "markdown",
   "id": "b8ad3cde",
   "metadata": {},
   "source": [
    "# Object Oriented Programming\n",
    "\n",
    "**Object oriented programming** (OOP) is a programming paradigm that relies on the concept of classes and objects. It is used to structure a software program into simple, reusable pieces of code blueprints (usually called classes), which are used to create individual instances of objects.\n",
    "\n",
    "## Class\n",
    "A **class** is a blueprint for how something should be defined. It doesn’t actually contain any data.\n",
    "\n",
    "## Object\n",
    "An **object** is the instance of a class. Almost everything in Python is an object, with its properties and methods.\n",
    "\n",
    "### `isinstance(object, classinfo)`\n",
    "\n",
    "The `isinstance()` function returns `True` if the *object* argument is an instance of the *classinfo* argument."
   ]
  },
  {
   "cell_type": "code",
   "execution_count": 4,
   "id": "4b3a0841",
   "metadata": {},
   "outputs": [
    {
     "data": {
      "text/plain": [
       "True"
      ]
     },
     "execution_count": 4,
     "metadata": {},
     "output_type": "execute_result"
    }
   ],
   "source": [
    "isinstance('hello', str)"
   ]
  },
  {
   "cell_type": "code",
   "execution_count": 5,
   "id": "4cf03400-abfd-418d-a363-670ce65d4ef8",
   "metadata": {},
   "outputs": [
    {
     "data": {
      "text/plain": [
       "False"
      ]
     },
     "execution_count": 5,
     "metadata": {},
     "output_type": "execute_result"
    }
   ],
   "source": [
    "isinstance(2.45, int)"
   ]
  },
  {
   "cell_type": "code",
   "execution_count": 6,
   "id": "2c773541-ad45-41d4-911c-0950e10c2b0f",
   "metadata": {},
   "outputs": [
    {
     "data": {
      "text/plain": [
       "'Alice'"
      ]
     },
     "execution_count": 6,
     "metadata": {},
     "output_type": "execute_result"
    }
   ],
   "source": [
    "'alice'.capitalize()"
   ]
  },
  {
   "cell_type": "code",
   "execution_count": 7,
   "id": "ea38c24f-eca0-445c-afe5-57a2108a8330",
   "metadata": {},
   "outputs": [
    {
     "ename": "AttributeError",
     "evalue": "'list' object has no attribute 'capitalize'",
     "output_type": "error",
     "traceback": [
      "\u001b[0;31m---------------------------------------------------------------------------\u001b[0m",
      "\u001b[0;31mAttributeError\u001b[0m                            Traceback (most recent call last)",
      "Cell \u001b[0;32mIn[7], line 1\u001b[0m\n\u001b[0;32m----> 1\u001b[0m \u001b[43m[\u001b[49m\u001b[38;5;124;43m'\u001b[39;49m\u001b[38;5;124;43malice\u001b[39;49m\u001b[38;5;124;43m'\u001b[39;49m\u001b[43m,\u001b[49m\u001b[43m \u001b[49m\u001b[38;5;124;43m'\u001b[39;49m\u001b[38;5;124;43mbob\u001b[39;49m\u001b[38;5;124;43m'\u001b[39;49m\u001b[43m]\u001b[49m\u001b[38;5;241;43m.\u001b[39;49m\u001b[43mcapitalize\u001b[49m()\n",
      "\u001b[0;31mAttributeError\u001b[0m: 'list' object has no attribute 'capitalize'"
     ]
    }
   ],
   "source": [
    "['alice', 'bob'].capitalize()"
   ]
  },
  {
   "cell_type": "code",
   "execution_count": 9,
   "id": "151f72c1-7a3f-48c5-af02-c060f43ad9af",
   "metadata": {},
   "outputs": [
    {
     "data": {
      "text/plain": [
       "'Bob'"
      ]
     },
     "execution_count": 9,
     "metadata": {},
     "output_type": "execute_result"
    }
   ],
   "source": [
    "['alice', 'bob'][1].capitalize()"
   ]
  },
  {
   "cell_type": "code",
   "execution_count": 10,
   "id": "e6693cbf-4c33-437d-9d12-e2a9e6ae2001",
   "metadata": {},
   "outputs": [
    {
     "data": {
      "text/plain": [
       "list"
      ]
     },
     "execution_count": 10,
     "metadata": {},
     "output_type": "execute_result"
    }
   ],
   "source": [
    "names = ['alice', 'bob']\n",
    "type(names)"
   ]
  },
  {
   "cell_type": "code",
   "execution_count": 12,
   "id": "f63be349-ff2d-4c2f-b6d2-fe088ece2a54",
   "metadata": {},
   "outputs": [
    {
     "data": {
      "text/plain": [
       "'alice'"
      ]
     },
     "execution_count": 12,
     "metadata": {},
     "output_type": "execute_result"
    }
   ],
   "source": [
    "names[0]"
   ]
  },
  {
   "cell_type": "code",
   "execution_count": 11,
   "id": "503d168e-a77b-4608-ad74-b69e0b47cd29",
   "metadata": {},
   "outputs": [
    {
     "data": {
      "text/plain": [
       "str"
      ]
     },
     "execution_count": 11,
     "metadata": {},
     "output_type": "execute_result"
    }
   ],
   "source": [
    "type(names[0])"
   ]
  },
  {
   "cell_type": "code",
   "execution_count": 13,
   "id": "f427114e-a184-4376-bf64-9a552028f964",
   "metadata": {},
   "outputs": [],
   "source": [
    "names.append('charlie')"
   ]
  },
  {
   "cell_type": "code",
   "execution_count": 14,
   "id": "ae135142-30de-454a-8754-d6653d91fa9e",
   "metadata": {},
   "outputs": [
    {
     "data": {
      "text/plain": [
       "['alice', 'bob', 'charlie']"
      ]
     },
     "execution_count": 14,
     "metadata": {},
     "output_type": "execute_result"
    }
   ],
   "source": [
    "names.capitalize()[0]"
   ]
  },
  {
   "cell_type": "code",
   "execution_count": null,
   "id": "e9697311-87fb-4b92-ac59-156ec379ea62",
   "metadata": {},
   "outputs": [],
   "source": [
    "names[0].capitalize()"
   ]
  },
  {
   "cell_type": "markdown",
   "id": "ae14549f",
   "metadata": {},
   "source": [
    "The simplest form of class definition looks like this:\n",
    "\n",
    "```\n",
    "class ClassName:\n",
    "    <statement1>\n",
    "    ...\n",
    "    <statementN>\n",
    "```\n",
    "\n",
    "Class names should normally use the CapWords convention."
   ]
  },
  {
   "cell_type": "code",
   "execution_count": null,
   "id": "7f210ef4-0519-4eb7-a4a0-33f8fa02686d",
   "metadata": {},
   "outputs": [],
   "source": [
    "my_first_variable = 10"
   ]
  },
  {
   "cell_type": "code",
   "execution_count": 16,
   "id": "5b107ccf",
   "metadata": {},
   "outputs": [],
   "source": [
    "class Pet:\n",
    "    pass"
   ]
  },
  {
   "cell_type": "markdown",
   "id": "8909e9b4",
   "metadata": {},
   "source": [
    "*Class instantiation* uses function notation. Just pretend that the class object is a parameterless function that returns a new instance of the class.\n",
    "\n",
    "Note: `__main__` is the name of the environment where top-level code is run. “Top-level code” is the first user-specified Python module that starts running. It’s “top-level” because it imports all other modules that the program needs."
   ]
  },
  {
   "cell_type": "code",
   "execution_count": 17,
   "id": "92f8b6a6",
   "metadata": {},
   "outputs": [],
   "source": [
    "my_dog = Pet()"
   ]
  },
  {
   "cell_type": "code",
   "execution_count": 18,
   "id": "45f893f1-3231-4827-b7bf-e0e86e82e5e3",
   "metadata": {},
   "outputs": [
    {
     "data": {
      "text/plain": [
       "__main__.Pet"
      ]
     },
     "execution_count": 18,
     "metadata": {},
     "output_type": "execute_result"
    }
   ],
   "source": [
    "type(my_dog)"
   ]
  },
  {
   "cell_type": "code",
   "execution_count": 19,
   "id": "fd4d25ff-2e82-45e7-aea4-e3165409ae12",
   "metadata": {},
   "outputs": [],
   "source": [
    "import math"
   ]
  },
  {
   "cell_type": "code",
   "execution_count": 20,
   "id": "76523da7-e9f3-42fb-a2b9-dccbd65ecce3",
   "metadata": {},
   "outputs": [
    {
     "data": {
      "text/plain": [
       "3.141592653589793"
      ]
     },
     "execution_count": 20,
     "metadata": {},
     "output_type": "execute_result"
    }
   ],
   "source": [
    "math.pi"
   ]
  },
  {
   "cell_type": "code",
   "execution_count": 21,
   "id": "b529b422-c008-48b9-b2db-3da7dab75c47",
   "metadata": {},
   "outputs": [
    {
     "data": {
      "text/plain": [
       "2.0"
      ]
     },
     "execution_count": 21,
     "metadata": {},
     "output_type": "execute_result"
    }
   ],
   "source": [
    "math.sqrt(4)"
   ]
  },
  {
   "cell_type": "markdown",
   "id": "c9f126c4",
   "metadata": {},
   "source": [
    "### Attributes\n",
    "\n",
    "*Class attributes* are the variables defined directly in the class that are shared by all objects of the class. *Instance attributes* are attributes or properties attached to an instance of a class. Instance attributes are defined in the **constructor**.\n",
    "\n",
    "A class constructor is a special member function of a class that is executed whenever we create new objects of that class.\n",
    "\n",
    "The `self` parameter is a reference to the current instance of the class, and is used to access variables that belongs to the class."
   ]
  },
  {
   "cell_type": "code",
   "execution_count": 27,
   "id": "fdf631ca",
   "metadata": {},
   "outputs": [],
   "source": [
    "class Pet:\n",
    "    kind = 'animal'\n",
    "    legs = 4\n",
    "    name = 'Buddy'"
   ]
  },
  {
   "cell_type": "code",
   "execution_count": 28,
   "id": "2b52980f-dd2c-4e9d-8ab3-b03f9ed9c2f4",
   "metadata": {},
   "outputs": [],
   "source": [
    "my_dog = Pet()"
   ]
  },
  {
   "cell_type": "code",
   "execution_count": 29,
   "id": "5d8d6a71-979d-4034-b15c-4a256545af00",
   "metadata": {},
   "outputs": [
    {
     "data": {
      "text/plain": [
       "4"
      ]
     },
     "execution_count": 29,
     "metadata": {},
     "output_type": "execute_result"
    }
   ],
   "source": [
    "my_dog.legs"
   ]
  },
  {
   "cell_type": "code",
   "execution_count": 30,
   "id": "823672a5-551f-4973-8543-a533e6ffab05",
   "metadata": {},
   "outputs": [],
   "source": [
    "my_cat = Pet()"
   ]
  },
  {
   "cell_type": "code",
   "execution_count": 31,
   "id": "2e991cc9-a031-4c9a-b200-c51f1b30e6c5",
   "metadata": {},
   "outputs": [
    {
     "data": {
      "text/plain": [
       "4"
      ]
     },
     "execution_count": 31,
     "metadata": {},
     "output_type": "execute_result"
    }
   ],
   "source": [
    "my_cat.legs"
   ]
  },
  {
   "cell_type": "code",
   "execution_count": 32,
   "id": "bfc8bd5e-a324-4e48-88f8-25b69bbfe52d",
   "metadata": {},
   "outputs": [
    {
     "data": {
      "text/plain": [
       "'Buddy'"
      ]
     },
     "execution_count": 32,
     "metadata": {},
     "output_type": "execute_result"
    }
   ],
   "source": [
    "my_dog.name"
   ]
  },
  {
   "cell_type": "code",
   "execution_count": 33,
   "id": "04d9ccba-955a-4b2e-9c07-b47e34523de0",
   "metadata": {},
   "outputs": [
    {
     "data": {
      "text/plain": [
       "'Buddy'"
      ]
     },
     "execution_count": 33,
     "metadata": {},
     "output_type": "execute_result"
    }
   ],
   "source": [
    "my_cat.name"
   ]
  },
  {
   "cell_type": "code",
   "execution_count": 39,
   "id": "22373026-0d37-4f4b-bb99-ca232d6952fe",
   "metadata": {},
   "outputs": [],
   "source": [
    "class Pet:\n",
    "    kind = 'animal'\n",
    "    legs = 4\n",
    "\n",
    "    def __init__(self, name, age):\n",
    "        self.name = name\n",
    "        self.age = age"
   ]
  },
  {
   "cell_type": "code",
   "execution_count": 41,
   "id": "db1b1d91-9f69-425b-a8ff-86e63dc3d171",
   "metadata": {},
   "outputs": [],
   "source": [
    "my_dog = Pet(name='Buddy', age=3)"
   ]
  },
  {
   "cell_type": "code",
   "execution_count": 36,
   "id": "7e380c40-5f42-4625-b43d-206ff329abd9",
   "metadata": {},
   "outputs": [
    {
     "data": {
      "text/plain": [
       "'Buddy'"
      ]
     },
     "execution_count": 36,
     "metadata": {},
     "output_type": "execute_result"
    }
   ],
   "source": [
    "my_dog.name"
   ]
  },
  {
   "cell_type": "code",
   "execution_count": 42,
   "id": "a45214ce-e136-4583-83b5-473164d6fd95",
   "metadata": {},
   "outputs": [
    {
     "data": {
      "text/plain": [
       "3"
      ]
     },
     "execution_count": 42,
     "metadata": {},
     "output_type": "execute_result"
    }
   ],
   "source": [
    "my_dog.age"
   ]
  },
  {
   "cell_type": "code",
   "execution_count": 43,
   "id": "bd84ab5f-8dec-4ab1-88a5-c94ef834d499",
   "metadata": {},
   "outputs": [],
   "source": [
    "my_cat = Pet(name='Charlie', age=5)"
   ]
  },
  {
   "cell_type": "code",
   "execution_count": 38,
   "id": "f8eb83fb-35b5-4f28-b694-1477c47cda7d",
   "metadata": {},
   "outputs": [
    {
     "data": {
      "text/plain": [
       "'Charlie'"
      ]
     },
     "execution_count": 38,
     "metadata": {},
     "output_type": "execute_result"
    }
   ],
   "source": [
    "my_cat.name"
   ]
  },
  {
   "cell_type": "code",
   "execution_count": 44,
   "id": "226a85bc-dcf6-445e-9dcd-5f50371ca7c2",
   "metadata": {},
   "outputs": [
    {
     "data": {
      "text/plain": [
       "5"
      ]
     },
     "execution_count": 44,
     "metadata": {},
     "output_type": "execute_result"
    }
   ],
   "source": [
    "my_cat.age"
   ]
  },
  {
   "cell_type": "markdown",
   "id": "14568dda",
   "metadata": {},
   "source": [
    "### Methods\n",
    "\n",
    "Instance methods are functions that are defined inside a class and can only be called from an instance of that class. Just like `.__init__()`, an instance method’s first parameter is always `self`."
   ]
  },
  {
   "cell_type": "code",
   "execution_count": null,
   "id": "e1370385",
   "metadata": {},
   "outputs": [],
   "source": [
    "my_dog.__init__"
   ]
  },
  {
   "cell_type": "markdown",
   "id": "b912dbcd",
   "metadata": {},
   "source": [
    "*Magic methods* in Python are the special methods that start and end with the double underscores. They are also called dunder methods. Magic methods are not meant to be invoked directly by you, but the invocation happens internally from the class on a certain action."
   ]
  },
  {
   "cell_type": "code",
   "execution_count": 45,
   "id": "db8993f3",
   "metadata": {},
   "outputs": [
    {
     "name": "stdout",
     "output_type": "stream",
     "text": [
      "<__main__.Pet object at 0x10bce4e50>\n"
     ]
    }
   ],
   "source": [
    "print(my_dog)"
   ]
  },
  {
   "cell_type": "code",
   "execution_count": 46,
   "id": "72435e40-196b-49ed-b1f9-d7fc7be35867",
   "metadata": {},
   "outputs": [
    {
     "name": "stdout",
     "output_type": "stream",
     "text": [
      "10\n"
     ]
    }
   ],
   "source": [
    "x = 10\n",
    "print(x)"
   ]
  },
  {
   "cell_type": "code",
   "execution_count": 47,
   "id": "38eaa6a5-aa55-4963-bc6f-810f9840286a",
   "metadata": {},
   "outputs": [],
   "source": [
    "class Pet:\n",
    "    kind = 'animal'\n",
    "    legs = 4\n",
    "\n",
    "    def __init__(self, name, age):\n",
    "        self.name = name\n",
    "        self.age = age\n",
    "\n",
    "    def __str__(self):\n",
    "        return f'Name: {self.name}, Age: {self.age}'"
   ]
  },
  {
   "cell_type": "code",
   "execution_count": 48,
   "id": "03af001f-fc5b-4924-8c10-670f4102535a",
   "metadata": {},
   "outputs": [],
   "source": [
    "my_dog = Pet(name = 'Buddy', age = 5)"
   ]
  },
  {
   "cell_type": "code",
   "execution_count": 49,
   "id": "3a9681a3-97a1-40d2-b165-b3bfd07266fd",
   "metadata": {},
   "outputs": [
    {
     "name": "stdout",
     "output_type": "stream",
     "text": [
      "Name: Buddy, Age: 5\n"
     ]
    }
   ],
   "source": [
    "print(my_dog)"
   ]
  },
  {
   "cell_type": "code",
   "execution_count": 50,
   "id": "915a3357-f93a-4671-938e-476c294fb87b",
   "metadata": {},
   "outputs": [],
   "source": [
    "class Pet:\n",
    "    kind = 'animal'\n",
    "    legs = 4\n",
    "\n",
    "    def __init__(self, name, age):\n",
    "        self.name = name\n",
    "        self.age = age\n",
    "\n",
    "    def __str__(self):\n",
    "        return f'Name: {self.name}, Age: {self.age}'\n",
    "\n",
    "    def speak(self, sound):\n",
    "        return sound.capitalize() + '!'"
   ]
  },
  {
   "cell_type": "code",
   "execution_count": 51,
   "id": "6d9da1c7-a63d-4ff1-952e-cf5705b7c198",
   "metadata": {},
   "outputs": [],
   "source": [
    "my_dog = Pet(name = 'Buddy', age = 5)"
   ]
  },
  {
   "cell_type": "code",
   "execution_count": 52,
   "id": "d535c5aa-88c3-46b5-b363-6ffa779a4f6b",
   "metadata": {},
   "outputs": [
    {
     "data": {
      "text/plain": [
       "'Woof!'"
      ]
     },
     "execution_count": 52,
     "metadata": {},
     "output_type": "execute_result"
    }
   ],
   "source": [
    "my_dog.speak('woof')"
   ]
  },
  {
   "cell_type": "markdown",
   "id": "1b84fef9",
   "metadata": {},
   "source": [
    "## Inheritance\n",
    "\n",
    "**Inheritance** allows us to define a class that inherits all the methods and properties from another class. *Parent class* is the class being inherited from, also called base class. *Child class* is the class that inherits from another class, also called derived class."
   ]
  },
  {
   "cell_type": "code",
   "execution_count": 53,
   "id": "758ff9f6",
   "metadata": {},
   "outputs": [],
   "source": [
    "class Pet:\n",
    "    kind = 'animal'\n",
    "\n",
    "    def __init__(self, name, age):\n",
    "        self.name = name\n",
    "        self.age = age\n",
    "\n",
    "    def __str__(self):\n",
    "        return f'Name: {self.name}, Age: {self.age}'\n",
    "\n",
    "    def speak(self, sound):\n",
    "        return sound.capitalize() + '!'"
   ]
  },
  {
   "cell_type": "code",
   "execution_count": 54,
   "id": "d6471378-c563-4e45-ae59-319bad301344",
   "metadata": {},
   "outputs": [],
   "source": [
    "class Dog(Pet):\n",
    "    pass"
   ]
  },
  {
   "cell_type": "code",
   "execution_count": 56,
   "id": "f5e79eb7-4430-463f-9fc4-9a33e2f3105c",
   "metadata": {},
   "outputs": [],
   "source": [
    "my_dog = Dog(name='Buddy', age=5)"
   ]
  },
  {
   "cell_type": "code",
   "execution_count": 58,
   "id": "ac766bed-999a-4f1d-ac1c-b5e9f081dd5c",
   "metadata": {},
   "outputs": [
    {
     "data": {
      "text/plain": [
       "'animal'"
      ]
     },
     "execution_count": 58,
     "metadata": {},
     "output_type": "execute_result"
    }
   ],
   "source": [
    "my_dog.kind"
   ]
  },
  {
   "cell_type": "code",
   "execution_count": 59,
   "id": "8a203f9f-f6fa-4cd4-a52c-f77eb4e9796b",
   "metadata": {},
   "outputs": [
    {
     "data": {
      "text/plain": [
       "'Hi!'"
      ]
     },
     "execution_count": 59,
     "metadata": {},
     "output_type": "execute_result"
    }
   ],
   "source": [
    "my_dog.speak('hi')"
   ]
  },
  {
   "cell_type": "code",
   "execution_count": 60,
   "id": "4601deff-e9a7-4d8e-b645-a50f33736153",
   "metadata": {},
   "outputs": [
    {
     "data": {
      "text/plain": [
       "__main__.Dog"
      ]
     },
     "execution_count": 60,
     "metadata": {},
     "output_type": "execute_result"
    }
   ],
   "source": [
    "type(my_dog)"
   ]
  },
  {
   "cell_type": "code",
   "execution_count": 61,
   "id": "b74da030-5637-4313-9961-3b367c58b8e9",
   "metadata": {},
   "outputs": [
    {
     "data": {
      "text/plain": [
       "True"
      ]
     },
     "execution_count": 61,
     "metadata": {},
     "output_type": "execute_result"
    }
   ],
   "source": [
    "isinstance(my_dog, Dog)"
   ]
  },
  {
   "cell_type": "code",
   "execution_count": 62,
   "id": "23f17ceb-4c20-42de-a910-71fae8a7e962",
   "metadata": {},
   "outputs": [
    {
     "data": {
      "text/plain": [
       "True"
      ]
     },
     "execution_count": 62,
     "metadata": {},
     "output_type": "execute_result"
    }
   ],
   "source": [
    "isinstance(my_dog, Pet)"
   ]
  },
  {
   "cell_type": "code",
   "execution_count": 63,
   "id": "08604cce-d811-44cd-b831-68c8447659fe",
   "metadata": {},
   "outputs": [],
   "source": [
    "class Dog(Pet):\n",
    "    legs = 4"
   ]
  },
  {
   "cell_type": "code",
   "execution_count": 64,
   "id": "61e6fa5e-994f-4acc-84a6-81e38083fab5",
   "metadata": {},
   "outputs": [],
   "source": [
    "my_dog = Dog(name='Buddy', age=5)"
   ]
  },
  {
   "cell_type": "code",
   "execution_count": 65,
   "id": "d40c19d2-88ae-47e5-ac8a-9eb7f2c8f745",
   "metadata": {},
   "outputs": [
    {
     "data": {
      "text/plain": [
       "4"
      ]
     },
     "execution_count": 65,
     "metadata": {},
     "output_type": "execute_result"
    }
   ],
   "source": [
    "my_dog.legs"
   ]
  },
  {
   "cell_type": "code",
   "execution_count": 66,
   "id": "54874661-7e47-443d-a5b7-82778d224f0a",
   "metadata": {},
   "outputs": [],
   "source": [
    "my_cat = Pet(name='Charlie', age=5)"
   ]
  },
  {
   "cell_type": "code",
   "execution_count": 67,
   "id": "7cd6702a-b0ad-4133-89e7-c820aeb2f451",
   "metadata": {},
   "outputs": [
    {
     "ename": "AttributeError",
     "evalue": "'Pet' object has no attribute 'legs'",
     "output_type": "error",
     "traceback": [
      "\u001b[0;31m---------------------------------------------------------------------------\u001b[0m",
      "\u001b[0;31mAttributeError\u001b[0m                            Traceback (most recent call last)",
      "Cell \u001b[0;32mIn[67], line 1\u001b[0m\n\u001b[0;32m----> 1\u001b[0m \u001b[43mmy_cat\u001b[49m\u001b[38;5;241;43m.\u001b[39;49m\u001b[43mlegs\u001b[49m\n",
      "\u001b[0;31mAttributeError\u001b[0m: 'Pet' object has no attribute 'legs'"
     ]
    }
   ],
   "source": [
    "my_cat.legs"
   ]
  },
  {
   "cell_type": "code",
   "execution_count": 68,
   "id": "261a54e6-3c4a-46f1-bff7-2f62a153016e",
   "metadata": {},
   "outputs": [],
   "source": [
    "class Dog(Pet):\n",
    "    legs = 4\n",
    "    razza = ''\n",
    "    \n",
    "    def speak(self, sound):\n",
    "        return sound.capitalize() + '! Woof!'"
   ]
  },
  {
   "cell_type": "code",
   "execution_count": 69,
   "id": "e16157c0-4cd2-4495-9afb-765b1e42379b",
   "metadata": {},
   "outputs": [],
   "source": [
    "my_dog = Dog(name='Buddy', age=5)"
   ]
  },
  {
   "cell_type": "code",
   "execution_count": 70,
   "id": "f9ca026e-ebce-4ba7-989f-38dedbd32f8d",
   "metadata": {},
   "outputs": [
    {
     "data": {
      "text/plain": [
       "'Hi! Woof!'"
      ]
     },
     "execution_count": 70,
     "metadata": {},
     "output_type": "execute_result"
    }
   ],
   "source": [
    "my_dog.speak('hi')"
   ]
  },
  {
   "cell_type": "code",
   "execution_count": 71,
   "id": "8d89c393-fa85-45b7-a6d8-2763eed51eda",
   "metadata": {},
   "outputs": [],
   "source": [
    "my_cat = Pet(name='Charlie', age=5)"
   ]
  },
  {
   "cell_type": "code",
   "execution_count": 72,
   "id": "f2937f1b-9edf-43d7-abcb-31b593aec408",
   "metadata": {},
   "outputs": [
    {
     "data": {
      "text/plain": [
       "'Hi!'"
      ]
     },
     "execution_count": 72,
     "metadata": {},
     "output_type": "execute_result"
    }
   ],
   "source": [
    "my_cat.speak('hi')"
   ]
  },
  {
   "cell_type": "code",
   "execution_count": null,
   "id": "b98ea2c3-d5c0-4967-9358-e622a77a71bf",
   "metadata": {},
   "outputs": [],
   "source": []
  }
 ],
 "metadata": {
  "kernelspec": {
   "display_name": "Python 3 (ipykernel)",
   "language": "python",
   "name": "python3"
  },
  "language_info": {
   "codemirror_mode": {
    "name": "ipython",
    "version": 3
   },
   "file_extension": ".py",
   "mimetype": "text/x-python",
   "name": "python",
   "nbconvert_exporter": "python",
   "pygments_lexer": "ipython3",
   "version": "3.11.5"
  }
 },
 "nbformat": 4,
 "nbformat_minor": 5
}
