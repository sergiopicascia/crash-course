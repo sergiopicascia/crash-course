{
 "cells": [
  {
   "cell_type": "code",
   "execution_count": 1,
   "id": "cfd5cb6b",
   "metadata": {},
   "outputs": [
    {
     "name": "stdout",
     "output_type": "stream",
     "text": [
      "Hello, world!\n"
     ]
    }
   ],
   "source": [
    "# Your first Python program!\n",
    "print('Hello, world!')"
   ]
  },
  {
   "cell_type": "code",
   "execution_count": 1,
   "id": "6a04b8ee-44d2-4b55-9f84-08feffd4f913",
   "metadata": {},
   "outputs": [
    {
     "name": "stdout",
     "output_type": "stream",
     "text": [
      "Hello, world!\n",
      "Hello, world! 2\n"
     ]
    }
   ],
   "source": [
    "print('Hello, world!')\n",
    "print('Hello, world! 2')"
   ]
  },
  {
   "cell_type": "code",
   "execution_count": 2,
   "id": "963f96ba-b198-420e-a426-a6fc7d07d4a0",
   "metadata": {},
   "outputs": [],
   "source": [
    "import time"
   ]
  },
  {
   "cell_type": "code",
   "execution_count": 27,
   "id": "f2d59357-475f-410b-a0f9-be22eabeb71f",
   "metadata": {},
   "outputs": [
    {
     "name": "stdout",
     "output_type": "stream",
     "text": [
      "Hello, world!\n",
      "Hello, world! 2\n"
     ]
    }
   ],
   "source": [
    "print('Hello, world!')\n",
    "time.sleep(3) # Stop for 3 seconds\n",
    "print('Hello, world! 2')"
   ]
  },
  {
   "cell_type": "code",
   "execution_count": 9,
   "id": "eafc5d23-1628-496c-bfca-44b5bcfe9f99",
   "metadata": {},
   "outputs": [
    {
     "ename": "NameError",
     "evalue": "name 'show' is not defined",
     "output_type": "error",
     "traceback": [
      "\u001b[0;31m---------------------------------------------------------------------------\u001b[0m",
      "\u001b[0;31mNameError\u001b[0m                                 Traceback (most recent call last)",
      "Cell \u001b[0;32mIn[9], line 1\u001b[0m\n\u001b[0;32m----> 1\u001b[0m \u001b[43mshow\u001b[49m(\u001b[38;5;124m'\u001b[39m\u001b[38;5;124mHello, world!\u001b[39m\u001b[38;5;124m'\u001b[39m)\n",
      "\u001b[0;31mNameError\u001b[0m: name 'show' is not defined"
     ]
    }
   ],
   "source": [
    "show('Hello, world!')"
   ]
  },
  {
   "cell_type": "code",
   "execution_count": 4,
   "id": "649c6ee8-bfa4-4f34-ad33-ba53c243f025",
   "metadata": {},
   "outputs": [
    {
     "data": {
      "text/plain": [
       "'Hello, world!'"
      ]
     },
     "execution_count": 4,
     "metadata": {},
     "output_type": "execute_result"
    }
   ],
   "source": [
    "'Hello, world!'"
   ]
  },
  {
   "cell_type": "code",
   "execution_count": 5,
   "id": "b32ebb1c-1fce-428f-ab52-1526c3926cf9",
   "metadata": {},
   "outputs": [
    {
     "data": {
      "text/plain": [
       "'Hello, world! 2'"
      ]
     },
     "execution_count": 5,
     "metadata": {},
     "output_type": "execute_result"
    }
   ],
   "source": [
    "'Hello, world!'\n",
    "'Hello, world! 2'"
   ]
  },
  {
   "cell_type": "code",
   "execution_count": 6,
   "id": "9a32145e-36f0-43ba-b278-70ac381460cb",
   "metadata": {},
   "outputs": [
    {
     "name": "stdout",
     "output_type": "stream",
     "text": [
      "Hello, world!\n"
     ]
    },
    {
     "data": {
      "text/plain": [
       "'Hello, world! 2'"
      ]
     },
     "execution_count": 6,
     "metadata": {},
     "output_type": "execute_result"
    }
   ],
   "source": [
    "print('Hello, world!')\n",
    "'Hello, world! 2'"
   ]
  },
  {
   "cell_type": "markdown",
   "id": "ad1341b0",
   "metadata": {},
   "source": [
    "# Comments\n",
    "\n",
    "A comment starts with a hash character (`#`) and ends at the end of the physical line. Comments are ignored by the syntax."
   ]
  },
  {
   "cell_type": "code",
   "execution_count": 10,
   "id": "7f1c9389",
   "metadata": {},
   "outputs": [],
   "source": [
    "# This is a comment"
   ]
  },
  {
   "cell_type": "markdown",
   "id": "74808574",
   "metadata": {},
   "source": [
    "# Data Types\n",
    "\n",
    "A **data type** constrains the set of possible values that an expression might take, and defines the set of allowed operations on it. It tells the compiler or interpreter how the programmer intends to use the data. Python supports, among others, basic data types, like *integers* and *strings*, and sequence data types, such as *lists* and *dictionaries*.\n",
    "\n",
    "### `type(object)`\n",
    "The `type()` function returns the type of an object. "
   ]
  },
  {
   "cell_type": "code",
   "execution_count": 7,
   "id": "8b1bfbc7",
   "metadata": {},
   "outputs": [
    {
     "data": {
      "text/plain": [
       "str"
      ]
     },
     "execution_count": 7,
     "metadata": {},
     "output_type": "execute_result"
    }
   ],
   "source": [
    "type('Hello, world!')"
   ]
  },
  {
   "cell_type": "code",
   "execution_count": 8,
   "id": "c3fa657b",
   "metadata": {},
   "outputs": [
    {
     "data": {
      "text/plain": [
       "int"
      ]
     },
     "execution_count": 8,
     "metadata": {},
     "output_type": "execute_result"
    }
   ],
   "source": [
    "type(2)"
   ]
  },
  {
   "cell_type": "markdown",
   "id": "973460c6",
   "metadata": {},
   "source": [
    "## Numeric Types\n",
    "\n",
    "There are three distinct numeric types: *integers*, *floating point numbers*, and *complex numbers*:\n",
    "\n",
    "- `int`: integers are zero, positive or negative whole numbers without a fractional part and having unlimited precision\n",
    "- `float`: floating point numbers are positive and negative real numbers with a fractional part denoted by the decimal symbol `.` or the scientific notation `E` or `e`\n",
    "- `complex`: a complex number is a number with real and imaginary components; you must use `j` or `J` as imaginary component"
   ]
  },
  {
   "cell_type": "code",
   "execution_count": 11,
   "id": "6cff667c",
   "metadata": {},
   "outputs": [
    {
     "name": "stdout",
     "output_type": "stream",
     "text": [
      "<class 'int'>\n",
      "<class 'int'>\n"
     ]
    }
   ],
   "source": [
    "# Integers\n",
    "print(type(251))\n",
    "print(type(-111131435324542362546254))"
   ]
  },
  {
   "cell_type": "code",
   "execution_count": 12,
   "id": "5ff19ab6",
   "metadata": {},
   "outputs": [
    {
     "name": "stdout",
     "output_type": "stream",
     "text": [
      "<class 'float'>\n"
     ]
    }
   ],
   "source": [
    "# Floating Point Numbers\n",
    "print(type(2.5))"
   ]
  },
  {
   "cell_type": "code",
   "execution_count": 13,
   "id": "957da9c6-3ce6-46bd-9d55-190356683fb8",
   "metadata": {},
   "outputs": [
    {
     "name": "stdout",
     "output_type": "stream",
     "text": [
      "<class 'float'>\n"
     ]
    }
   ],
   "source": [
    "print(type(2.e5))"
   ]
  },
  {
   "cell_type": "code",
   "execution_count": 14,
   "id": "93ef5d3e-12e1-4e55-92fe-e23ef49fda0e",
   "metadata": {},
   "outputs": [
    {
     "data": {
      "text/plain": [
       "200000.0"
      ]
     },
     "execution_count": 14,
     "metadata": {},
     "output_type": "execute_result"
    }
   ],
   "source": [
    "2.e5"
   ]
  },
  {
   "cell_type": "code",
   "execution_count": 16,
   "id": "f8d2018e",
   "metadata": {},
   "outputs": [
    {
     "name": "stdout",
     "output_type": "stream",
     "text": [
      "<class 'complex'>\n"
     ]
    }
   ],
   "source": [
    "# Complex Numbers\n",
    "print(type(2+1j))"
   ]
  },
  {
   "cell_type": "markdown",
   "id": "28933711",
   "metadata": {},
   "source": [
    "### Arithmetic Operators\n",
    "\n",
    "In Python, **operators** are special symbols that designate that some sort of computation should be performed. The values that an operator acts on are called operands.\n",
    "\n",
    "**Arithmetic operators** are used to perform mathematical operations like addition, subtraction, multiplication and division.\n",
    "\n",
    "The *addition operator* is `+` and it is used to add two values."
   ]
  },
  {
   "cell_type": "code",
   "execution_count": 17,
   "id": "ee9f84d0",
   "metadata": {},
   "outputs": [
    {
     "data": {
      "text/plain": [
       "4"
      ]
     },
     "execution_count": 17,
     "metadata": {},
     "output_type": "execute_result"
    }
   ],
   "source": [
    "# Addition\n",
    "2 + 2"
   ]
  },
  {
   "cell_type": "code",
   "execution_count": 32,
   "id": "93ffd931-98c8-4c18-9722-632f931297b0",
   "metadata": {},
   "outputs": [
    {
     "data": {
      "text/plain": [
       "4.0"
      ]
     },
     "execution_count": 32,
     "metadata": {},
     "output_type": "execute_result"
    }
   ],
   "source": [
    "2.0 + 2.0"
   ]
  },
  {
   "cell_type": "code",
   "execution_count": 33,
   "id": "b7ceaf72-2860-4d48-9761-5c13f2860f1a",
   "metadata": {},
   "outputs": [
    {
     "data": {
      "text/plain": [
       "4.0"
      ]
     },
     "execution_count": 33,
     "metadata": {},
     "output_type": "execute_result"
    }
   ],
   "source": [
    "2 + 2.0"
   ]
  },
  {
   "cell_type": "markdown",
   "id": "133a6296",
   "metadata": {},
   "source": [
    "The *subtraction operator* is `-` and it is used to subtract the second value from the first one."
   ]
  },
  {
   "cell_type": "code",
   "execution_count": 18,
   "id": "060000f1",
   "metadata": {},
   "outputs": [
    {
     "data": {
      "text/plain": [
       "15"
      ]
     },
     "execution_count": 18,
     "metadata": {},
     "output_type": "execute_result"
    }
   ],
   "source": [
    "# Subtraction\n",
    "20 - 5"
   ]
  },
  {
   "cell_type": "markdown",
   "id": "b9a2f557",
   "metadata": {},
   "source": [
    "The *multiplication operator* is `*` and it is used to find the product of two values."
   ]
  },
  {
   "cell_type": "code",
   "execution_count": 19,
   "id": "59560741",
   "metadata": {},
   "outputs": [
    {
     "data": {
      "text/plain": [
       "20"
      ]
     },
     "execution_count": 19,
     "metadata": {},
     "output_type": "execute_result"
    }
   ],
   "source": [
    "# Multiplication\n",
    "5 * 4"
   ]
  },
  {
   "cell_type": "markdown",
   "id": "0545fd47",
   "metadata": {},
   "source": [
    "The *division operator* is `/` and it is used to find the quotient when first operand is divided by the second."
   ]
  },
  {
   "cell_type": "code",
   "execution_count": 20,
   "id": "b549d51f",
   "metadata": {},
   "outputs": [
    {
     "data": {
      "text/plain": [
       "2.857142857142857"
      ]
     },
     "execution_count": 20,
     "metadata": {},
     "output_type": "execute_result"
    }
   ],
   "source": [
    "# Division (Float)\n",
    "20 / 7"
   ]
  },
  {
   "cell_type": "markdown",
   "id": "6c023145",
   "metadata": {},
   "source": [
    "The *floor division operator* is `//` and it is used to find the floor of the quotient when first operand is divided by the second."
   ]
  },
  {
   "cell_type": "code",
   "execution_count": 21,
   "id": "cd0be461",
   "metadata": {},
   "outputs": [
    {
     "data": {
      "text/plain": [
       "2"
      ]
     },
     "execution_count": 21,
     "metadata": {},
     "output_type": "execute_result"
    }
   ],
   "source": [
    "# Division (Floor)\n",
    "20 // 7"
   ]
  },
  {
   "cell_type": "markdown",
   "id": "864c52d2",
   "metadata": {},
   "source": [
    "The *modulo operator* is `%` and it is used to find the remainder when first operand is divided by the second."
   ]
  },
  {
   "cell_type": "code",
   "execution_count": 22,
   "id": "ec261013",
   "metadata": {},
   "outputs": [
    {
     "data": {
      "text/plain": [
       "6"
      ]
     },
     "execution_count": 22,
     "metadata": {},
     "output_type": "execute_result"
    }
   ],
   "source": [
    "# Modulo\n",
    "20 % 7"
   ]
  },
  {
   "cell_type": "code",
   "execution_count": 23,
   "id": "b65d86f3-3b88-44d3-8c90-aba8c3cee70c",
   "metadata": {},
   "outputs": [
    {
     "data": {
      "text/plain": [
       "4"
      ]
     },
     "execution_count": 23,
     "metadata": {},
     "output_type": "execute_result"
    }
   ],
   "source": [
    "25 % 7"
   ]
  },
  {
   "cell_type": "markdown",
   "id": "2e60688e",
   "metadata": {},
   "source": [
    "The *exponential operator* is `**` and it is used to raise the first operand to power of second."
   ]
  },
  {
   "cell_type": "code",
   "execution_count": 24,
   "id": "0766c508",
   "metadata": {},
   "outputs": [
    {
     "data": {
      "text/plain": [
       "8"
      ]
     },
     "execution_count": 24,
     "metadata": {},
     "output_type": "execute_result"
    }
   ],
   "source": [
    "# Exponential\n",
    "2 ** 3"
   ]
  },
  {
   "cell_type": "code",
   "execution_count": 26,
   "id": "68e29907-a8f6-4246-824b-2b377c2400b7",
   "metadata": {},
   "outputs": [],
   "source": [
    "import math"
   ]
  },
  {
   "cell_type": "code",
   "execution_count": 28,
   "id": "e48884b9-40e4-4ab0-8299-15da9c1098cc",
   "metadata": {},
   "outputs": [
    {
     "data": {
      "text/plain": [
       "3"
      ]
     },
     "execution_count": 28,
     "metadata": {},
     "output_type": "execute_result"
    }
   ],
   "source": [
    "math.ceil(2.8)"
   ]
  },
  {
   "cell_type": "code",
   "execution_count": 29,
   "id": "b509c5ce-3f13-4ca7-9c89-28ef87d8da33",
   "metadata": {},
   "outputs": [
    {
     "data": {
      "text/plain": [
       "2.718281828459045"
      ]
     },
     "execution_count": 29,
     "metadata": {},
     "output_type": "execute_result"
    }
   ],
   "source": [
    "math.e"
   ]
  },
  {
   "cell_type": "code",
   "execution_count": 30,
   "id": "09999a41-bf31-4172-a15f-d4e8b52391d5",
   "metadata": {},
   "outputs": [
    {
     "data": {
      "text/plain": [
       "3.141592653589793"
      ]
     },
     "execution_count": 30,
     "metadata": {},
     "output_type": "execute_result"
    }
   ],
   "source": [
    "math.pi"
   ]
  },
  {
   "cell_type": "code",
   "execution_count": 31,
   "id": "98021287-6552-453d-ba8f-2c9543023123",
   "metadata": {},
   "outputs": [
    {
     "data": {
      "text/plain": [
       "2.0"
      ]
     },
     "execution_count": 31,
     "metadata": {},
     "output_type": "execute_result"
    }
   ],
   "source": [
    "math.sqrt(4)"
   ]
  },
  {
   "cell_type": "markdown",
   "id": "f8186498",
   "metadata": {},
   "source": [
    "## String Type\n",
    "\n",
    "Textual data in Python is handled with `str` objects, or *strings*. String literals are written in a variety of ways:\n",
    "\n",
    "- single quotes (`'...'`): allow to embed double quotes\n",
    "- double quotes (`\"...\"`): allow to embed single quotes\n",
    "- triple quotes (`'''...'''`, `\"\"\"...\"\"\"`): allow to span over multiple lines"
   ]
  },
  {
   "cell_type": "code",
   "execution_count": 34,
   "id": "09c70336",
   "metadata": {
    "scrolled": true
   },
   "outputs": [
    {
     "data": {
      "text/plain": [
       "'Hello, world!'"
      ]
     },
     "execution_count": 34,
     "metadata": {},
     "output_type": "execute_result"
    }
   ],
   "source": [
    "# Single quotes\n",
    "'Hello, world!'"
   ]
  },
  {
   "cell_type": "code",
   "execution_count": 35,
   "id": "7e37699e",
   "metadata": {},
   "outputs": [
    {
     "data": {
      "text/plain": [
       "'Hello, world!'"
      ]
     },
     "execution_count": 35,
     "metadata": {},
     "output_type": "execute_result"
    }
   ],
   "source": [
    "# Double quotes\n",
    "\"Hello, world!\""
   ]
  },
  {
   "cell_type": "code",
   "execution_count": 38,
   "id": "d93a3d95-e791-459c-bb61-0d170a5a4298",
   "metadata": {},
   "outputs": [
    {
     "ename": "SyntaxError",
     "evalue": "unterminated string literal (detected at line 2) (611484405.py, line 2)",
     "output_type": "error",
     "traceback": [
      "\u001b[0;36m  Cell \u001b[0;32mIn[38], line 2\u001b[0;36m\u001b[0m\n\u001b[0;31m    \"Hello, world!'\u001b[0m\n\u001b[0m    ^\u001b[0m\n\u001b[0;31mSyntaxError\u001b[0m\u001b[0;31m:\u001b[0m unterminated string literal (detected at line 2)\n"
     ]
    }
   ],
   "source": [
    "# This throws an error\n",
    "\"Hello, world!'"
   ]
  },
  {
   "cell_type": "code",
   "execution_count": 39,
   "id": "5efcf703-8a5d-4508-bc6f-bd1c2981a442",
   "metadata": {},
   "outputs": [
    {
     "data": {
      "text/plain": [
       "\"Hello, world!'\""
      ]
     },
     "execution_count": 39,
     "metadata": {},
     "output_type": "execute_result"
    }
   ],
   "source": [
    "\"Hello, world!'\""
   ]
  },
  {
   "cell_type": "code",
   "execution_count": 36,
   "id": "02cb973b-3cd4-4d91-8a1d-975880c3874a",
   "metadata": {},
   "outputs": [
    {
     "ename": "SyntaxError",
     "evalue": "unterminated string literal (detected at line 1) (2018354142.py, line 1)",
     "output_type": "error",
     "traceback": [
      "\u001b[0;36m  Cell \u001b[0;32mIn[36], line 1\u001b[0;36m\u001b[0m\n\u001b[0;31m    'Hi, I'm Sergio, nice to meet you'\u001b[0m\n\u001b[0m                                     ^\u001b[0m\n\u001b[0;31mSyntaxError\u001b[0m\u001b[0;31m:\u001b[0m unterminated string literal (detected at line 1)\n"
     ]
    }
   ],
   "source": [
    "'Hi, I'm Sergio, nice to meet you'"
   ]
  },
  {
   "cell_type": "code",
   "execution_count": 40,
   "id": "a56968db-caa6-4d34-81b3-56e54dfd5246",
   "metadata": {},
   "outputs": [
    {
     "data": {
      "text/plain": [
       "\"Hi, I'm Sergio, nice to meet you\""
      ]
     },
     "execution_count": 40,
     "metadata": {},
     "output_type": "execute_result"
    }
   ],
   "source": [
    "\"Hi, I'm Sergio, nice to meet you\""
   ]
  },
  {
   "cell_type": "code",
   "execution_count": 41,
   "id": "6c279b42-6ae7-4b3a-8c0e-c3ad610846a7",
   "metadata": {},
   "outputs": [
    {
     "data": {
      "text/plain": [
       "'Hi, I\"m Sergio, nice to meet you'"
      ]
     },
     "execution_count": 41,
     "metadata": {},
     "output_type": "execute_result"
    }
   ],
   "source": [
    "'Hi, I\"m Sergio, nice to meet you'"
   ]
  },
  {
   "cell_type": "code",
   "execution_count": 43,
   "id": "6461ab3a-bbce-4c88-8805-6f456699ed7a",
   "metadata": {},
   "outputs": [
    {
     "data": {
      "text/plain": [
       "\"Hi, I'm Sergio, nice to meet you\""
      ]
     },
     "execution_count": 43,
     "metadata": {},
     "output_type": "execute_result"
    }
   ],
   "source": [
    "'Hi, I\\'m Sergio, nice to meet you'"
   ]
  },
  {
   "cell_type": "code",
   "execution_count": 44,
   "id": "8e926537",
   "metadata": {},
   "outputs": [
    {
     "data": {
      "text/plain": [
       "'something in between'"
      ]
     },
     "execution_count": 44,
     "metadata": {},
     "output_type": "execute_result"
    }
   ],
   "source": [
    "# Triple quotes\n",
    "\"\"\"something in between\"\"\""
   ]
  },
  {
   "cell_type": "code",
   "execution_count": 45,
   "id": "4d69cd52-d986-4069-bc00-4ca0d6f45d08",
   "metadata": {},
   "outputs": [
    {
     "ename": "SyntaxError",
     "evalue": "unterminated string literal (detected at line 1) (118538224.py, line 1)",
     "output_type": "error",
     "traceback": [
      "\u001b[0;36m  Cell \u001b[0;32mIn[45], line 1\u001b[0;36m\u001b[0m\n\u001b[0;31m    \"this is the first line\u001b[0m\n\u001b[0m    ^\u001b[0m\n\u001b[0;31mSyntaxError\u001b[0m\u001b[0;31m:\u001b[0m unterminated string literal (detected at line 1)\n"
     ]
    }
   ],
   "source": [
    "\"this is the first line\n",
    "and the string goes on the second line\""
   ]
  },
  {
   "cell_type": "code",
   "execution_count": 46,
   "id": "0bdc16e2-1371-4064-be35-efed9c559a97",
   "metadata": {},
   "outputs": [
    {
     "data": {
      "text/plain": [
       "'this is the first line\\nand the string goes on the second line'"
      ]
     },
     "execution_count": 46,
     "metadata": {},
     "output_type": "execute_result"
    }
   ],
   "source": [
    "\"\"\"this is the first line\n",
    "and the string goes on the second line\"\"\""
   ]
  },
  {
   "cell_type": "code",
   "execution_count": 49,
   "id": "027cf26d-ff14-476d-8175-40b650d18217",
   "metadata": {},
   "outputs": [
    {
     "data": {
      "text/plain": [
       "'this is the first line\\nand the string goes on the second line'"
      ]
     },
     "execution_count": 49,
     "metadata": {},
     "output_type": "execute_result"
    }
   ],
   "source": [
    "'''this is the first line\n",
    "and the string goes on the second line'''"
   ]
  },
  {
   "cell_type": "code",
   "execution_count": 47,
   "id": "9ada37e0-2fb9-444b-ac0e-4cab6c2456c0",
   "metadata": {},
   "outputs": [
    {
     "data": {
      "text/plain": [
       "'something in between,\\nand something on a new line'"
      ]
     },
     "execution_count": 47,
     "metadata": {},
     "output_type": "execute_result"
    }
   ],
   "source": [
    "\"something in between,\\nand something on a new line\""
   ]
  },
  {
   "cell_type": "code",
   "execution_count": 48,
   "id": "383858e1-7b28-44a5-9ac6-264f362295d0",
   "metadata": {},
   "outputs": [
    {
     "name": "stdout",
     "output_type": "stream",
     "text": [
      "something in between,\n",
      "and something on a new line\n"
     ]
    }
   ],
   "source": [
    "print(\"something in between,\\nand something on a new line\")"
   ]
  },
  {
   "cell_type": "markdown",
   "id": "c4549336",
   "metadata": {},
   "source": [
    "### Concatenation\n",
    "\n",
    "You can concatenate two different strings together or the same string multiple times using `+` and the `*` operator respectively."
   ]
  },
  {
   "cell_type": "code",
   "execution_count": 50,
   "id": "5c7be523",
   "metadata": {},
   "outputs": [
    {
     "data": {
      "text/plain": [
       "'ab'"
      ]
     },
     "execution_count": 50,
     "metadata": {},
     "output_type": "execute_result"
    }
   ],
   "source": [
    "# Concatenation of two strings\n",
    "'a' + 'b'"
   ]
  },
  {
   "cell_type": "code",
   "execution_count": 51,
   "id": "74497502-7f1a-4b48-9bf8-2a06ffb79af8",
   "metadata": {},
   "outputs": [
    {
     "ename": "TypeError",
     "evalue": "can only concatenate str (not \"int\") to str",
     "output_type": "error",
     "traceback": [
      "\u001b[0;31m---------------------------------------------------------------------------\u001b[0m",
      "\u001b[0;31mTypeError\u001b[0m                                 Traceback (most recent call last)",
      "Cell \u001b[0;32mIn[51], line 1\u001b[0m\n\u001b[0;32m----> 1\u001b[0m \u001b[38;5;124;43m'\u001b[39;49m\u001b[38;5;124;43ma\u001b[39;49m\u001b[38;5;124;43m'\u001b[39;49m\u001b[43m \u001b[49m\u001b[38;5;241;43m+\u001b[39;49m\u001b[43m \u001b[49m\u001b[38;5;241;43m1\u001b[39;49m\n",
      "\u001b[0;31mTypeError\u001b[0m: can only concatenate str (not \"int\") to str"
     ]
    }
   ],
   "source": [
    "'a' + 1"
   ]
  },
  {
   "cell_type": "code",
   "execution_count": 52,
   "id": "5f60183d-4550-4ae0-bb21-06af5abdf45b",
   "metadata": {},
   "outputs": [
    {
     "ename": "TypeError",
     "evalue": "unsupported operand type(s) for +: 'int' and 'str'",
     "output_type": "error",
     "traceback": [
      "\u001b[0;31m---------------------------------------------------------------------------\u001b[0m",
      "\u001b[0;31mTypeError\u001b[0m                                 Traceback (most recent call last)",
      "Cell \u001b[0;32mIn[52], line 1\u001b[0m\n\u001b[0;32m----> 1\u001b[0m \u001b[38;5;241;43m1\u001b[39;49m\u001b[43m \u001b[49m\u001b[38;5;241;43m+\u001b[39;49m\u001b[43m \u001b[49m\u001b[38;5;124;43m'\u001b[39;49m\u001b[38;5;124;43ma\u001b[39;49m\u001b[38;5;124;43m'\u001b[39;49m\n",
      "\u001b[0;31mTypeError\u001b[0m: unsupported operand type(s) for +: 'int' and 'str'"
     ]
    }
   ],
   "source": [
    "1 + 'a'"
   ]
  },
  {
   "cell_type": "code",
   "execution_count": 54,
   "id": "623e870e-8d83-4d8d-b5ef-c8a616d00dbc",
   "metadata": {},
   "outputs": [
    {
     "ename": "TypeError",
     "evalue": "unsupported operand type(s) for +: 'int' and 'str'",
     "output_type": "error",
     "traceback": [
      "\u001b[0;31m---------------------------------------------------------------------------\u001b[0m",
      "\u001b[0;31mTypeError\u001b[0m                                 Traceback (most recent call last)",
      "Cell \u001b[0;32mIn[54], line 1\u001b[0m\n\u001b[0;32m----> 1\u001b[0m \u001b[38;5;241;43m1\u001b[39;49m\u001b[43m \u001b[49m\u001b[38;5;241;43m+\u001b[39;49m\u001b[43m \u001b[49m\u001b[38;5;124;43m'\u001b[39;49m\u001b[38;5;124;43m1\u001b[39;49m\u001b[38;5;124;43m'\u001b[39;49m\n",
      "\u001b[0;31mTypeError\u001b[0m: unsupported operand type(s) for +: 'int' and 'str'"
     ]
    }
   ],
   "source": [
    "1 + '1'"
   ]
  },
  {
   "cell_type": "code",
   "execution_count": 57,
   "id": "99566284",
   "metadata": {},
   "outputs": [
    {
     "name": "stdout",
     "output_type": "stream",
     "text": [
      "Hi\n",
      "Hi\n",
      "Hi\n",
      "Hi\n",
      "Hi\n",
      "\n"
     ]
    }
   ],
   "source": [
    "# Concatenation of the same string\n",
    "print('Hi\\n' * 5)"
   ]
  },
  {
   "cell_type": "markdown",
   "id": "c235aba3",
   "metadata": {},
   "source": [
    "### Escape Character\n",
    "In Python strings, the backslash `\\` is a special character, also called the **escape character**. It is used in representing certain whitespace characters, such as `\\t` and `\\n`."
   ]
  },
  {
   "cell_type": "code",
   "execution_count": 59,
   "id": "7ea309b2",
   "metadata": {},
   "outputs": [
    {
     "name": "stdout",
     "output_type": "stream",
     "text": [
      "This is a new line \n",
      "and this is a \t tab character\n"
     ]
    }
   ],
   "source": [
    "print(\"This is a new line \\nand this is a \\t tab character\")"
   ]
  },
  {
   "cell_type": "markdown",
   "id": "788208e8",
   "metadata": {},
   "source": [
    "Prefixing a special character with `\\` turns it into an ordinary character. This is called *escaping*."
   ]
  },
  {
   "cell_type": "code",
   "execution_count": 60,
   "id": "aad27d16",
   "metadata": {
    "scrolled": true
   },
   "outputs": [
    {
     "data": {
      "text/plain": [
       "\"Hi, I'm Sergio, nice to meet you\""
      ]
     },
     "execution_count": 60,
     "metadata": {},
     "output_type": "execute_result"
    }
   ],
   "source": [
    "'Hi, I\\'m Sergio, nice to meet you'"
   ]
  },
  {
   "cell_type": "code",
   "execution_count": 61,
   "id": "4dc50859-bd2a-42e5-b3d8-7b1c1ea7bcb4",
   "metadata": {},
   "outputs": [
    {
     "data": {
      "text/plain": [
       "'@#$%^&*pol1234'"
      ]
     },
     "execution_count": 61,
     "metadata": {},
     "output_type": "execute_result"
    }
   ],
   "source": [
    "'@#$%^&*pol1234'"
   ]
  },
  {
   "cell_type": "markdown",
   "id": "0db13015",
   "metadata": {},
   "source": [
    "### Slicing\n",
    "\n",
    "In Python, sequential types are **zero-indexed**: the positions of the *n* elements inside an object, *indices*, go from *0* to *n-1*."
   ]
  },
  {
   "cell_type": "code",
   "execution_count": 62,
   "id": "2b7a53d7",
   "metadata": {},
   "outputs": [
    {
     "data": {
      "text/plain": [
       "'H'"
      ]
     },
     "execution_count": 62,
     "metadata": {},
     "output_type": "execute_result"
    }
   ],
   "source": [
    "'HELLO'[0]"
   ]
  },
  {
   "cell_type": "code",
   "execution_count": 63,
   "id": "04418856-66c8-4629-9887-25e5b17cb1f3",
   "metadata": {},
   "outputs": [
    {
     "data": {
      "text/plain": [
       "'L'"
      ]
     },
     "execution_count": 63,
     "metadata": {},
     "output_type": "execute_result"
    }
   ],
   "source": [
    "'HELLO'[2]"
   ]
  },
  {
   "cell_type": "code",
   "execution_count": 64,
   "id": "5bda99d8-e19f-4d1f-a902-ff302ccfecd4",
   "metadata": {},
   "outputs": [
    {
     "data": {
      "text/plain": [
       "'O'"
      ]
     },
     "execution_count": 64,
     "metadata": {},
     "output_type": "execute_result"
    }
   ],
   "source": [
    "'HELLO'[-1]"
   ]
  },
  {
   "cell_type": "markdown",
   "id": "f52bea93",
   "metadata": {},
   "source": [
    "You can return a range of characters by using the **slice** syntax. Specify the start index and the end index, separated by a colon, to return a part of the string."
   ]
  },
  {
   "cell_type": "code",
   "execution_count": 65,
   "id": "56477b38",
   "metadata": {},
   "outputs": [
    {
     "data": {
      "text/plain": [
       "'ELLO'"
      ]
     },
     "execution_count": 65,
     "metadata": {},
     "output_type": "execute_result"
    }
   ],
   "source": [
    "'HELLO'[1:]"
   ]
  },
  {
   "cell_type": "code",
   "execution_count": 66,
   "id": "08ccc7f7-63e4-440f-9037-e3205efa9b47",
   "metadata": {},
   "outputs": [
    {
     "data": {
      "text/plain": [
       "'HELLO'"
      ]
     },
     "execution_count": 66,
     "metadata": {},
     "output_type": "execute_result"
    }
   ],
   "source": [
    "'HELLO'[:]"
   ]
  },
  {
   "cell_type": "code",
   "execution_count": 67,
   "id": "9632b11d-b08e-4c67-87aa-288947ff5c46",
   "metadata": {},
   "outputs": [
    {
     "data": {
      "text/plain": [
       "'HEL'"
      ]
     },
     "execution_count": 67,
     "metadata": {},
     "output_type": "execute_result"
    }
   ],
   "source": [
    "'HELLO'[:3]"
   ]
  },
  {
   "cell_type": "code",
   "execution_count": 70,
   "id": "16c9fde0-7ffd-4f7b-863d-7b1726b63a1b",
   "metadata": {},
   "outputs": [
    {
     "data": {
      "text/plain": [
       "'ELL'"
      ]
     },
     "execution_count": 70,
     "metadata": {},
     "output_type": "execute_result"
    }
   ],
   "source": [
    "'HELLO'[1:4]"
   ]
  },
  {
   "cell_type": "code",
   "execution_count": 71,
   "id": "d2962f26-c13d-450a-b40b-e75b44013511",
   "metadata": {},
   "outputs": [
    {
     "data": {
      "text/plain": [
       "'E'"
      ]
     },
     "execution_count": 71,
     "metadata": {},
     "output_type": "execute_result"
    }
   ],
   "source": [
    "'HELLO'[1:4][0]"
   ]
  },
  {
   "cell_type": "markdown",
   "id": "11f0c9e6",
   "metadata": {},
   "source": [
    "### Methods\n",
    "\n",
    "Python has a set of *built-in methods* that you can use on strings.\n",
    "\n",
    "`str.capitalize()` returns a copy of the string with its first character capitalized and the rest lowercased"
   ]
  },
  {
   "cell_type": "code",
   "execution_count": 72,
   "id": "9a659734",
   "metadata": {
    "scrolled": true
   },
   "outputs": [
    {
     "data": {
      "text/plain": [
       "'Hello'"
      ]
     },
     "execution_count": 72,
     "metadata": {},
     "output_type": "execute_result"
    }
   ],
   "source": [
    "'hello'.capitalize()"
   ]
  },
  {
   "cell_type": "markdown",
   "id": "389589d7",
   "metadata": {},
   "source": [
    "`str.lower()` returns a copy of the string with all the cased characters converted to lowercase"
   ]
  },
  {
   "cell_type": "code",
   "execution_count": 73,
   "id": "9e4315d2",
   "metadata": {},
   "outputs": [
    {
     "data": {
      "text/plain": [
       "'hello'"
      ]
     },
     "execution_count": 73,
     "metadata": {},
     "output_type": "execute_result"
    }
   ],
   "source": [
    "'HELLO'.lower()"
   ]
  },
  {
   "cell_type": "markdown",
   "id": "b7f82666",
   "metadata": {},
   "source": [
    "`str.upper()` returns a copy of the string with all the cased characters converted to uppercase"
   ]
  },
  {
   "cell_type": "code",
   "execution_count": 74,
   "id": "e6796d9d",
   "metadata": {},
   "outputs": [
    {
     "data": {
      "text/plain": [
       "'HELLO'"
      ]
     },
     "execution_count": 74,
     "metadata": {},
     "output_type": "execute_result"
    }
   ],
   "source": [
    "'hello'.upper()"
   ]
  },
  {
   "cell_type": "markdown",
   "id": "0ec0b7a3",
   "metadata": {},
   "source": [
    "`str.strip()` returns a copy of the string with the leading and trailing characters removed"
   ]
  },
  {
   "cell_type": "code",
   "execution_count": 75,
   "id": "92896ac4",
   "metadata": {},
   "outputs": [
    {
     "data": {
      "text/plain": [
       "'hello'"
      ]
     },
     "execution_count": 75,
     "metadata": {},
     "output_type": "execute_result"
    }
   ],
   "source": [
    "'   hello    '.strip()"
   ]
  },
  {
   "cell_type": "markdown",
   "id": "b5d59ceb",
   "metadata": {},
   "source": [
    "`str.find(sub)` return the lowest index in the string where substring sub is found"
   ]
  },
  {
   "cell_type": "code",
   "execution_count": 76,
   "id": "34d6d819",
   "metadata": {},
   "outputs": [
    {
     "data": {
      "text/plain": [
       "0"
      ]
     },
     "execution_count": 76,
     "metadata": {},
     "output_type": "execute_result"
    }
   ],
   "source": [
    "'hello'.find('h')"
   ]
  },
  {
   "cell_type": "code",
   "execution_count": 77,
   "id": "e48ee9fb-8d7c-42e7-a682-f421754f28a9",
   "metadata": {},
   "outputs": [
    {
     "data": {
      "text/plain": [
       "2"
      ]
     },
     "execution_count": 77,
     "metadata": {},
     "output_type": "execute_result"
    }
   ],
   "source": [
    "'hello'.find('l')"
   ]
  },
  {
   "cell_type": "code",
   "execution_count": 78,
   "id": "66a4151a-161e-4010-b7b0-7235a9bc3a1e",
   "metadata": {},
   "outputs": [
    {
     "data": {
      "text/plain": [
       "3"
      ]
     },
     "execution_count": 78,
     "metadata": {},
     "output_type": "execute_result"
    }
   ],
   "source": [
    "'hello'.find('lo')"
   ]
  },
  {
   "cell_type": "markdown",
   "id": "11a44080",
   "metadata": {},
   "source": [
    "`str.replace(old, new)` returns a copy of the string with all occurrences of substring *old* replaced by *new*"
   ]
  },
  {
   "cell_type": "code",
   "execution_count": 79,
   "id": "61d651b2",
   "metadata": {},
   "outputs": [
    {
     "data": {
      "text/plain": [
       "'hello'"
      ]
     },
     "execution_count": 79,
     "metadata": {},
     "output_type": "execute_result"
    }
   ],
   "source": [
    "'helpo'.replace('p', 'l')"
   ]
  },
  {
   "cell_type": "code",
   "execution_count": 80,
   "id": "e881b4a3-f666-49a1-8972-bb68d22aa25c",
   "metadata": {},
   "outputs": [
    {
     "data": {
      "text/plain": [
       "'heppo'"
      ]
     },
     "execution_count": 80,
     "metadata": {},
     "output_type": "execute_result"
    }
   ],
   "source": [
    "'hello'.replace('l', 'p')"
   ]
  },
  {
   "cell_type": "markdown",
   "id": "dcda7b3c",
   "metadata": {},
   "source": [
    "## Type Conversion\n",
    "\n",
    "The process of converting the value of one data type (integer, string, float, etc.) to another data type is called **type conversion**. Python has two types of type conversion:\n",
    "- *implicit type conversion*: Python automatically converts one data type to another data type without any user involvement\n",
    "- *explicit type conversion*: users convert the data type of an object to required data type using predefined functions, like `int()`, `float()`, `str()`"
   ]
  },
  {
   "cell_type": "code",
   "execution_count": 82,
   "id": "52215fcd",
   "metadata": {},
   "outputs": [
    {
     "name": "stdout",
     "output_type": "stream",
     "text": [
      "<class 'int'>\n",
      "<class 'float'>\n",
      "<class 'float'>\n"
     ]
    }
   ],
   "source": [
    "# Implicit Type Conversion\n",
    "print(type(2))\n",
    "print(type(2.0))\n",
    "print(type(2 + 2.0))"
   ]
  },
  {
   "cell_type": "code",
   "execution_count": 84,
   "id": "a8703a6e",
   "metadata": {},
   "outputs": [
    {
     "name": "stdout",
     "output_type": "stream",
     "text": [
      "<class 'int'>\n",
      "<class 'str'>\n"
     ]
    }
   ],
   "source": [
    "# Explicit Type Conversion\n",
    "print(type(1))\n",
    "print(type(str(1)))"
   ]
  },
  {
   "cell_type": "code",
   "execution_count": 85,
   "id": "ec47dd0f-f5ce-4a69-819c-da4d3ab1e9da",
   "metadata": {},
   "outputs": [
    {
     "data": {
      "text/plain": [
       "'1'"
      ]
     },
     "execution_count": 85,
     "metadata": {},
     "output_type": "execute_result"
    }
   ],
   "source": [
    "str(1)"
   ]
  },
  {
   "cell_type": "code",
   "execution_count": 86,
   "id": "3afdd8a1-6a7c-4333-9ba6-f5eea418eb3f",
   "metadata": {},
   "outputs": [
    {
     "name": "stdout",
     "output_type": "stream",
     "text": [
      "<class 'int'>\n"
     ]
    },
    {
     "data": {
      "text/plain": [
       "'None'"
      ]
     },
     "execution_count": 86,
     "metadata": {},
     "output_type": "execute_result"
    }
   ],
   "source": [
    "str(print(type(1)))"
   ]
  },
  {
   "cell_type": "markdown",
   "id": "71404a23",
   "metadata": {},
   "source": [
    "# Variables\n",
    "\n",
    "A **variable** is used to store information to be referenced and manipulated in a computer program. It also provide a way of labeling data with a descriptive name, so our programs can be understood more clearly by the reader and ourselves.\n",
    "\n",
    "In order to create a variable we need to *declare* it; in Python this is done using the name of the variable, followed by the *assignment operator* `=` and the value we want to associate to it."
   ]
  },
  {
   "cell_type": "code",
   "execution_count": 87,
   "id": "b71f7c28",
   "metadata": {},
   "outputs": [],
   "source": [
    "# Variables Declaration\n",
    "x = 10"
   ]
  },
  {
   "cell_type": "code",
   "execution_count": 88,
   "id": "ffa91949-6cfd-4f9a-8a22-ca011a81747b",
   "metadata": {},
   "outputs": [
    {
     "data": {
      "text/plain": [
       "10"
      ]
     },
     "execution_count": 88,
     "metadata": {},
     "output_type": "execute_result"
    }
   ],
   "source": [
    "x"
   ]
  },
  {
   "cell_type": "code",
   "execution_count": 89,
   "id": "5d925f43",
   "metadata": {},
   "outputs": [
    {
     "ename": "NameError",
     "evalue": "name 'y' is not defined",
     "output_type": "error",
     "traceback": [
      "\u001b[0;31m---------------------------------------------------------------------------\u001b[0m",
      "\u001b[0;31mNameError\u001b[0m                                 Traceback (most recent call last)",
      "Cell \u001b[0;32mIn[89], line 1\u001b[0m\n\u001b[0;32m----> 1\u001b[0m \u001b[43my\u001b[49m\n",
      "\u001b[0;31mNameError\u001b[0m: name 'y' is not defined"
     ]
    }
   ],
   "source": [
    "y"
   ]
  },
  {
   "cell_type": "code",
   "execution_count": 90,
   "id": "723e8949-17ed-4bb9-8d8f-577a0cf56ae4",
   "metadata": {},
   "outputs": [],
   "source": [
    "y = 15"
   ]
  },
  {
   "cell_type": "code",
   "execution_count": 91,
   "id": "378e5269-f115-420a-9d90-c7c376470a30",
   "metadata": {},
   "outputs": [
    {
     "data": {
      "text/plain": [
       "15"
      ]
     },
     "execution_count": 91,
     "metadata": {},
     "output_type": "execute_result"
    }
   ],
   "source": [
    "y"
   ]
  },
  {
   "cell_type": "code",
   "execution_count": 92,
   "id": "f8531c32-cd73-429d-ad22-e7144e813641",
   "metadata": {},
   "outputs": [
    {
     "data": {
      "text/plain": [
       "25"
      ]
     },
     "execution_count": 92,
     "metadata": {},
     "output_type": "execute_result"
    }
   ],
   "source": [
    "x + y"
   ]
  },
  {
   "cell_type": "code",
   "execution_count": 93,
   "id": "d48dafcb-9e68-45e4-8f22-c5484cf63b31",
   "metadata": {},
   "outputs": [
    {
     "data": {
      "text/plain": [
       "150"
      ]
     },
     "execution_count": 93,
     "metadata": {},
     "output_type": "execute_result"
    }
   ],
   "source": [
    "z = x * y\n",
    "z"
   ]
  },
  {
   "cell_type": "code",
   "execution_count": 94,
   "id": "7d834025",
   "metadata": {},
   "outputs": [
    {
     "data": {
      "text/plain": [
       "2"
      ]
     },
     "execution_count": 94,
     "metadata": {},
     "output_type": "execute_result"
    }
   ],
   "source": [
    "# Update Variables\n",
    "x = 2\n",
    "x"
   ]
  },
  {
   "cell_type": "code",
   "execution_count": 95,
   "id": "31902364",
   "metadata": {},
   "outputs": [
    {
     "data": {
      "text/plain": [
       "150"
      ]
     },
     "execution_count": 95,
     "metadata": {},
     "output_type": "execute_result"
    }
   ],
   "source": [
    "z"
   ]
  },
  {
   "cell_type": "code",
   "execution_count": 97,
   "id": "e238831a-c2fb-4414-a58b-c42cb4e049b0",
   "metadata": {},
   "outputs": [
    {
     "data": {
      "text/plain": [
       "30"
      ]
     },
     "execution_count": 97,
     "metadata": {},
     "output_type": "execute_result"
    }
   ],
   "source": [
    "z = x * y\n",
    "z"
   ]
  },
  {
   "cell_type": "markdown",
   "id": "802581fa",
   "metadata": {},
   "source": [
    "## Object References"
   ]
  },
  {
   "cell_type": "markdown",
   "id": "7128b166",
   "metadata": {},
   "source": [
    "A Python variable is a symbolic name that is a reference or pointer to an object. Once an object is assigned to a variable, you can refer to the object by that name. But the data itself is still contained within the object."
   ]
  },
  {
   "cell_type": "code",
   "execution_count": 98,
   "id": "5f3c191c-9f11-4b5a-b738-9ef9af2266e0",
   "metadata": {},
   "outputs": [
    {
     "name": "stdout",
     "output_type": "stream",
     "text": [
      "2\n",
      "2\n"
     ]
    }
   ],
   "source": [
    "y = x\n",
    "print(x)\n",
    "print(y)"
   ]
  },
  {
   "cell_type": "code",
   "execution_count": 99,
   "id": "8af45fa9-7d66-4c61-8ecf-0ceb73fe6e62",
   "metadata": {},
   "outputs": [
    {
     "name": "stdout",
     "output_type": "stream",
     "text": [
      "5\n",
      "2\n"
     ]
    }
   ],
   "source": [
    "x = 5\n",
    "print(x)\n",
    "print(y)"
   ]
  },
  {
   "cell_type": "markdown",
   "id": "1f5040f7",
   "metadata": {},
   "source": [
    "Every object that is created is given a number that uniquely identifies it. It is guaranteed that no two objects will have the same identifier during any period in which their lifetimes overlap. The built-in function `id(object)` returns the identity of an object."
   ]
  },
  {
   "cell_type": "code",
   "execution_count": 100,
   "id": "1ca0a0ea",
   "metadata": {},
   "outputs": [
    {
     "data": {
      "text/plain": [
       "4353238728"
      ]
     },
     "execution_count": 100,
     "metadata": {},
     "output_type": "execute_result"
    }
   ],
   "source": [
    "id(x)"
   ]
  },
  {
   "cell_type": "code",
   "execution_count": 102,
   "id": "25c57e9f-a3a0-4cec-96da-8e90a75433ef",
   "metadata": {},
   "outputs": [
    {
     "data": {
      "text/plain": [
       "4353238728"
      ]
     },
     "execution_count": 102,
     "metadata": {},
     "output_type": "execute_result"
    }
   ],
   "source": [
    "id(5)"
   ]
  },
  {
   "cell_type": "code",
   "execution_count": 101,
   "id": "ac37a82f",
   "metadata": {},
   "outputs": [
    {
     "data": {
      "text/plain": [
       "4353238632"
      ]
     },
     "execution_count": 101,
     "metadata": {},
     "output_type": "execute_result"
    }
   ],
   "source": [
    "id(y)"
   ]
  },
  {
   "cell_type": "code",
   "execution_count": 103,
   "id": "ee5b8f82",
   "metadata": {},
   "outputs": [
    {
     "data": {
      "text/plain": [
       "4353238632"
      ]
     },
     "execution_count": 103,
     "metadata": {},
     "output_type": "execute_result"
    }
   ],
   "source": [
    "id(2)"
   ]
  },
  {
   "cell_type": "code",
   "execution_count": 104,
   "id": "1240338e",
   "metadata": {},
   "outputs": [
    {
     "data": {
      "text/plain": [
       "4353238728"
      ]
     },
     "execution_count": 104,
     "metadata": {},
     "output_type": "execute_result"
    }
   ],
   "source": [
    "y = x\n",
    "id(y)"
   ]
  },
  {
   "cell_type": "markdown",
   "id": "6d25d4b5",
   "metadata": {},
   "source": [
    "## Other Assignment Operators\n",
    "\n",
    "`+=` (add and assign): add right side operand with left side operand and then assign to left operand."
   ]
  },
  {
   "cell_type": "code",
   "execution_count": 105,
   "id": "6cf2b0f0",
   "metadata": {},
   "outputs": [],
   "source": [
    "x = 10"
   ]
  },
  {
   "cell_type": "code",
   "execution_count": 106,
   "id": "cca136ed",
   "metadata": {},
   "outputs": [
    {
     "data": {
      "text/plain": [
       "11"
      ]
     },
     "execution_count": 106,
     "metadata": {},
     "output_type": "execute_result"
    }
   ],
   "source": [
    "x = x + 1\n",
    "x"
   ]
  },
  {
   "cell_type": "code",
   "execution_count": 107,
   "id": "dd5daef4-7c11-406b-9624-6578663be6cd",
   "metadata": {},
   "outputs": [
    {
     "data": {
      "text/plain": [
       "12"
      ]
     },
     "execution_count": 107,
     "metadata": {},
     "output_type": "execute_result"
    }
   ],
   "source": [
    "x += 1\n",
    "x"
   ]
  },
  {
   "cell_type": "markdown",
   "id": "78c6a3c1",
   "metadata": {},
   "source": [
    "`-=` (subtract and assign): subtract right operand from left operand and then assign to left side operand."
   ]
  },
  {
   "cell_type": "code",
   "execution_count": 108,
   "id": "51e0d05b",
   "metadata": {},
   "outputs": [
    {
     "data": {
      "text/plain": [
       "11"
      ]
     },
     "execution_count": 108,
     "metadata": {},
     "output_type": "execute_result"
    }
   ],
   "source": [
    "x -= 1\n",
    "x"
   ]
  },
  {
   "cell_type": "markdown",
   "id": "940020cc",
   "metadata": {},
   "source": [
    "`*=` (multiply and assign): multiply right operand with left operand and then assign to left operand."
   ]
  },
  {
   "cell_type": "code",
   "execution_count": 109,
   "id": "180738ee",
   "metadata": {},
   "outputs": [
    {
     "data": {
      "text/plain": [
       "33"
      ]
     },
     "execution_count": 109,
     "metadata": {},
     "output_type": "execute_result"
    }
   ],
   "source": [
    "x *= 3\n",
    "x"
   ]
  },
  {
   "cell_type": "markdown",
   "id": "6e6030eb",
   "metadata": {},
   "source": [
    "## Naming Conventions\n",
    "\n",
    "Variable names should be lowercase, with words separated by underscores as necessary to improve readability.\n",
    "\n",
    "The Python language reserves a small set of keywords that designate special language functionality. No object can have the same name as a reserved word. You can see this list any time by typing `help(\"keywords\")` to the Python interpreter."
   ]
  },
  {
   "cell_type": "code",
   "execution_count": 110,
   "id": "18b108c8",
   "metadata": {},
   "outputs": [],
   "source": [
    "microsoft_closing_price = 250"
   ]
  },
  {
   "cell_type": "code",
   "execution_count": null,
   "id": "898e9f11-c471-4632-8b79-34a89bd8fc00",
   "metadata": {},
   "outputs": [],
   "source": [
    "# Avoid that!\n",
    "# print = 10"
   ]
  },
  {
   "cell_type": "code",
   "execution_count": 111,
   "id": "521dd187-d858-4202-885f-6e9f1f2d8866",
   "metadata": {},
   "outputs": [
    {
     "name": "stdout",
     "output_type": "stream",
     "text": [
      "\n",
      "Here is a list of the Python keywords.  Enter any keyword to get more help.\n",
      "\n",
      "False               class               from                or\n",
      "None                continue            global              pass\n",
      "True                def                 if                  raise\n",
      "and                 del                 import              return\n",
      "as                  elif                in                  try\n",
      "assert              else                is                  while\n",
      "async               except              lambda              with\n",
      "await               finally             nonlocal            yield\n",
      "break               for                 not                 \n",
      "\n"
     ]
    }
   ],
   "source": [
    "help(\"keywords\")"
   ]
  },
  {
   "cell_type": "code",
   "execution_count": 112,
   "id": "6fd11873-39d1-4f40-a7f0-dc8544883c34",
   "metadata": {},
   "outputs": [
    {
     "name": "stdout",
     "output_type": "stream",
     "text": [
      "The \"import\" statement\n",
      "**********************\n",
      "\n",
      "   import_stmt     ::= \"import\" module [\"as\" identifier] (\",\" module [\"as\" identifier])*\n",
      "                   | \"from\" relative_module \"import\" identifier [\"as\" identifier]\n",
      "                   (\",\" identifier [\"as\" identifier])*\n",
      "                   | \"from\" relative_module \"import\" \"(\" identifier [\"as\" identifier]\n",
      "                   (\",\" identifier [\"as\" identifier])* [\",\"] \")\"\n",
      "                   | \"from\" relative_module \"import\" \"*\"\n",
      "   module          ::= (identifier \".\")* identifier\n",
      "   relative_module ::= \".\"* module | \".\"+\n",
      "\n",
      "The basic import statement (no \"from\" clause) is executed in two\n",
      "steps:\n",
      "\n",
      "1. find a module, loading and initializing it if necessary\n",
      "\n",
      "2. define a name or names in the local namespace for the scope where\n",
      "   the \"import\" statement occurs.\n",
      "\n",
      "When the statement contains multiple clauses (separated by commas) the\n",
      "two steps are carried out separately for each clause, just as though\n",
      "the clauses had been separated out into individual import statements.\n",
      "\n",
      "The details of the first step, finding and loading modules, are\n",
      "described in greater detail in the section on the import system, which\n",
      "also describes the various types of packages and modules that can be\n",
      "imported, as well as all the hooks that can be used to customize the\n",
      "import system. Note that failures in this step may indicate either\n",
      "that the module could not be located, *or* that an error occurred\n",
      "while initializing the module, which includes execution of the\n",
      "module’s code.\n",
      "\n",
      "If the requested module is retrieved successfully, it will be made\n",
      "available in the local namespace in one of three ways:\n",
      "\n",
      "* If the module name is followed by \"as\", then the name following \"as\"\n",
      "  is bound directly to the imported module.\n",
      "\n",
      "* If no other name is specified, and the module being imported is a\n",
      "  top level module, the module’s name is bound in the local namespace\n",
      "  as a reference to the imported module\n",
      "\n",
      "* If the module being imported is *not* a top level module, then the\n",
      "  name of the top level package that contains the module is bound in\n",
      "  the local namespace as a reference to the top level package. The\n",
      "  imported module must be accessed using its full qualified name\n",
      "  rather than directly\n",
      "\n",
      "The \"from\" form uses a slightly more complex process:\n",
      "\n",
      "1. find the module specified in the \"from\" clause, loading and\n",
      "   initializing it if necessary;\n",
      "\n",
      "2. for each of the identifiers specified in the \"import\" clauses:\n",
      "\n",
      "   1. check if the imported module has an attribute by that name\n",
      "\n",
      "   2. if not, attempt to import a submodule with that name and then\n",
      "      check the imported module again for that attribute\n",
      "\n",
      "   3. if the attribute is not found, \"ImportError\" is raised.\n",
      "\n",
      "   4. otherwise, a reference to that value is stored in the local\n",
      "      namespace, using the name in the \"as\" clause if it is present,\n",
      "      otherwise using the attribute name\n",
      "\n",
      "Examples:\n",
      "\n",
      "   import foo                 # foo imported and bound locally\n",
      "   import foo.bar.baz         # foo, foo.bar, and foo.bar.baz imported, foo bound locally\n",
      "   import foo.bar.baz as fbb  # foo, foo.bar, and foo.bar.baz imported, foo.bar.baz bound as fbb\n",
      "   from foo.bar import baz    # foo, foo.bar, and foo.bar.baz imported, foo.bar.baz bound as baz\n",
      "   from foo import attr       # foo imported and foo.attr bound as attr\n",
      "\n",
      "If the list of identifiers is replaced by a star (\"'*'\"), all public\n",
      "names defined in the module are bound in the local namespace for the\n",
      "scope where the \"import\" statement occurs.\n",
      "\n",
      "The *public names* defined by a module are determined by checking the\n",
      "module’s namespace for a variable named \"__all__\"; if defined, it must\n",
      "be a sequence of strings which are names defined or imported by that\n",
      "module.  The names given in \"__all__\" are all considered public and\n",
      "are required to exist.  If \"__all__\" is not defined, the set of public\n",
      "names includes all names found in the module’s namespace which do not\n",
      "begin with an underscore character (\"'_'\").  \"__all__\" should contain\n",
      "the entire public API. It is intended to avoid accidentally exporting\n",
      "items that are not part of the API (such as library modules which were\n",
      "imported and used within the module).\n",
      "\n",
      "The wild card form of import — \"from module import *\" — is only\n",
      "allowed at the module level.  Attempting to use it in class or\n",
      "function definitions will raise a \"SyntaxError\".\n",
      "\n",
      "When specifying what module to import you do not have to specify the\n",
      "absolute name of the module. When a module or package is contained\n",
      "within another package it is possible to make a relative import within\n",
      "the same top package without having to mention the package name. By\n",
      "using leading dots in the specified module or package after \"from\" you\n",
      "can specify how high to traverse up the current package hierarchy\n",
      "without specifying exact names. One leading dot means the current\n",
      "package where the module making the import exists. Two dots means up\n",
      "one package level. Three dots is up two levels, etc. So if you execute\n",
      "\"from . import mod\" from a module in the \"pkg\" package then you will\n",
      "end up importing \"pkg.mod\". If you execute \"from ..subpkg2 import mod\"\n",
      "from within \"pkg.subpkg1\" you will import \"pkg.subpkg2.mod\". The\n",
      "specification for relative imports is contained in the Package\n",
      "Relative Imports section.\n",
      "\n",
      "\"importlib.import_module()\" is provided to support applications that\n",
      "determine dynamically the modules to be loaded.\n",
      "\n",
      "Raises an auditing event \"import\" with arguments \"module\", \"filename\",\n",
      "\"sys.path\", \"sys.meta_path\", \"sys.path_hooks\".\n",
      "\n",
      "\n",
      "Future statements\n",
      "=================\n",
      "\n",
      "A *future statement* is a directive to the compiler that a particular\n",
      "module should be compiled using syntax or semantics that will be\n",
      "available in a specified future release of Python where the feature\n",
      "becomes standard.\n",
      "\n",
      "The future statement is intended to ease migration to future versions\n",
      "of Python that introduce incompatible changes to the language.  It\n",
      "allows use of the new features on a per-module basis before the\n",
      "release in which the feature becomes standard.\n",
      "\n",
      "   future_stmt ::= \"from\" \"__future__\" \"import\" feature [\"as\" identifier]\n",
      "                   (\",\" feature [\"as\" identifier])*\n",
      "                   | \"from\" \"__future__\" \"import\" \"(\" feature [\"as\" identifier]\n",
      "                   (\",\" feature [\"as\" identifier])* [\",\"] \")\"\n",
      "   feature     ::= identifier\n",
      "\n",
      "A future statement must appear near the top of the module.  The only\n",
      "lines that can appear before a future statement are:\n",
      "\n",
      "* the module docstring (if any),\n",
      "\n",
      "* comments,\n",
      "\n",
      "* blank lines, and\n",
      "\n",
      "* other future statements.\n",
      "\n",
      "The only feature that requires using the future statement is\n",
      "\"annotations\" (see **PEP 563**).\n",
      "\n",
      "All historical features enabled by the future statement are still\n",
      "recognized by Python 3.  The list includes \"absolute_import\",\n",
      "\"division\", \"generators\", \"generator_stop\", \"unicode_literals\",\n",
      "\"print_function\", \"nested_scopes\" and \"with_statement\".  They are all\n",
      "redundant because they are always enabled, and only kept for backwards\n",
      "compatibility.\n",
      "\n",
      "A future statement is recognized and treated specially at compile\n",
      "time: Changes to the semantics of core constructs are often\n",
      "implemented by generating different code.  It may even be the case\n",
      "that a new feature introduces new incompatible syntax (such as a new\n",
      "reserved word), in which case the compiler may need to parse the\n",
      "module differently.  Such decisions cannot be pushed off until\n",
      "runtime.\n",
      "\n",
      "For any given release, the compiler knows which feature names have\n",
      "been defined, and raises a compile-time error if a future statement\n",
      "contains a feature not known to it.\n",
      "\n",
      "The direct runtime semantics are the same as for any import statement:\n",
      "there is a standard module \"__future__\", described later, and it will\n",
      "be imported in the usual way at the time the future statement is\n",
      "executed.\n",
      "\n",
      "The interesting runtime semantics depend on the specific feature\n",
      "enabled by the future statement.\n",
      "\n",
      "Note that there is nothing special about the statement:\n",
      "\n",
      "   import __future__ [as name]\n",
      "\n",
      "That is not a future statement; it’s an ordinary import statement with\n",
      "no special semantics or syntax restrictions.\n",
      "\n",
      "Code compiled by calls to the built-in functions \"exec()\" and\n",
      "\"compile()\" that occur in a module \"M\" containing a future statement\n",
      "will, by default, use the new syntax or semantics associated with the\n",
      "future statement.  This can be controlled by optional arguments to\n",
      "\"compile()\" — see the documentation of that function for details.\n",
      "\n",
      "A future statement typed at an interactive interpreter prompt will\n",
      "take effect for the rest of the interpreter session.  If an\n",
      "interpreter is started with the \"-i\" option, is passed a script name\n",
      "to execute, and the script includes a future statement, it will be in\n",
      "effect in the interactive session started after the script is\n",
      "executed.\n",
      "\n",
      "See also:\n",
      "\n",
      "  **PEP 236** - Back to the __future__\n",
      "     The original proposal for the __future__ mechanism.\n",
      "\n",
      "Related help topics: MODULES\n",
      "\n"
     ]
    }
   ],
   "source": [
    "help('import')"
   ]
  },
  {
   "cell_type": "markdown",
   "id": "a025d227",
   "metadata": {},
   "source": [
    "# Exercises\n",
    "\n",
    "1. Write a program that replaces all the occurrences of the first character of a given string with '?', except for the first character itself, i.e. from `sunglasses` to `sungla??e?`."
   ]
  },
  {
   "cell_type": "code",
   "execution_count": 119,
   "id": "10147875",
   "metadata": {},
   "outputs": [
    {
     "data": {
      "text/plain": [
       "'sungla??e?'"
      ]
     },
     "execution_count": 119,
     "metadata": {},
     "output_type": "execute_result"
    }
   ],
   "source": [
    "word = 'sunglasses'\n",
    "first_char = word[0]\n",
    "new_word = first_char + word[1:].replace(first_char, '?')\n",
    "new_word"
   ]
  },
  {
   "cell_type": "code",
   "execution_count": 120,
   "id": "1a1e3543-bffc-4032-83a5-c8d37290dd55",
   "metadata": {},
   "outputs": [
    {
     "data": {
      "text/plain": [
       "'pinea??le'"
      ]
     },
     "execution_count": 120,
     "metadata": {},
     "output_type": "execute_result"
    }
   ],
   "source": [
    "word = 'pineapple'\n",
    "first_char = word[0]\n",
    "new_word = first_char + word[1:].replace(first_char, '?')\n",
    "new_word"
   ]
  },
  {
   "cell_type": "code",
   "execution_count": 121,
   "id": "28abc480-9996-44dc-ad28-a257a762865b",
   "metadata": {},
   "outputs": [
    {
     "data": {
      "text/plain": [
       "'sungla??e?'"
      ]
     },
     "execution_count": 121,
     "metadata": {},
     "output_type": "execute_result"
    }
   ],
   "source": [
    "'s' + 'sunglasses'[1:].replace('s', '?')"
   ]
  },
  {
   "cell_type": "code",
   "execution_count": 126,
   "id": "f6b99b8c-cf7d-4a0c-9559-312b461f46ef",
   "metadata": {},
   "outputs": [],
   "source": [
    "word = 'sunglasses'\n",
    "first_char = word[0]\n",
    "new_word = word.capitalize().replace(first_char, '?')\n",
    "new_word = new_word.lower()"
   ]
  },
  {
   "cell_type": "code",
   "execution_count": 129,
   "id": "0e19aa77-a949-4e52-b4e7-9cd5769e732f",
   "metadata": {},
   "outputs": [
    {
     "data": {
      "text/plain": [
       "'sungla??e?'"
      ]
     },
     "execution_count": 129,
     "metadata": {},
     "output_type": "execute_result"
    }
   ],
   "source": [
    "new_word"
   ]
  },
  {
   "cell_type": "code",
   "execution_count": 128,
   "id": "8e8e0911-339e-46dd-845e-6b957ab4aa1c",
   "metadata": {},
   "outputs": [
    {
     "data": {
      "text/plain": [
       "'sungla??e?'"
      ]
     },
     "execution_count": 128,
     "metadata": {},
     "output_type": "execute_result"
    }
   ],
   "source": [
    "new_word.__str__()"
   ]
  },
  {
   "cell_type": "markdown",
   "id": "932d30e0",
   "metadata": {},
   "source": [
    "2. Write a program which given the radius of a circle computes the area and prints `The area of the circle with radius _ is equal to _.`, substituting underscores with the actual values."
   ]
  },
  {
   "cell_type": "code",
   "execution_count": null,
   "id": "3e430655",
   "metadata": {},
   "outputs": [],
   "source": []
  }
 ],
 "metadata": {
  "kernelspec": {
   "display_name": "Python 3 (ipykernel)",
   "language": "python",
   "name": "python3"
  },
  "language_info": {
   "codemirror_mode": {
    "name": "ipython",
    "version": 3
   },
   "file_extension": ".py",
   "mimetype": "text/x-python",
   "name": "python",
   "nbconvert_exporter": "python",
   "pygments_lexer": "ipython3",
   "version": "3.11.5"
  }
 },
 "nbformat": 4,
 "nbformat_minor": 5
}
