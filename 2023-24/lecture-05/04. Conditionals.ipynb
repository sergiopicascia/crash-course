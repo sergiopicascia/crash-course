{
 "cells": [
  {
   "cell_type": "markdown",
   "id": "0ac9bd8e",
   "metadata": {},
   "source": [
    "# Boolean Type\n",
    "\n",
    "**Boolean values** are the two constant objects `False` and `True`. They are used to represent truth values (although other values can also be considered false or true). In numeric contexts (for example when used as the argument to an arithmetic operator), they behave like the integers 0 and 1, respectively."
   ]
  },
  {
   "cell_type": "code",
   "execution_count": 1,
   "id": "9c1b5f29",
   "metadata": {},
   "outputs": [
    {
     "data": {
      "text/plain": [
       "bool"
      ]
     },
     "execution_count": 1,
     "metadata": {},
     "output_type": "execute_result"
    }
   ],
   "source": [
    "a = True\n",
    "type(a)"
   ]
  },
  {
   "cell_type": "markdown",
   "id": "481863bd",
   "metadata": {},
   "source": [
    "The built-in function `bool()` can be used to convert any value to a Boolean, if the value can be interpreted as a truth value."
   ]
  },
  {
   "cell_type": "code",
   "execution_count": 2,
   "id": "1428e279",
   "metadata": {},
   "outputs": [
    {
     "data": {
      "text/plain": [
       "False"
      ]
     },
     "execution_count": 2,
     "metadata": {},
     "output_type": "execute_result"
    }
   ],
   "source": [
    "bool(0)"
   ]
  },
  {
   "cell_type": "code",
   "execution_count": 3,
   "id": "5f1f9f6f-a77f-46c8-8662-6c63f706293f",
   "metadata": {},
   "outputs": [
    {
     "data": {
      "text/plain": [
       "True"
      ]
     },
     "execution_count": 3,
     "metadata": {},
     "output_type": "execute_result"
    }
   ],
   "source": [
    "bool(1)"
   ]
  },
  {
   "cell_type": "code",
   "execution_count": 4,
   "id": "98866bf7-fec2-4f25-952d-64623db0eb24",
   "metadata": {},
   "outputs": [
    {
     "data": {
      "text/plain": [
       "False"
      ]
     },
     "execution_count": 4,
     "metadata": {},
     "output_type": "execute_result"
    }
   ],
   "source": [
    "bool([])"
   ]
  },
  {
   "cell_type": "code",
   "execution_count": 5,
   "id": "937812bc-15c2-4be6-ae2d-6b92a141d418",
   "metadata": {},
   "outputs": [
    {
     "data": {
      "text/plain": [
       "True"
      ]
     },
     "execution_count": 5,
     "metadata": {},
     "output_type": "execute_result"
    }
   ],
   "source": [
    "bool([0])"
   ]
  },
  {
   "cell_type": "code",
   "execution_count": 6,
   "id": "6f6ff8c6-30c8-4d76-9817-1dfee130c130",
   "metadata": {},
   "outputs": [
    {
     "data": {
      "text/plain": [
       "False"
      ]
     },
     "execution_count": 6,
     "metadata": {},
     "output_type": "execute_result"
    }
   ],
   "source": [
    "bool('')"
   ]
  },
  {
   "cell_type": "markdown",
   "id": "90f6bd48",
   "metadata": {},
   "source": [
    "## Boolean Algebra\n",
    "\n",
    "**Boolean algebra** is the branch of algebra in which the values of the variables are the truth values *true* and *false*, usually denoted *1* and *0*, respectively. Instead of elementary algebra, where the values of the variables are numbers and the prime operations are addition and multiplication, the main operations of Boolean algebra are the *conjunction* (and) denoted as ∧, the *disjunction* (or) denoted as ∨, and the *negation* (not) denoted as ¬.\n",
    "\n",
    "## Logical Operators\n",
    "\n",
    "In Python, **logical operators** are those that take boolean inputs and return boolean results.\n",
    "\n",
    "The logical operator `and` returns `True` if and only if both statements are true."
   ]
  },
  {
   "cell_type": "code",
   "execution_count": 7,
   "id": "81794cf1",
   "metadata": {},
   "outputs": [
    {
     "data": {
      "text/plain": [
       "True"
      ]
     },
     "execution_count": 7,
     "metadata": {},
     "output_type": "execute_result"
    }
   ],
   "source": [
    "True and True"
   ]
  },
  {
   "cell_type": "code",
   "execution_count": 8,
   "id": "c721e873-f23f-407e-8010-ee860f71d0f7",
   "metadata": {},
   "outputs": [
    {
     "data": {
      "text/plain": [
       "False"
      ]
     },
     "execution_count": 8,
     "metadata": {},
     "output_type": "execute_result"
    }
   ],
   "source": [
    "False and False"
   ]
  },
  {
   "cell_type": "code",
   "execution_count": 9,
   "id": "6357047e-ebd1-4976-b3d6-9ffefec8fc8c",
   "metadata": {},
   "outputs": [
    {
     "data": {
      "text/plain": [
       "False"
      ]
     },
     "execution_count": 9,
     "metadata": {},
     "output_type": "execute_result"
    }
   ],
   "source": [
    "True and False"
   ]
  },
  {
   "cell_type": "code",
   "execution_count": 10,
   "id": "694c2517-32ff-49fa-b815-1604229fa7cf",
   "metadata": {},
   "outputs": [
    {
     "data": {
      "text/plain": [
       "False"
      ]
     },
     "execution_count": 10,
     "metadata": {},
     "output_type": "execute_result"
    }
   ],
   "source": [
    "False and True"
   ]
  },
  {
   "cell_type": "markdown",
   "id": "79b8e9c3",
   "metadata": {},
   "source": [
    "The logical operator `or` returns `True` if at least one of the statements is true."
   ]
  },
  {
   "cell_type": "code",
   "execution_count": 11,
   "id": "a0eb9955",
   "metadata": {},
   "outputs": [
    {
     "data": {
      "text/plain": [
       "True"
      ]
     },
     "execution_count": 11,
     "metadata": {},
     "output_type": "execute_result"
    }
   ],
   "source": [
    "True or True"
   ]
  },
  {
   "cell_type": "code",
   "execution_count": 13,
   "id": "ff068599-c4ab-4b68-a490-0a3fd1be888d",
   "metadata": {},
   "outputs": [
    {
     "data": {
      "text/plain": [
       "True"
      ]
     },
     "execution_count": 13,
     "metadata": {},
     "output_type": "execute_result"
    }
   ],
   "source": [
    "True or False"
   ]
  },
  {
   "cell_type": "code",
   "execution_count": 14,
   "id": "b5d49bd4-53cc-45a1-96f6-564d90cbaaa6",
   "metadata": {},
   "outputs": [
    {
     "data": {
      "text/plain": [
       "True"
      ]
     },
     "execution_count": 14,
     "metadata": {},
     "output_type": "execute_result"
    }
   ],
   "source": [
    "False or True"
   ]
  },
  {
   "cell_type": "code",
   "execution_count": 15,
   "id": "f4eb3593-b905-4645-90ce-6ca7799e4fec",
   "metadata": {},
   "outputs": [
    {
     "data": {
      "text/plain": [
       "False"
      ]
     },
     "execution_count": 15,
     "metadata": {},
     "output_type": "execute_result"
    }
   ],
   "source": [
    "False or False"
   ]
  },
  {
   "cell_type": "markdown",
   "id": "2e61140e",
   "metadata": {},
   "source": [
    "The logical operator `not` reverses the result, returning `False` if the result is true."
   ]
  },
  {
   "cell_type": "code",
   "execution_count": 16,
   "id": "38fc99d1",
   "metadata": {},
   "outputs": [
    {
     "data": {
      "text/plain": [
       "False"
      ]
     },
     "execution_count": 16,
     "metadata": {},
     "output_type": "execute_result"
    }
   ],
   "source": [
    "not True"
   ]
  },
  {
   "cell_type": "code",
   "execution_count": 17,
   "id": "c127de4f-6e0d-4023-a096-169f662ba09f",
   "metadata": {},
   "outputs": [
    {
     "data": {
      "text/plain": [
       "True"
      ]
     },
     "execution_count": 17,
     "metadata": {},
     "output_type": "execute_result"
    }
   ],
   "source": [
    "not False"
   ]
  },
  {
   "cell_type": "markdown",
   "id": "9f3ddaa6",
   "metadata": {},
   "source": [
    "## Comparison Operators\n",
    "\n",
    "**Comparison operators** compare the values on either sides of them and decide the relation among them.\n",
    "\n",
    "The comparison operator `==` checks if the values of two operands are equal."
   ]
  },
  {
   "cell_type": "code",
   "execution_count": 18,
   "id": "db7b6c2a",
   "metadata": {},
   "outputs": [],
   "source": [
    "x = 5"
   ]
  },
  {
   "cell_type": "code",
   "execution_count": 19,
   "id": "465fbfb6-5bd8-425a-a816-b17c56c79546",
   "metadata": {},
   "outputs": [
    {
     "data": {
      "text/plain": [
       "True"
      ]
     },
     "execution_count": 19,
     "metadata": {},
     "output_type": "execute_result"
    }
   ],
   "source": [
    "x == 5"
   ]
  },
  {
   "cell_type": "code",
   "execution_count": 20,
   "id": "7b0048e3-f9a6-4512-8c67-a622b64596a6",
   "metadata": {},
   "outputs": [],
   "source": [
    "y = 10"
   ]
  },
  {
   "cell_type": "code",
   "execution_count": 21,
   "id": "353e97b3-aed7-4b0c-ad23-4170babb94aa",
   "metadata": {},
   "outputs": [
    {
     "data": {
      "text/plain": [
       "False"
      ]
     },
     "execution_count": 21,
     "metadata": {},
     "output_type": "execute_result"
    }
   ],
   "source": [
    "x == y"
   ]
  },
  {
   "cell_type": "markdown",
   "id": "d38d066a",
   "metadata": {},
   "source": [
    "The comparison operator `!=` checks if the values of two operands are not equal."
   ]
  },
  {
   "cell_type": "code",
   "execution_count": 22,
   "id": "491cdb9d",
   "metadata": {},
   "outputs": [
    {
     "data": {
      "text/plain": [
       "True"
      ]
     },
     "execution_count": 22,
     "metadata": {},
     "output_type": "execute_result"
    }
   ],
   "source": [
    "x != y"
   ]
  },
  {
   "cell_type": "code",
   "execution_count": 23,
   "id": "92a733ad-84d6-4c2e-b34e-f9f7b93c3cbe",
   "metadata": {},
   "outputs": [
    {
     "data": {
      "text/plain": [
       "False"
      ]
     },
     "execution_count": 23,
     "metadata": {},
     "output_type": "execute_result"
    }
   ],
   "source": [
    "x != 5"
   ]
  },
  {
   "cell_type": "markdown",
   "id": "d77e94a7",
   "metadata": {},
   "source": [
    "The comparison operator `>` checks if the value of left operand is greater than the value of right operand, while `>=` checks if the value of left operand is greater or equal than the value of right operand."
   ]
  },
  {
   "cell_type": "code",
   "execution_count": 24,
   "id": "55ef8393",
   "metadata": {},
   "outputs": [
    {
     "data": {
      "text/plain": [
       "False"
      ]
     },
     "execution_count": 24,
     "metadata": {},
     "output_type": "execute_result"
    }
   ],
   "source": [
    "x > y"
   ]
  },
  {
   "cell_type": "code",
   "execution_count": 25,
   "id": "c7f4fa15-57c7-4690-a997-80ba432dcdb9",
   "metadata": {
    "scrolled": true
   },
   "outputs": [
    {
     "data": {
      "text/plain": [
       "True"
      ]
     },
     "execution_count": 25,
     "metadata": {},
     "output_type": "execute_result"
    }
   ],
   "source": [
    "y >= x"
   ]
  },
  {
   "cell_type": "markdown",
   "id": "c1078f57",
   "metadata": {},
   "source": [
    "The comparison operator `<` checks if the value of left operand is greater than the value of right operand, while `<=` checks if the value of left operand is greater or equal than the value of right operand."
   ]
  },
  {
   "cell_type": "code",
   "execution_count": 26,
   "id": "f258099c",
   "metadata": {},
   "outputs": [
    {
     "data": {
      "text/plain": [
       "True"
      ]
     },
     "execution_count": 26,
     "metadata": {},
     "output_type": "execute_result"
    }
   ],
   "source": [
    "x <= y"
   ]
  },
  {
   "cell_type": "code",
   "execution_count": 27,
   "id": "f61c108c-e7d2-486b-8e61-28d57f0c9b5c",
   "metadata": {},
   "outputs": [
    {
     "data": {
      "text/plain": [
       "False"
      ]
     },
     "execution_count": 27,
     "metadata": {},
     "output_type": "execute_result"
    }
   ],
   "source": [
    "y < x"
   ]
  },
  {
   "cell_type": "code",
   "execution_count": 28,
   "id": "2a94fac7-393f-40fb-90b3-a0a4afb4bd76",
   "metadata": {},
   "outputs": [
    {
     "data": {
      "text/plain": [
       "False"
      ]
     },
     "execution_count": 28,
     "metadata": {},
     "output_type": "execute_result"
    }
   ],
   "source": [
    "'abc' == 'bcd'"
   ]
  },
  {
   "cell_type": "code",
   "execution_count": 29,
   "id": "78633874-0840-46cb-bab4-2fd091f91023",
   "metadata": {},
   "outputs": [
    {
     "data": {
      "text/plain": [
       "True"
      ]
     },
     "execution_count": 29,
     "metadata": {},
     "output_type": "execute_result"
    }
   ],
   "source": [
    "'abc' != 'bcd'"
   ]
  },
  {
   "cell_type": "markdown",
   "id": "48172c70",
   "metadata": {},
   "source": [
    "## Other Operators\n",
    "\n",
    "Python’s **membership operators** test for membership in a sequence, such as strings, lists, or tuples. The `in` operator evaluates to true if it finds a variable in the specified sequence and false otherwise; the `not in` operator evaluates to true if it does not finds a variable in the specified sequence and false otherwise."
   ]
  },
  {
   "cell_type": "code",
   "execution_count": 30,
   "id": "50e9d002",
   "metadata": {},
   "outputs": [
    {
     "data": {
      "text/plain": [
       "False"
      ]
     },
     "execution_count": 30,
     "metadata": {},
     "output_type": "execute_result"
    }
   ],
   "source": [
    "fruit = {'apple', 'banana', 'cherry'}\n",
    "'orange' in fruit"
   ]
  },
  {
   "cell_type": "code",
   "execution_count": 31,
   "id": "cadc67a2-75d8-4936-86f0-76718a7eae98",
   "metadata": {},
   "outputs": [
    {
     "data": {
      "text/plain": [
       "True"
      ]
     },
     "execution_count": 31,
     "metadata": {},
     "output_type": "execute_result"
    }
   ],
   "source": [
    "'orange' not in fruit"
   ]
  },
  {
   "cell_type": "markdown",
   "id": "eb3e688d",
   "metadata": {},
   "source": [
    "**Identity operators** compare the memory locations of two objects. The `is` operator evaluates to true if the variables on either side of the operator point to the same object and false otherwise; the `is not` operator evaluates to false if the variables on either side of the operator point to the same object and true otherwise. "
   ]
  },
  {
   "cell_type": "code",
   "execution_count": 32,
   "id": "6977f7c4",
   "metadata": {},
   "outputs": [],
   "source": [
    "x = 5\n",
    "y = x"
   ]
  },
  {
   "cell_type": "code",
   "execution_count": 33,
   "id": "335f6d09-8308-4cd5-a741-74f0979259b7",
   "metadata": {},
   "outputs": [
    {
     "data": {
      "text/plain": [
       "True"
      ]
     },
     "execution_count": 33,
     "metadata": {},
     "output_type": "execute_result"
    }
   ],
   "source": [
    "x is y"
   ]
  },
  {
   "cell_type": "code",
   "execution_count": 34,
   "id": "27d5c3f1-3e45-4d95-8b4a-06919e402845",
   "metadata": {},
   "outputs": [
    {
     "data": {
      "text/plain": [
       "False"
      ]
     },
     "execution_count": 34,
     "metadata": {},
     "output_type": "execute_result"
    }
   ],
   "source": [
    "x is not y"
   ]
  },
  {
   "cell_type": "markdown",
   "id": "eb9c5bd9",
   "metadata": {},
   "source": [
    "# Indentation\n",
    "\n",
    "**Indentation** refers to the spaces at the beginning of a code line. While in other programming languages the indentation in code is for readability only, it is very important in Python since it is used to indicate a block of code. One level of indentation equals 4 blank spaces or a tab."
   ]
  },
  {
   "cell_type": "code",
   "execution_count": null,
   "id": "608cb5e3",
   "metadata": {},
   "outputs": [],
   "source": [
    "with open('./file') as f:\n",
    "    text = f.read()\n",
    "    text = text.upper()\n",
    "\n",
    "print(text)"
   ]
  },
  {
   "cell_type": "markdown",
   "id": "cbcec1b9",
   "metadata": {},
   "source": [
    "# Conditional Statements\n",
    "\n",
    "Decision-making in a programming language is automated using **conditional statements**, in which the machine evaluates the code to see if it meets the specified conditions. The conditions are evaluated and processed as true or false values. If this is found to be true, the program is run as needed. If the condition is found to be false, the statement following the conditional statement is executed."
   ]
  },
  {
   "cell_type": "code",
   "execution_count": 46,
   "id": "3c08bae8",
   "metadata": {},
   "outputs": [],
   "source": [
    "m1 = 12\n",
    "m2 = 15\n",
    "m3 = 20\n",
    "\n",
    "grade = (m1+m2+m3)/3"
   ]
  },
  {
   "cell_type": "code",
   "execution_count": 47,
   "id": "ba201943-ad94-4bcb-9360-e534a67a67d5",
   "metadata": {},
   "outputs": [
    {
     "data": {
      "text/plain": [
       "15.666666666666666"
      ]
     },
     "execution_count": 47,
     "metadata": {},
     "output_type": "execute_result"
    }
   ],
   "source": [
    "grade"
   ]
  },
  {
   "cell_type": "markdown",
   "id": "4382dbce",
   "metadata": {},
   "source": [
    "## `if`\n",
    "\n",
    "The `if` statement is the most fundamental decision-making statement, in which the code is executed based on whether it meets the specified condition. It has a code body that only executes if the condition in the if statement is true.\n",
    "\n",
    "```\n",
    "if <expr>:\n",
    "    <statement>\n",
    "```"
   ]
  },
  {
   "cell_type": "code",
   "execution_count": 37,
   "id": "0cb9eac0",
   "metadata": {},
   "outputs": [
    {
     "name": "stdout",
     "output_type": "stream",
     "text": [
      "Exam passed!\n"
     ]
    }
   ],
   "source": [
    "if grade >= 18:\n",
    "    print('Exam passed!')"
   ]
  },
  {
   "cell_type": "code",
   "execution_count": 42,
   "id": "2c554fed",
   "metadata": {},
   "outputs": [],
   "source": [
    "if grade >= 18:\n",
    "    print('Exam passed!')"
   ]
  },
  {
   "cell_type": "code",
   "execution_count": 48,
   "id": "483535bd-6d28-4c49-80d2-281562e17cc5",
   "metadata": {},
   "outputs": [
    {
     "name": "stdout",
     "output_type": "stream",
     "text": [
      "Move on to the next exam.\n"
     ]
    }
   ],
   "source": [
    "if grade >= 18:\n",
    "    print('Exam passed!')\n",
    "\n",
    "print('Move on to the next exam.')"
   ]
  },
  {
   "cell_type": "markdown",
   "id": "82610545",
   "metadata": {},
   "source": [
    "## `if-else`\n",
    "\n",
    "The `if-else` statement is used when both the true and false parts of a given condition are specified to be executed. When the condition is true, the statement inside the `if` block is executed; if the condition is false, the statement inside the `else` block is executed.\n",
    "\n",
    "\n",
    "```\n",
    "if <expr>:\n",
    "    <statement>\n",
    "else:\n",
    "    <statement>\n",
    "```"
   ]
  },
  {
   "cell_type": "code",
   "execution_count": 53,
   "id": "d1e1a0b4-9a15-45b1-80bb-770b34eb111c",
   "metadata": {},
   "outputs": [],
   "source": [
    "grade = 12"
   ]
  },
  {
   "cell_type": "code",
   "execution_count": 51,
   "id": "4a1fae6b",
   "metadata": {},
   "outputs": [
    {
     "name": "stdout",
     "output_type": "stream",
     "text": [
      "Exam passed!\n",
      "Exam failed.\n"
     ]
    }
   ],
   "source": [
    "if grade >= 18:\n",
    "    print('Exam passed!')\n",
    "\n",
    "print('Exam failed.')"
   ]
  },
  {
   "cell_type": "code",
   "execution_count": 54,
   "id": "12f90c05-212f-41bc-b2bd-d0402550085f",
   "metadata": {},
   "outputs": [
    {
     "name": "stdout",
     "output_type": "stream",
     "text": [
      "Exam failed.\n"
     ]
    }
   ],
   "source": [
    "if grade >= 18:\n",
    "    print('Exam passed!')\n",
    "else:\n",
    "    print('Exam failed.')"
   ]
  },
  {
   "cell_type": "code",
   "execution_count": 55,
   "id": "0a47e238-ed25-4ff8-9abf-a1d8194392a1",
   "metadata": {},
   "outputs": [
    {
     "name": "stdout",
     "output_type": "stream",
     "text": [
      "Exam failed.\n"
     ]
    }
   ],
   "source": [
    "# Wrong way\n",
    "if grade >= 18:\n",
    "    print('Exam passed!')\n",
    "if grade < 18:\n",
    "    print('Exam failed.')"
   ]
  },
  {
   "cell_type": "markdown",
   "id": "cb4af676",
   "metadata": {},
   "source": [
    "## `if-elif-else`\n",
    "\n",
    "In this case, the `if` condition is evaluated first. If it is false, the `elif` statement(s) will be evaluated; if it also comes false, the `else` statement will be executed.\n",
    "\n",
    "```\n",
    "if <expr>:\n",
    "    <statement>\n",
    "elif <expr>:\n",
    "    <statement>\n",
    "else:\n",
    "    <statement>\n",
    "```"
   ]
  },
  {
   "cell_type": "code",
   "execution_count": 64,
   "id": "3fbec781-1c34-4f69-84cf-e5990e6a9414",
   "metadata": {},
   "outputs": [],
   "source": [
    "grade = 30"
   ]
  },
  {
   "cell_type": "code",
   "execution_count": 61,
   "id": "f9854350-1377-4f39-b4d0-be2b8149293c",
   "metadata": {},
   "outputs": [
    {
     "data": {
      "text/plain": [
       "True"
      ]
     },
     "execution_count": 61,
     "metadata": {},
     "output_type": "execute_result"
    }
   ],
   "source": [
    "grade >= 18 and grade < 28"
   ]
  },
  {
   "cell_type": "code",
   "execution_count": 62,
   "id": "de53dff0",
   "metadata": {},
   "outputs": [
    {
     "name": "stdout",
     "output_type": "stream",
     "text": [
      "Exam passed.\n"
     ]
    }
   ],
   "source": [
    "if grade >= 28:\n",
    "    print('Congratulations, you passed the exam.')\n",
    "elif grade >= 18 and grade < 28:\n",
    "    print('Exam passed.')\n",
    "else:\n",
    "    print('Exam failed.')"
   ]
  },
  {
   "cell_type": "code",
   "execution_count": 65,
   "id": "06b7ca93-94dc-47ab-9a7f-767e7ab661a7",
   "metadata": {},
   "outputs": [
    {
     "name": "stdout",
     "output_type": "stream",
     "text": [
      "Congratulations, you passed the exam.\n"
     ]
    }
   ],
   "source": [
    "if grade >= 28:\n",
    "    print('Congratulations, you passed the exam.')\n",
    "elif grade >= 18:\n",
    "    print('Exam passed.')\n",
    "else:\n",
    "    print('Exam failed.')"
   ]
  },
  {
   "cell_type": "markdown",
   "id": "169f8fa4",
   "metadata": {},
   "source": [
    "## Nested `if` Statements\n",
    "\n",
    "A Nested `if` statement is one in which an `if` statement is nested inside another `if` statement.\n",
    "\n",
    "```\n",
    "if <expr>:\n",
    "    if <expr>:\n",
    "        <statement>\n",
    "    else:\n",
    "        <statement>\n",
    "else:\n",
    "    <statement>\n",
    "```"
   ]
  },
  {
   "cell_type": "code",
   "execution_count": 70,
   "id": "7b69b8f4",
   "metadata": {},
   "outputs": [],
   "source": [
    "m1 = 20\n",
    "m2 = 12\n",
    "grade = (m1+m2)/2"
   ]
  },
  {
   "cell_type": "code",
   "execution_count": 71,
   "id": "feaaa5e4-6eef-46c6-acec-6f4785d7ddbd",
   "metadata": {},
   "outputs": [
    {
     "name": "stdout",
     "output_type": "stream",
     "text": [
      "You passed the first test.\n",
      "You failed the second test.\n"
     ]
    }
   ],
   "source": [
    "if m1 >= 18:\n",
    "    print('You passed the first test.')\n",
    "    if m2 >= 18:\n",
    "        print(f'You passed the exam with a grade of {grade}.')\n",
    "    else:\n",
    "        print('You failed the second test.')\n",
    "else:\n",
    "    print('You failed the first test.')"
   ]
  },
  {
   "cell_type": "markdown",
   "id": "35b08b17",
   "metadata": {},
   "source": [
    "## One-Line `if` Statement\n",
    "\n",
    "One-line `if` statement is used when only one expression needs to be evaluated. The statement(s) can then be mentioned in the same line which holds the `if` statement.\n",
    "\n",
    "```\n",
    "if <expr>: <statement>\n",
    "```"
   ]
  },
  {
   "cell_type": "code",
   "execution_count": null,
   "id": "f07665f2",
   "metadata": {},
   "outputs": [],
   "source": [
    "\n",
    "\n"
   ]
  },
  {
   "cell_type": "markdown",
   "id": "2d8d5fa5",
   "metadata": {},
   "source": [
    "## Ternary Operator\n",
    "\n",
    "A ternary operator is used to mention on the same line `if-else` statements in which there is only one expression to evaluate.\n",
    "\n",
    "```\n",
    "<statement> if <expr> else <statement>\n",
    "```"
   ]
  },
  {
   "cell_type": "code",
   "execution_count": null,
   "id": "0b25468d",
   "metadata": {},
   "outputs": [],
   "source": [
    "\n",
    "\n"
   ]
  },
  {
   "cell_type": "code",
   "execution_count": null,
   "id": "ce1a799b",
   "metadata": {},
   "outputs": [],
   "source": []
  },
  {
   "cell_type": "markdown",
   "id": "284c0376",
   "metadata": {},
   "source": [
    "# Exercises\n",
    "\n",
    "1. Write a program that converts a given temperature according to its unit of measure, i.e. from Celsius to Fahrenheit or viceversa."
   ]
  },
  {
   "cell_type": "code",
   "execution_count": null,
   "id": "bc5babb9",
   "metadata": {},
   "outputs": [],
   "source": []
  },
  {
   "cell_type": "markdown",
   "id": "6e360038",
   "metadata": {},
   "source": [
    "2. Write a program that prints the number of days depending on the given month and, in case it is February, it also checks if the given year is leap."
   ]
  },
  {
   "cell_type": "code",
   "execution_count": null,
   "id": "489ed65e",
   "metadata": {},
   "outputs": [],
   "source": []
  }
 ],
 "metadata": {
  "kernelspec": {
   "display_name": "Python 3 (ipykernel)",
   "language": "python",
   "name": "python3"
  },
  "language_info": {
   "codemirror_mode": {
    "name": "ipython",
    "version": 3
   },
   "file_extension": ".py",
   "mimetype": "text/x-python",
   "name": "python",
   "nbconvert_exporter": "python",
   "pygments_lexer": "ipython3",
   "version": "3.11.5"
  }
 },
 "nbformat": 4,
 "nbformat_minor": 5
}
