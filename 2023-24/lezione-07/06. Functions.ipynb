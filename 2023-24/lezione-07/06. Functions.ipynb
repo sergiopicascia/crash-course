{
 "cells": [
  {
   "cell_type": "markdown",
   "id": "33918036",
   "metadata": {},
   "source": [
    "# Functions\n",
    "\n",
    "A **function** is a group of related statements that performs a specific task: it avoids repetition and makes the code reusable. A function is defined in Python using the following syntax:\n",
    "\n",
    "```\n",
    "def function(parameters):\n",
    "    <statement>\n",
    "```"
   ]
  },
  {
   "cell_type": "code",
   "execution_count": 1,
   "id": "5450a70a-47ba-4012-89be-acc89faa00d8",
   "metadata": {},
   "outputs": [
    {
     "data": {
      "text/plain": [
       "builtin_function_or_method"
      ]
     },
     "execution_count": 1,
     "metadata": {},
     "output_type": "execute_result"
    }
   ],
   "source": [
    "type(print)"
   ]
  },
  {
   "cell_type": "code",
   "execution_count": 2,
   "id": "164e81bd",
   "metadata": {},
   "outputs": [],
   "source": [
    "# Function definition\n",
    "def say_hello():\n",
    "    print('Hello!')"
   ]
  },
  {
   "cell_type": "markdown",
   "id": "e10e0c5d",
   "metadata": {},
   "source": [
    "To call a function we simply type the function name with appropriate parameters."
   ]
  },
  {
   "cell_type": "code",
   "execution_count": 3,
   "id": "2db46119",
   "metadata": {},
   "outputs": [
    {
     "name": "stdout",
     "output_type": "stream",
     "text": [
      "Hello!\n"
     ]
    }
   ],
   "source": [
    "# Function calling\n",
    "say_hello()"
   ]
  },
  {
   "cell_type": "markdown",
   "id": "77ce250a",
   "metadata": {},
   "source": [
    "Information can be passed into functions as **parameters**. Parameters are specified after the function name, inside the parentheses. You can add as many parameters as you want, just separate them with a comma."
   ]
  },
  {
   "cell_type": "code",
   "execution_count": 4,
   "id": "7799311e",
   "metadata": {},
   "outputs": [],
   "source": [
    "# Function w/ parameters\n",
    "def square(n):\n",
    "    print(n**2)"
   ]
  },
  {
   "cell_type": "code",
   "execution_count": 5,
   "id": "f3e9e1b1",
   "metadata": {},
   "outputs": [
    {
     "name": "stdout",
     "output_type": "stream",
     "text": [
      "4\n"
     ]
    }
   ],
   "source": [
    "square(2)"
   ]
  },
  {
   "cell_type": "code",
   "execution_count": 7,
   "id": "ddba7c58-22ba-4387-8d74-b0e87359af90",
   "metadata": {},
   "outputs": [
    {
     "name": "stdout",
     "output_type": "stream",
     "text": [
      "64\n"
     ]
    }
   ],
   "source": [
    "square(8)"
   ]
  },
  {
   "cell_type": "code",
   "execution_count": 8,
   "id": "cdf1f8be-f746-456a-9710-a04b4a6ead54",
   "metadata": {},
   "outputs": [
    {
     "ename": "TypeError",
     "evalue": "unsupported operand type(s) for ** or pow(): 'str' and 'int'",
     "output_type": "error",
     "traceback": [
      "\u001b[0;31m---------------------------------------------------------------------------\u001b[0m",
      "\u001b[0;31mTypeError\u001b[0m                                 Traceback (most recent call last)",
      "Cell \u001b[0;32mIn[8], line 1\u001b[0m\n\u001b[0;32m----> 1\u001b[0m \u001b[43msquare\u001b[49m\u001b[43m(\u001b[49m\u001b[38;5;124;43m'\u001b[39;49m\u001b[38;5;124;43ma\u001b[39;49m\u001b[38;5;124;43m'\u001b[39;49m\u001b[43m)\u001b[49m\n",
      "Cell \u001b[0;32mIn[4], line 3\u001b[0m, in \u001b[0;36msquare\u001b[0;34m(n)\u001b[0m\n\u001b[1;32m      2\u001b[0m \u001b[38;5;28;01mdef\u001b[39;00m \u001b[38;5;21msquare\u001b[39m(n):\n\u001b[0;32m----> 3\u001b[0m     \u001b[38;5;28mprint\u001b[39m(\u001b[43mn\u001b[49m\u001b[38;5;241;43m*\u001b[39;49m\u001b[38;5;241;43m*\u001b[39;49m\u001b[38;5;241;43m2\u001b[39;49m)\n",
      "\u001b[0;31mTypeError\u001b[0m: unsupported operand type(s) for ** or pow(): 'str' and 'int'"
     ]
    }
   ],
   "source": [
    "square('a')"
   ]
  },
  {
   "cell_type": "code",
   "execution_count": 9,
   "id": "17715502-7141-4c65-af73-1bfc0f02f346",
   "metadata": {},
   "outputs": [],
   "source": [
    "def say_hello(name):\n",
    "    print(f'Hello, {name}!')"
   ]
  },
  {
   "cell_type": "code",
   "execution_count": 10,
   "id": "34b24140-e3fd-42dd-9f32-7319a017e7d5",
   "metadata": {},
   "outputs": [
    {
     "name": "stdout",
     "output_type": "stream",
     "text": [
      "Hello, Alice!\n"
     ]
    }
   ],
   "source": [
    "say_hello('Alice')"
   ]
  },
  {
   "cell_type": "markdown",
   "id": "977f193a",
   "metadata": {},
   "source": [
    "*Default values* indicate that the function argument will take that value if no argument value is passed during the function call. The default value is assigned by using the assignment(=) operator of the form `key=value`."
   ]
  },
  {
   "cell_type": "code",
   "execution_count": 11,
   "id": "d4b064fb",
   "metadata": {},
   "outputs": [],
   "source": [
    "# Function w/ default parameters\n",
    "def say_hello(name='Alice'):\n",
    "    print(f'Hello, {name}!')"
   ]
  },
  {
   "cell_type": "code",
   "execution_count": 12,
   "id": "a72dacc3",
   "metadata": {},
   "outputs": [
    {
     "name": "stdout",
     "output_type": "stream",
     "text": [
      "Hello, Alice!\n"
     ]
    }
   ],
   "source": [
    "say_hello()"
   ]
  },
  {
   "cell_type": "code",
   "execution_count": 13,
   "id": "055a7ccc-0a2c-424d-b1fb-b0c09d94271a",
   "metadata": {},
   "outputs": [
    {
     "name": "stdout",
     "output_type": "stream",
     "text": [
      "Hello, Bob!\n"
     ]
    }
   ],
   "source": [
    "say_hello('Bob')"
   ]
  },
  {
   "cell_type": "markdown",
   "id": "5f4a462b",
   "metadata": {},
   "source": [
    "`*args` allows to pass a variable number of non keyword arguments in the function."
   ]
  },
  {
   "cell_type": "code",
   "execution_count": 40,
   "id": "0ce829f7",
   "metadata": {},
   "outputs": [],
   "source": [
    "# Usage of *args\n"
   ]
  },
  {
   "cell_type": "code",
   "execution_count": 41,
   "id": "3dd14c2e",
   "metadata": {},
   "outputs": [
    {
     "name": "stdout",
     "output_type": "stream",
     "text": [
      "Hello Alice!\n",
      "Hello Bob!\n",
      "Hello Charlie!\n"
     ]
    }
   ],
   "source": []
  },
  {
   "cell_type": "markdown",
   "id": "90b580ec",
   "metadata": {},
   "source": [
    "`**kwargs` allows to pass a variable number of non keyword arguments in the function."
   ]
  },
  {
   "cell_type": "code",
   "execution_count": 47,
   "id": "61b50e7c",
   "metadata": {},
   "outputs": [],
   "source": [
    "# Usage of **kargs\n"
   ]
  },
  {
   "cell_type": "code",
   "execution_count": 50,
   "id": "0a7cfcbb",
   "metadata": {},
   "outputs": [
    {
     "name": "stdout",
     "output_type": "stream",
     "text": [
      "Hi Alice!\n",
      "Hello Bob!\n",
      "Good morning Charlie!\n"
     ]
    }
   ],
   "source": []
  },
  {
   "cell_type": "markdown",
   "id": "5649a463",
   "metadata": {},
   "source": [
    "## `return`\n",
    "\n",
    "The `return` statement is used inside a function to send the function's result back to the caller. "
   ]
  },
  {
   "cell_type": "code",
   "execution_count": 14,
   "id": "704a6319-580f-4be0-af33-e9b7aeec7cf8",
   "metadata": {},
   "outputs": [
    {
     "name": "stdout",
     "output_type": "stream",
     "text": [
      "16\n"
     ]
    }
   ],
   "source": [
    "square(4)"
   ]
  },
  {
   "cell_type": "code",
   "execution_count": 15,
   "id": "90279039-56e2-4edd-aad4-2d36bac5d263",
   "metadata": {},
   "outputs": [
    {
     "name": "stdout",
     "output_type": "stream",
     "text": [
      "16\n"
     ]
    }
   ],
   "source": [
    "x = 4\n",
    "y = square(x)"
   ]
  },
  {
   "cell_type": "code",
   "execution_count": 18,
   "id": "2b07dae7-58be-4908-b5c8-bde3a9930692",
   "metadata": {},
   "outputs": [
    {
     "name": "stdout",
     "output_type": "stream",
     "text": [
      "None\n"
     ]
    }
   ],
   "source": [
    "print(y)"
   ]
  },
  {
   "cell_type": "code",
   "execution_count": 19,
   "id": "bc3fb8dc",
   "metadata": {},
   "outputs": [],
   "source": [
    "# Square function\n",
    "def square(n):\n",
    "    return n**2"
   ]
  },
  {
   "cell_type": "code",
   "execution_count": 20,
   "id": "c2b82451-7308-4632-a228-338b23f0c27b",
   "metadata": {},
   "outputs": [
    {
     "data": {
      "text/plain": [
       "16"
      ]
     },
     "execution_count": 20,
     "metadata": {},
     "output_type": "execute_result"
    }
   ],
   "source": [
    "square(4)"
   ]
  },
  {
   "cell_type": "code",
   "execution_count": 21,
   "id": "50196dee-eec0-45f6-b516-aed691b410b1",
   "metadata": {},
   "outputs": [],
   "source": [
    "x = 4\n",
    "y = square(x)"
   ]
  },
  {
   "cell_type": "code",
   "execution_count": 23,
   "id": "757452b8-8300-4733-b3fa-6f22865157df",
   "metadata": {},
   "outputs": [
    {
     "name": "stdout",
     "output_type": "stream",
     "text": [
      "16\n"
     ]
    }
   ],
   "source": [
    "print(y)"
   ]
  },
  {
   "cell_type": "code",
   "execution_count": 31,
   "id": "f5b196ad",
   "metadata": {},
   "outputs": [],
   "source": [
    "# Email generator\n",
    "def email_generator(name, surname, role='student'):\n",
    "    if role == 'student':\n",
    "        email_address = f'{name}.{surname}@studenti.unimi.it'\n",
    "    else:\n",
    "        email_address = f'{name}.{surname}@unimi.it'\n",
    "    return email_address"
   ]
  },
  {
   "cell_type": "code",
   "execution_count": 32,
   "id": "c9856f63-5f9d-4f6e-8bbe-a93e147c37eb",
   "metadata": {},
   "outputs": [
    {
     "data": {
      "text/plain": [
       "'sergio.picascia@studenti.unimi.it'"
      ]
     },
     "execution_count": 32,
     "metadata": {},
     "output_type": "execute_result"
    }
   ],
   "source": [
    "email_generator('sergio', 'picascia')"
   ]
  },
  {
   "cell_type": "code",
   "execution_count": 30,
   "id": "41eeb3b5-8dc5-4a18-9e61-ac009cb86946",
   "metadata": {},
   "outputs": [
    {
     "data": {
      "text/plain": [
       "'sergio.picascia@unimi.it'"
      ]
     },
     "execution_count": 30,
     "metadata": {},
     "output_type": "execute_result"
    }
   ],
   "source": [
    "email_generator('sergio', 'picascia', 'staff')"
   ]
  },
  {
   "cell_type": "code",
   "execution_count": 33,
   "id": "76e0faf7-c385-47de-b1b9-c253c975ae99",
   "metadata": {},
   "outputs": [
    {
     "data": {
      "text/plain": [
       "'sergio.picascia@unimi.it'"
      ]
     },
     "execution_count": 33,
     "metadata": {},
     "output_type": "execute_result"
    }
   ],
   "source": [
    "email_generator(name='sergio', surname='picascia', role='staff')"
   ]
  },
  {
   "cell_type": "code",
   "execution_count": 34,
   "id": "3af09b40-2778-4a3d-8961-71d46449ffdc",
   "metadata": {},
   "outputs": [
    {
     "data": {
      "text/plain": [
       "'picascia.sergio@unimi.it'"
      ]
     },
     "execution_count": 34,
     "metadata": {},
     "output_type": "execute_result"
    }
   ],
   "source": [
    "email_generator('picascia', 'sergio', 'staff')"
   ]
  },
  {
   "cell_type": "markdown",
   "id": "2549dcc8",
   "metadata": {},
   "source": [
    "## Recursion\n",
    "\n",
    "The process in which a function calls itself directly or indirectly is called **recursion** and the corresponding function is called a *recursive function*.\n",
    "\n",
    "- Performing the same operations multiple times with different inputs.\n",
    "- In every step, we try smaller inputs to make the problem smaller.\n",
    "- Base condition is needed to stop the recursion otherwise infinite loop will occur."
   ]
  },
  {
   "cell_type": "code",
   "execution_count": 70,
   "id": "a73f1310",
   "metadata": {},
   "outputs": [],
   "source": [
    "# Countdown\n"
   ]
  },
  {
   "cell_type": "code",
   "execution_count": 79,
   "id": "c37ca183",
   "metadata": {},
   "outputs": [],
   "source": [
    "# Factorial\n"
   ]
  },
  {
   "cell_type": "code",
   "execution_count": 87,
   "id": "edf2d6ec",
   "metadata": {},
   "outputs": [],
   "source": [
    "# Fibonacci sequence\n"
   ]
  },
  {
   "cell_type": "markdown",
   "id": "c58f90d6",
   "metadata": {},
   "source": [
    "## `lambda` functions\n",
    "\n",
    "A **lambda function** is a small anonymous function, which can have many parameters but only one expression.\n",
    "\n",
    "```\n",
    "lambda parameter(s): expression\n",
    "```"
   ]
  },
  {
   "cell_type": "code",
   "execution_count": null,
   "id": "80264ab5",
   "metadata": {},
   "outputs": [],
   "source": []
  },
  {
   "cell_type": "markdown",
   "id": "4371e116",
   "metadata": {},
   "source": [
    "# Variable Scope\n",
    "\n",
    "Not all variables can be accessed from anywhere in a program. The part of a program where a variable is accessible is called its **scope**. There are four major types of variable scope and is the basis for the *LEGB rule*: Local, Enclosing, Global, Built-in."
   ]
  },
  {
   "cell_type": "code",
   "execution_count": 117,
   "id": "52a9a88a",
   "metadata": {},
   "outputs": [],
   "source": [
    "# Local scope\n"
   ]
  },
  {
   "cell_type": "code",
   "execution_count": 123,
   "id": "005fdd88",
   "metadata": {},
   "outputs": [
    {
     "name": "stdout",
     "output_type": "stream",
     "text": [
      "This is printed in the outer function: 5\n",
      "This is printed in the inner function: 8\n",
      "This is printed in the inner function: 5\n"
     ]
    }
   ],
   "source": [
    "# Enclosing scope\n"
   ]
  },
  {
   "cell_type": "code",
   "execution_count": 125,
   "id": "b53e4eb6",
   "metadata": {},
   "outputs": [],
   "source": [
    "# Global scope\n"
   ]
  },
  {
   "cell_type": "code",
   "execution_count": 136,
   "id": "c8039c0f",
   "metadata": {},
   "outputs": [],
   "source": [
    "# global keyword\n"
   ]
  },
  {
   "cell_type": "code",
   "execution_count": 149,
   "id": "371e6ab5",
   "metadata": {},
   "outputs": [
    {
     "name": "stdout",
     "output_type": "stream",
     "text": [
      "This is printed in the outer function: 5\n",
      "This is printed in the inner function: 8\n",
      "This is printed in the inner function: 6\n",
      "This is printed in the outer function: 6\n"
     ]
    }
   ],
   "source": [
    "# nonlocal keyword\n"
   ]
  },
  {
   "cell_type": "markdown",
   "id": "9c9f45a2",
   "metadata": {},
   "source": [
    "# Exercises\n",
    "\n",
    "1. Write a function that returns even numbers from a given list."
   ]
  },
  {
   "cell_type": "code",
   "execution_count": null,
   "id": "8db1a452",
   "metadata": {},
   "outputs": [],
   "source": []
  },
  {
   "cell_type": "markdown",
   "id": "16560107",
   "metadata": {},
   "source": [
    "2. Write a function that counts the occurrences of each vowel inside a given string."
   ]
  },
  {
   "cell_type": "code",
   "execution_count": null,
   "id": "bc75f400",
   "metadata": {},
   "outputs": [],
   "source": []
  }
 ],
 "metadata": {
  "kernelspec": {
   "display_name": "Python 3 (ipykernel)",
   "language": "python",
   "name": "python3"
  },
  "language_info": {
   "codemirror_mode": {
    "name": "ipython",
    "version": 3
   },
   "file_extension": ".py",
   "mimetype": "text/x-python",
   "name": "python",
   "nbconvert_exporter": "python",
   "pygments_lexer": "ipython3",
   "version": "3.11.5"
  }
 },
 "nbformat": 4,
 "nbformat_minor": 5
}
