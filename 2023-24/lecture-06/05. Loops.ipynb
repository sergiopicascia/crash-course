{
 "cells": [
  {
   "cell_type": "markdown",
   "id": "ad762ad6",
   "metadata": {},
   "source": [
    "# Loops\n",
    "\n",
    "A **loop** in a computer program is an instruction that repeats until a specified condition is reached.\n",
    "\n",
    "## `for`\n",
    "\n",
    "A `for` loop is used for iterating over a sequence, either a list, a tuple, a dictionary, a set, or a string, and execute a set of statements, once for each item in the sequence.\n",
    "\n",
    "```\n",
    "for <var> in <iterable>:\n",
    "    <statement>\n",
    "```\n",
    "\n",
    "An **iterable** is any Python object capable of returning its members one at a time, permitting it to be iterated over in a for-loop."
   ]
  },
  {
   "cell_type": "code",
   "execution_count": 1,
   "id": "d7b602b3",
   "metadata": {},
   "outputs": [],
   "source": [
    "names = ['Alice', 'Bob', 'Charlie']"
   ]
  },
  {
   "cell_type": "code",
   "execution_count": 2,
   "id": "be6d2dfa-ec09-4bc3-bbe0-56a1b2861b5d",
   "metadata": {},
   "outputs": [
    {
     "name": "stdout",
     "output_type": "stream",
     "text": [
      "Hello, Alice\n",
      "Hello, Bob\n",
      "Hello, Charlie\n"
     ]
    }
   ],
   "source": [
    "print(f'Hello, {names[0]}')\n",
    "print(f'Hello, {names[1]}')\n",
    "print(f'Hello, {names[2]}')"
   ]
  },
  {
   "cell_type": "code",
   "execution_count": 3,
   "id": "c74e69ee-9dc2-45f8-aac2-dcf74be9f49d",
   "metadata": {},
   "outputs": [
    {
     "name": "stdout",
     "output_type": "stream",
     "text": [
      "Hello, Alice\n",
      "Hello, Bob\n",
      "Hello, Charlie\n"
     ]
    }
   ],
   "source": [
    "for n in names:\n",
    "    print(f'Hello, {n}')"
   ]
  },
  {
   "cell_type": "code",
   "execution_count": 4,
   "id": "104da91e-8e2e-44bc-873c-ece57ed57241",
   "metadata": {},
   "outputs": [
    {
     "name": "stdout",
     "output_type": "stream",
     "text": [
      "Hello, ALICE\n",
      "Hello, BOB\n",
      "Hello, CHARLIE\n"
     ]
    }
   ],
   "source": [
    "for n in names:\n",
    "    new_name = n.upper()\n",
    "    print(f'Hello, {new_name}')    "
   ]
  },
  {
   "cell_type": "markdown",
   "id": "db5f2c45",
   "metadata": {},
   "source": [
    "## List Comprehension\n",
    "\n",
    "**List comprehension** offers a shorter syntax when you want to create a new list based on the values of an existing list.\n",
    "\n",
    "```\n",
    "[<statement> for <var> in <iterable>]\n",
    "```"
   ]
  },
  {
   "cell_type": "code",
   "execution_count": 5,
   "id": "0fbc5725",
   "metadata": {},
   "outputs": [],
   "source": [
    "# List comprehension\n",
    "upper_names = []\n",
    "\n",
    "for n in names:\n",
    "    new_name = n.upper()\n",
    "    upper_names.append(new_name)"
   ]
  },
  {
   "cell_type": "code",
   "execution_count": 6,
   "id": "582f2a57-35d3-4b7a-882c-30b39304ae20",
   "metadata": {},
   "outputs": [
    {
     "data": {
      "text/plain": [
       "['ALICE', 'BOB', 'CHARLIE']"
      ]
     },
     "execution_count": 6,
     "metadata": {},
     "output_type": "execute_result"
    }
   ],
   "source": [
    "upper_names"
   ]
  },
  {
   "cell_type": "code",
   "execution_count": 7,
   "id": "4ac523f7-a6a4-4cbc-9440-b2c1d3dc384a",
   "metadata": {},
   "outputs": [],
   "source": [
    "lower_names = [n.lower() for n in names]"
   ]
  },
  {
   "cell_type": "code",
   "execution_count": 8,
   "id": "509176f7-6014-4dec-8367-28a56e0fc5a3",
   "metadata": {},
   "outputs": [
    {
     "data": {
      "text/plain": [
       "['alice', 'bob', 'charlie']"
      ]
     },
     "execution_count": 8,
     "metadata": {},
     "output_type": "execute_result"
    }
   ],
   "source": [
    "lower_names"
   ]
  },
  {
   "cell_type": "markdown",
   "id": "ea50225b",
   "metadata": {},
   "source": [
    "## `while`\n",
    "\n",
    "The `while` loop is used to iterate over a block of code as long as the condition is true.\n",
    "\n",
    "```\n",
    "while <expr>:\n",
    "    <statement>\n",
    "```"
   ]
  },
  {
   "cell_type": "code",
   "execution_count": 9,
   "id": "f8f0353e",
   "metadata": {},
   "outputs": [
    {
     "name": "stdout",
     "output_type": "stream",
     "text": [
      "5\n",
      "4\n",
      "3\n",
      "2\n",
      "1\n"
     ]
    }
   ],
   "source": [
    "i = 5\n",
    "\n",
    "while i > 0:\n",
    "    print(i)\n",
    "    i -= 1 # i = i - 1"
   ]
  },
  {
   "cell_type": "code",
   "execution_count": null,
   "id": "a341d0be-8094-4863-ac24-912c161060df",
   "metadata": {},
   "outputs": [],
   "source": [
    "i = 5\n",
    "\n",
    "while i > 0:\n",
    "    print(i)"
   ]
  },
  {
   "cell_type": "markdown",
   "id": "240902fe",
   "metadata": {},
   "source": [
    "## `break`\n",
    "\n",
    "The `break` statement terminates the current loop and resumes execution at the next statement."
   ]
  },
  {
   "cell_type": "code",
   "execution_count": 11,
   "id": "4ccc12c7-199c-49f1-9b81-9b14256b5d36",
   "metadata": {},
   "outputs": [],
   "source": [
    "names = ['Alice', 'Bob', 'Charlie']"
   ]
  },
  {
   "cell_type": "code",
   "execution_count": 16,
   "id": "1b888254-39cb-426a-8c77-d9f03d0f1d57",
   "metadata": {},
   "outputs": [
    {
     "name": "stdout",
     "output_type": "stream",
     "text": [
      "Bob\n"
     ]
    }
   ],
   "source": [
    "for n in names:\n",
    "    if 'e' not in n:\n",
    "        print(n)"
   ]
  },
  {
   "cell_type": "code",
   "execution_count": 17,
   "id": "062ea024",
   "metadata": {},
   "outputs": [
    {
     "name": "stdout",
     "output_type": "stream",
     "text": [
      "Alice\n"
     ]
    }
   ],
   "source": [
    "for n in names:\n",
    "    if 'e' not in n:\n",
    "        break\n",
    "    print(n)"
   ]
  },
  {
   "cell_type": "markdown",
   "id": "78aa1f1c",
   "metadata": {},
   "source": [
    "## `continue`\n",
    "\n",
    "The `continue` statement rejects all the remaining statements in the current iteration of the loop and moves the control back to the top of the loop."
   ]
  },
  {
   "cell_type": "code",
   "execution_count": 18,
   "id": "88cc48da",
   "metadata": {},
   "outputs": [
    {
     "name": "stdout",
     "output_type": "stream",
     "text": [
      "Alice\n",
      "Charlie\n"
     ]
    }
   ],
   "source": [
    "for n in names:\n",
    "    if 'e' not in n:\n",
    "        continue\n",
    "    print(n)"
   ]
  },
  {
   "cell_type": "markdown",
   "id": "79300cdb",
   "metadata": {},
   "source": [
    "## `pass`\n",
    "\n",
    "The `pass` statement is used when a statement is required syntactically but you do not want any command or code to execute."
   ]
  },
  {
   "cell_type": "code",
   "execution_count": 19,
   "id": "b8043bb4",
   "metadata": {},
   "outputs": [
    {
     "name": "stdout",
     "output_type": "stream",
     "text": [
      "Alice\n",
      "Bob\n",
      "Charlie\n"
     ]
    }
   ],
   "source": [
    "for n in names:\n",
    "    if 'e' not in n:\n",
    "        pass\n",
    "    print(n)"
   ]
  },
  {
   "cell_type": "markdown",
   "id": "e23091af",
   "metadata": {},
   "source": [
    "## `else`\n",
    "\n",
    "The `else` clause executes after the loop completes normally. This means that the loop did not encounter a `break` statement."
   ]
  },
  {
   "cell_type": "code",
   "execution_count": 25,
   "id": "6156b96a",
   "metadata": {},
   "outputs": [
    {
     "name": "stdout",
     "output_type": "stream",
     "text": [
      "Alice\n",
      "Bob\n",
      "Charlie\n",
      "All names printed.\n"
     ]
    }
   ],
   "source": [
    "for n in names:\n",
    "    if 'z' in n:\n",
    "        break\n",
    "    print(n)\n",
    "else:\n",
    "    print('All names printed.')"
   ]
  },
  {
   "cell_type": "markdown",
   "id": "98864818",
   "metadata": {},
   "source": [
    "# Built-In Functions\n",
    "\n",
    "**Built-in functions** are pre-defined in the programming language’s library, for the programming to directly call the functions wherever required in the program for achieving certain functional operations.\n",
    "\n",
    "## `range(start, stop, step)`\n",
    "\n",
    "The `range()` function returns a sequence of numbers, starting from 0 by default, and increments by 1 (by default), and stops before a specified number."
   ]
  },
  {
   "cell_type": "code",
   "execution_count": 26,
   "id": "7995e1c0",
   "metadata": {},
   "outputs": [
    {
     "data": {
      "text/plain": [
       "range(0, 10)"
      ]
     },
     "execution_count": 26,
     "metadata": {},
     "output_type": "execute_result"
    }
   ],
   "source": [
    "range(0, 10)"
   ]
  },
  {
   "cell_type": "code",
   "execution_count": 27,
   "id": "93ff2c3e-2d0a-4020-a083-804866fc87ec",
   "metadata": {},
   "outputs": [
    {
     "data": {
      "text/plain": [
       "range"
      ]
     },
     "execution_count": 27,
     "metadata": {},
     "output_type": "execute_result"
    }
   ],
   "source": [
    "type(range(0, 10))"
   ]
  },
  {
   "cell_type": "code",
   "execution_count": 28,
   "id": "24d80825-8b24-4430-9077-54ee541980a8",
   "metadata": {},
   "outputs": [
    {
     "data": {
      "text/plain": [
       "[0, 1, 2, 3, 4, 5, 6, 7, 8, 9]"
      ]
     },
     "execution_count": 28,
     "metadata": {},
     "output_type": "execute_result"
    }
   ],
   "source": [
    "list(range(0, 10))"
   ]
  },
  {
   "cell_type": "code",
   "execution_count": 29,
   "id": "f4587e24-3232-4117-ad8c-1b063daeb758",
   "metadata": {},
   "outputs": [
    {
     "data": {
      "text/plain": [
       "[0, 2, 4, 6, 8]"
      ]
     },
     "execution_count": 29,
     "metadata": {},
     "output_type": "execute_result"
    }
   ],
   "source": [
    "list(range(0, 10, 2))"
   ]
  },
  {
   "cell_type": "code",
   "execution_count": 30,
   "id": "8f56d87d-3428-403e-a0b5-a9c766af9bd8",
   "metadata": {},
   "outputs": [
    {
     "name": "stdout",
     "output_type": "stream",
     "text": [
      "0\n",
      "1\n",
      "4\n",
      "9\n",
      "16\n",
      "25\n",
      "36\n",
      "49\n",
      "64\n",
      "81\n"
     ]
    }
   ],
   "source": [
    "for i in range(0, 10):\n",
    "    print(i ** 2)"
   ]
  },
  {
   "cell_type": "markdown",
   "id": "9eca5ace",
   "metadata": {},
   "source": [
    "## `enumerate(iterable)`\n",
    "\n",
    "The `enumerate()` function adds a counter to an iterable and returns it."
   ]
  },
  {
   "cell_type": "code",
   "execution_count": 31,
   "id": "f6602cde",
   "metadata": {},
   "outputs": [
    {
     "data": {
      "text/plain": [
       "<enumerate at 0x1070b5210>"
      ]
     },
     "execution_count": 31,
     "metadata": {},
     "output_type": "execute_result"
    }
   ],
   "source": [
    "enumerate(names)"
   ]
  },
  {
   "cell_type": "code",
   "execution_count": 32,
   "id": "76fdcc96-874b-42c1-bede-4cadc11f3ff5",
   "metadata": {},
   "outputs": [
    {
     "data": {
      "text/plain": [
       "[(0, 'Alice'), (1, 'Bob'), (2, 'Charlie')]"
      ]
     },
     "execution_count": 32,
     "metadata": {},
     "output_type": "execute_result"
    }
   ],
   "source": [
    "list(enumerate(names))"
   ]
  },
  {
   "cell_type": "code",
   "execution_count": 33,
   "id": "8d19c406-6a2a-4581-823d-ecc324eb88f9",
   "metadata": {},
   "outputs": [
    {
     "name": "stdout",
     "output_type": "stream",
     "text": [
      "(0, 'Alice')\n",
      "(1, 'Bob')\n",
      "(2, 'Charlie')\n"
     ]
    }
   ],
   "source": [
    "for n in enumerate(names):\n",
    "    print(n)"
   ]
  },
  {
   "cell_type": "code",
   "execution_count": 34,
   "id": "b622378a-90fc-427b-92d2-2cc19dbc80ea",
   "metadata": {},
   "outputs": [
    {
     "name": "stdout",
     "output_type": "stream",
     "text": [
      "The element in position 0 is Alice.\n",
      "The element in position 1 is Bob.\n",
      "The element in position 2 is Charlie.\n"
     ]
    }
   ],
   "source": [
    "for i, n in enumerate(names):\n",
    "    print(f'The element in position {i} is {n}.')"
   ]
  },
  {
   "cell_type": "markdown",
   "id": "adb18256",
   "metadata": {},
   "source": [
    "# Guess the Number!"
   ]
  },
  {
   "cell_type": "code",
   "execution_count": null,
   "id": "56f35aeb",
   "metadata": {},
   "outputs": [],
   "source": []
  },
  {
   "cell_type": "markdown",
   "id": "5ce72696",
   "metadata": {},
   "source": [
    "# Exercise\n",
    "\n",
    "Write a 'Rock, Paper, Scissors' game in which you play against the computer.  \n",
    "    *Optional*: make it a best of three! Play for three consecutive times and keep track of the scores.  \n",
    "    *Hint*: in order to let the computer make its choice, you want to use `random.choice(['rock', 'paper', 'scissors'])`."
   ]
  },
  {
   "cell_type": "code",
   "execution_count": null,
   "id": "f66dba85",
   "metadata": {},
   "outputs": [],
   "source": []
  }
 ],
 "metadata": {
  "kernelspec": {
   "display_name": "Python 3 (ipykernel)",
   "language": "python",
   "name": "python3"
  },
  "language_info": {
   "codemirror_mode": {
    "name": "ipython",
    "version": 3
   },
   "file_extension": ".py",
   "mimetype": "text/x-python",
   "name": "python",
   "nbconvert_exporter": "python",
   "pygments_lexer": "ipython3",
   "version": "3.11.5"
  }
 },
 "nbformat": 4,
 "nbformat_minor": 5
}
