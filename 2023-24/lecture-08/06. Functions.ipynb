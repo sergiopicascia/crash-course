{
 "cells": [
  {
   "cell_type": "markdown",
   "id": "33918036",
   "metadata": {},
   "source": [
    "# Functions\n",
    "\n",
    "A **function** is a group of related statements that performs a specific task: it avoids repetition and makes the code reusable. A function is defined in Python using the following syntax:\n",
    "\n",
    "```\n",
    "def function(parameters):\n",
    "    <statement>\n",
    "```"
   ]
  },
  {
   "cell_type": "code",
   "execution_count": 1,
   "id": "5450a70a-47ba-4012-89be-acc89faa00d8",
   "metadata": {},
   "outputs": [
    {
     "data": {
      "text/plain": [
       "builtin_function_or_method"
      ]
     },
     "execution_count": 1,
     "metadata": {},
     "output_type": "execute_result"
    }
   ],
   "source": [
    "type(print)"
   ]
  },
  {
   "cell_type": "code",
   "execution_count": 2,
   "id": "164e81bd",
   "metadata": {},
   "outputs": [],
   "source": [
    "# Function definition\n",
    "def say_hello():\n",
    "    print('Hello!')"
   ]
  },
  {
   "cell_type": "markdown",
   "id": "e10e0c5d",
   "metadata": {},
   "source": [
    "To call a function we simply type the function name with appropriate parameters."
   ]
  },
  {
   "cell_type": "code",
   "execution_count": 3,
   "id": "2db46119",
   "metadata": {},
   "outputs": [
    {
     "name": "stdout",
     "output_type": "stream",
     "text": [
      "Hello!\n"
     ]
    }
   ],
   "source": [
    "# Function calling\n",
    "say_hello()"
   ]
  },
  {
   "cell_type": "markdown",
   "id": "77ce250a",
   "metadata": {},
   "source": [
    "Information can be passed into functions as **parameters**. Parameters are specified after the function name, inside the parentheses. You can add as many parameters as you want, just separate them with a comma."
   ]
  },
  {
   "cell_type": "code",
   "execution_count": 4,
   "id": "7799311e",
   "metadata": {},
   "outputs": [],
   "source": [
    "# Function w/ parameters\n",
    "def square(n):\n",
    "    print(n**2)"
   ]
  },
  {
   "cell_type": "code",
   "execution_count": 5,
   "id": "f3e9e1b1",
   "metadata": {},
   "outputs": [
    {
     "name": "stdout",
     "output_type": "stream",
     "text": [
      "4\n"
     ]
    }
   ],
   "source": [
    "square(2)"
   ]
  },
  {
   "cell_type": "code",
   "execution_count": 7,
   "id": "ddba7c58-22ba-4387-8d74-b0e87359af90",
   "metadata": {},
   "outputs": [
    {
     "name": "stdout",
     "output_type": "stream",
     "text": [
      "64\n"
     ]
    }
   ],
   "source": [
    "square(8)"
   ]
  },
  {
   "cell_type": "code",
   "execution_count": 8,
   "id": "cdf1f8be-f746-456a-9710-a04b4a6ead54",
   "metadata": {},
   "outputs": [
    {
     "ename": "TypeError",
     "evalue": "unsupported operand type(s) for ** or pow(): 'str' and 'int'",
     "output_type": "error",
     "traceback": [
      "\u001b[0;31m---------------------------------------------------------------------------\u001b[0m",
      "\u001b[0;31mTypeError\u001b[0m                                 Traceback (most recent call last)",
      "Cell \u001b[0;32mIn[8], line 1\u001b[0m\n\u001b[0;32m----> 1\u001b[0m \u001b[43msquare\u001b[49m\u001b[43m(\u001b[49m\u001b[38;5;124;43m'\u001b[39;49m\u001b[38;5;124;43ma\u001b[39;49m\u001b[38;5;124;43m'\u001b[39;49m\u001b[43m)\u001b[49m\n",
      "Cell \u001b[0;32mIn[4], line 3\u001b[0m, in \u001b[0;36msquare\u001b[0;34m(n)\u001b[0m\n\u001b[1;32m      2\u001b[0m \u001b[38;5;28;01mdef\u001b[39;00m \u001b[38;5;21msquare\u001b[39m(n):\n\u001b[0;32m----> 3\u001b[0m     \u001b[38;5;28mprint\u001b[39m(\u001b[43mn\u001b[49m\u001b[38;5;241;43m*\u001b[39;49m\u001b[38;5;241;43m*\u001b[39;49m\u001b[38;5;241;43m2\u001b[39;49m)\n",
      "\u001b[0;31mTypeError\u001b[0m: unsupported operand type(s) for ** or pow(): 'str' and 'int'"
     ]
    }
   ],
   "source": [
    "square('a')"
   ]
  },
  {
   "cell_type": "code",
   "execution_count": 9,
   "id": "17715502-7141-4c65-af73-1bfc0f02f346",
   "metadata": {},
   "outputs": [],
   "source": [
    "def say_hello(name):\n",
    "    print(f'Hello, {name}!')"
   ]
  },
  {
   "cell_type": "code",
   "execution_count": 10,
   "id": "34b24140-e3fd-42dd-9f32-7319a017e7d5",
   "metadata": {},
   "outputs": [
    {
     "name": "stdout",
     "output_type": "stream",
     "text": [
      "Hello, Alice!\n"
     ]
    }
   ],
   "source": [
    "say_hello('Alice')"
   ]
  },
  {
   "cell_type": "markdown",
   "id": "977f193a",
   "metadata": {},
   "source": [
    "*Default values* indicate that the function argument will take that value if no argument value is passed during the function call. The default value is assigned by using the assignment(=) operator of the form `key=value`."
   ]
  },
  {
   "cell_type": "code",
   "execution_count": 11,
   "id": "d4b064fb",
   "metadata": {},
   "outputs": [],
   "source": [
    "# Function w/ default parameters\n",
    "def say_hello(name='Alice'):\n",
    "    print(f'Hello, {name}!')"
   ]
  },
  {
   "cell_type": "code",
   "execution_count": 12,
   "id": "a72dacc3",
   "metadata": {},
   "outputs": [
    {
     "name": "stdout",
     "output_type": "stream",
     "text": [
      "Hello, Alice!\n"
     ]
    }
   ],
   "source": [
    "say_hello()"
   ]
  },
  {
   "cell_type": "code",
   "execution_count": 13,
   "id": "055a7ccc-0a2c-424d-b1fb-b0c09d94271a",
   "metadata": {},
   "outputs": [
    {
     "name": "stdout",
     "output_type": "stream",
     "text": [
      "Hello, Bob!\n"
     ]
    }
   ],
   "source": [
    "say_hello('Bob')"
   ]
  },
  {
   "cell_type": "markdown",
   "id": "5649a463",
   "metadata": {},
   "source": [
    "## `return`\n",
    "\n",
    "The `return` statement is used inside a function to send the function's result back to the caller. "
   ]
  },
  {
   "cell_type": "code",
   "execution_count": 14,
   "id": "704a6319-580f-4be0-af33-e9b7aeec7cf8",
   "metadata": {},
   "outputs": [
    {
     "name": "stdout",
     "output_type": "stream",
     "text": [
      "16\n"
     ]
    }
   ],
   "source": [
    "square(4)"
   ]
  },
  {
   "cell_type": "code",
   "execution_count": 15,
   "id": "90279039-56e2-4edd-aad4-2d36bac5d263",
   "metadata": {},
   "outputs": [
    {
     "name": "stdout",
     "output_type": "stream",
     "text": [
      "16\n"
     ]
    }
   ],
   "source": [
    "x = 4\n",
    "y = square(x)"
   ]
  },
  {
   "cell_type": "code",
   "execution_count": 18,
   "id": "2b07dae7-58be-4908-b5c8-bde3a9930692",
   "metadata": {},
   "outputs": [
    {
     "name": "stdout",
     "output_type": "stream",
     "text": [
      "None\n"
     ]
    }
   ],
   "source": [
    "print(y)"
   ]
  },
  {
   "cell_type": "code",
   "execution_count": 19,
   "id": "bc3fb8dc",
   "metadata": {},
   "outputs": [],
   "source": [
    "# Square function\n",
    "def square(n):\n",
    "    return n**2"
   ]
  },
  {
   "cell_type": "code",
   "execution_count": 20,
   "id": "c2b82451-7308-4632-a228-338b23f0c27b",
   "metadata": {},
   "outputs": [
    {
     "data": {
      "text/plain": [
       "16"
      ]
     },
     "execution_count": 20,
     "metadata": {},
     "output_type": "execute_result"
    }
   ],
   "source": [
    "square(4)"
   ]
  },
  {
   "cell_type": "code",
   "execution_count": 21,
   "id": "50196dee-eec0-45f6-b516-aed691b410b1",
   "metadata": {},
   "outputs": [],
   "source": [
    "x = 4\n",
    "y = square(x)"
   ]
  },
  {
   "cell_type": "code",
   "execution_count": 23,
   "id": "757452b8-8300-4733-b3fa-6f22865157df",
   "metadata": {},
   "outputs": [
    {
     "name": "stdout",
     "output_type": "stream",
     "text": [
      "16\n"
     ]
    }
   ],
   "source": [
    "print(y)"
   ]
  },
  {
   "cell_type": "code",
   "execution_count": 31,
   "id": "f5b196ad",
   "metadata": {},
   "outputs": [],
   "source": [
    "# Email generator\n",
    "def email_generator(name, surname, role='student'):\n",
    "    if role == 'student':\n",
    "        email_address = f'{name}.{surname}@studenti.unimi.it'\n",
    "    else:\n",
    "        email_address = f'{name}.{surname}@unimi.it'\n",
    "    return email_address"
   ]
  },
  {
   "cell_type": "code",
   "execution_count": 32,
   "id": "c9856f63-5f9d-4f6e-8bbe-a93e147c37eb",
   "metadata": {},
   "outputs": [
    {
     "data": {
      "text/plain": [
       "'sergio.picascia@studenti.unimi.it'"
      ]
     },
     "execution_count": 32,
     "metadata": {},
     "output_type": "execute_result"
    }
   ],
   "source": [
    "email_generator('sergio', 'picascia')"
   ]
  },
  {
   "cell_type": "code",
   "execution_count": 30,
   "id": "41eeb3b5-8dc5-4a18-9e61-ac009cb86946",
   "metadata": {},
   "outputs": [
    {
     "data": {
      "text/plain": [
       "'sergio.picascia@unimi.it'"
      ]
     },
     "execution_count": 30,
     "metadata": {},
     "output_type": "execute_result"
    }
   ],
   "source": [
    "email_generator('sergio', 'picascia', 'staff')"
   ]
  },
  {
   "cell_type": "code",
   "execution_count": 33,
   "id": "76e0faf7-c385-47de-b1b9-c253c975ae99",
   "metadata": {},
   "outputs": [
    {
     "data": {
      "text/plain": [
       "'sergio.picascia@unimi.it'"
      ]
     },
     "execution_count": 33,
     "metadata": {},
     "output_type": "execute_result"
    }
   ],
   "source": [
    "email_generator(name='sergio', surname='picascia', role='staff')"
   ]
  },
  {
   "cell_type": "code",
   "execution_count": 34,
   "id": "3af09b40-2778-4a3d-8961-71d46449ffdc",
   "metadata": {},
   "outputs": [
    {
     "data": {
      "text/plain": [
       "'picascia.sergio@unimi.it'"
      ]
     },
     "execution_count": 34,
     "metadata": {},
     "output_type": "execute_result"
    }
   ],
   "source": [
    "email_generator('picascia', 'sergio', 'staff')"
   ]
  },
  {
   "cell_type": "code",
   "execution_count": 1,
   "id": "d24523f3-72c4-411d-9a2f-cc3ac474dda3",
   "metadata": {},
   "outputs": [],
   "source": [
    "def celsius2farheneit(temperature):\n",
    "    new_temperature = (temperature * 9/5) + 32\n",
    "    return new_temperature"
   ]
  },
  {
   "cell_type": "code",
   "execution_count": 2,
   "id": "e482f731-9def-47c1-9097-551dd1195d35",
   "metadata": {},
   "outputs": [
    {
     "name": "stdin",
     "output_type": "stream",
     "text": [
      "Enter the temperature to convert:  22\n"
     ]
    }
   ],
   "source": [
    "usr_temperature = int(input('Enter the temperature to convert: '))"
   ]
  },
  {
   "cell_type": "code",
   "execution_count": 3,
   "id": "d16411a6-371c-4f89-b637-dd907a8a3524",
   "metadata": {},
   "outputs": [
    {
     "data": {
      "text/plain": [
       "71.6"
      ]
     },
     "execution_count": 3,
     "metadata": {},
     "output_type": "execute_result"
    }
   ],
   "source": [
    "celsius2farheneit(usr_temperature)"
   ]
  },
  {
   "cell_type": "code",
   "execution_count": 4,
   "id": "8c681444-e7b7-41a2-8df9-06028066f355",
   "metadata": {},
   "outputs": [],
   "source": [
    "import conversion"
   ]
  },
  {
   "cell_type": "code",
   "execution_count": 5,
   "id": "9c430e01-c1bb-467c-a68b-e72e7836dd07",
   "metadata": {
    "scrolled": true
   },
   "outputs": [
    {
     "data": {
      "text/plain": [
       "71.6"
      ]
     },
     "execution_count": 5,
     "metadata": {},
     "output_type": "execute_result"
    }
   ],
   "source": [
    "conversion.celsius2farheneit(22)"
   ]
  },
  {
   "cell_type": "code",
   "execution_count": 6,
   "id": "232cd3dc-1702-49bb-8f26-52ed06b34296",
   "metadata": {},
   "outputs": [],
   "source": [
    "from conversion import celsius2farheneit"
   ]
  },
  {
   "cell_type": "code",
   "execution_count": 7,
   "id": "a77ff8a7-8a68-49d4-b596-3f1a669970a1",
   "metadata": {},
   "outputs": [
    {
     "data": {
      "text/plain": [
       "48.2"
      ]
     },
     "execution_count": 7,
     "metadata": {},
     "output_type": "execute_result"
    }
   ],
   "source": [
    "celsius2farheneit(9)"
   ]
  },
  {
   "cell_type": "markdown",
   "id": "2549dcc8",
   "metadata": {},
   "source": [
    "## Recursion\n",
    "\n",
    "The process in which a function calls itself directly or indirectly is called **recursion** and the corresponding function is called a *recursive function*.\n",
    "\n",
    "- Performing the same operations multiple times with different inputs.\n",
    "- In every step, we try smaller inputs to make the problem smaller.\n",
    "- Base condition is needed to stop the recursion otherwise infinite loop will occur."
   ]
  },
  {
   "cell_type": "code",
   "execution_count": 8,
   "id": "9203bede-2877-469e-a904-a425910eb208",
   "metadata": {},
   "outputs": [],
   "source": [
    "# Infinite loop\n",
    "def hello():\n",
    "    print('hello')\n",
    "    hello()"
   ]
  },
  {
   "cell_type": "code",
   "execution_count": 10,
   "id": "a73f1310",
   "metadata": {},
   "outputs": [],
   "source": [
    "# Countdown\n",
    "def countdown(n):\n",
    "    if n > 0:\n",
    "        print(n)\n",
    "        countdown(n-1)\n",
    "    else:\n",
    "        print(n)"
   ]
  },
  {
   "cell_type": "code",
   "execution_count": 12,
   "id": "ec79f4d2-17c8-490a-b7aa-9b130dc306e8",
   "metadata": {},
   "outputs": [
    {
     "name": "stdout",
     "output_type": "stream",
     "text": [
      "2\n",
      "1\n",
      "0\n"
     ]
    }
   ],
   "source": [
    "countdown(2)"
   ]
  },
  {
   "cell_type": "raw",
   "id": "319cb62f-221f-41c8-ab20-e55ee34694a1",
   "metadata": {},
   "source": [
    "4! = 4 * 3 * 2 * 1"
   ]
  },
  {
   "cell_type": "code",
   "execution_count": 13,
   "id": "c37ca183",
   "metadata": {},
   "outputs": [],
   "source": [
    "# Factorial\n",
    "def factorial(n):\n",
    "    if n > 1:\n",
    "        return n * factorial(n-1)\n",
    "    else:\n",
    "        return 1"
   ]
  },
  {
   "cell_type": "raw",
   "id": "5a2be7cf-da9b-4873-9654-52dae6cc67ff",
   "metadata": {},
   "source": [
    "factorial(4) -> 4 * factorial(3)\n",
    "factorial(3) -> 3 * factorial(2)\n",
    "factorial(2) -> 2 * factorial(1)\n",
    "factorial(1) -> 1"
   ]
  },
  {
   "cell_type": "raw",
   "id": "c7e47255-4eae-4944-9508-1c1aeaf3c92f",
   "metadata": {},
   "source": [
    "factorial(4) -> 4 * 6\n",
    "factorial(3) -> 3 * 2\n",
    "factorial(2) -> 2 * 1\n",
    "factorial(1) -> 1"
   ]
  },
  {
   "cell_type": "code",
   "execution_count": 18,
   "id": "40e48661-30d4-4d01-9f8e-9301caaa8a41",
   "metadata": {},
   "outputs": [
    {
     "data": {
      "text/plain": [
       "24"
      ]
     },
     "execution_count": 18,
     "metadata": {},
     "output_type": "execute_result"
    }
   ],
   "source": [
    "product = 1\n",
    "\n",
    "for i in range(1, 5):\n",
    "    product *= i\n",
    "\n",
    "product"
   ]
  },
  {
   "cell_type": "code",
   "execution_count": 22,
   "id": "779b8463-6f10-4971-bc33-846953f0799f",
   "metadata": {},
   "outputs": [
    {
     "name": "stdout",
     "output_type": "stream",
     "text": [
      "1\n",
      "2\n",
      "3\n",
      "4\n"
     ]
    }
   ],
   "source": [
    "for i in range(1, 5):\n",
    "    print(i)"
   ]
  },
  {
   "cell_type": "code",
   "execution_count": 21,
   "id": "76142f07-4c6f-4d49-9f8b-7cb0ecba39e9",
   "metadata": {},
   "outputs": [
    {
     "name": "stdout",
     "output_type": "stream",
     "text": [
      "4\n",
      "3\n",
      "2\n",
      "1\n"
     ]
    }
   ],
   "source": [
    "for i in range(4, 0, -1):\n",
    "    print(i)"
   ]
  },
  {
   "cell_type": "code",
   "execution_count": 23,
   "id": "a0b4abab-5588-450e-997d-d902aca6f84a",
   "metadata": {},
   "outputs": [
    {
     "data": {
      "text/plain": [
       "'cba'"
      ]
     },
     "execution_count": 23,
     "metadata": {},
     "output_type": "execute_result"
    }
   ],
   "source": [
    "'abc'[::-1]"
   ]
  },
  {
   "cell_type": "raw",
   "id": "179c345a-2e9e-4186-80d0-030f31d2716a",
   "metadata": {},
   "source": [
    "Position: 0 1 2 3 4 5 6 7  8  9  10\n",
    "Value:    0 1 1 2 3 5 8 13 21 34 55\n",
    "\n",
    "x_n = x_(n-2) + x_(n-1)"
   ]
  },
  {
   "cell_type": "code",
   "execution_count": 27,
   "id": "edf2d6ec",
   "metadata": {},
   "outputs": [],
   "source": [
    "# Fibonacci sequence\n",
    "def fibonacci(n):\n",
    "    if n > 1:\n",
    "        return fibonacci(n-2) + fibonacci(n-1)\n",
    "    else:\n",
    "        return n"
   ]
  },
  {
   "cell_type": "code",
   "execution_count": 28,
   "id": "1d749bf9-2e33-4753-b727-8d559831b6d8",
   "metadata": {},
   "outputs": [
    {
     "data": {
      "text/plain": [
       "21"
      ]
     },
     "execution_count": 28,
     "metadata": {},
     "output_type": "execute_result"
    }
   ],
   "source": [
    "fibonacci(8)"
   ]
  },
  {
   "cell_type": "markdown",
   "id": "4371e116",
   "metadata": {},
   "source": [
    "# Variable Scope\n",
    "\n",
    "Not all variables can be accessed from anywhere in a program. The part of a program where a variable is accessible is called its **scope**. There are four major types of variable scope and is the basis for the *LEGB rule*: Local, Enclosing, Global, Built-in."
   ]
  },
  {
   "cell_type": "code",
   "execution_count": null,
   "id": "31c16aa4-540d-40bd-bb6b-88520ff3f6c8",
   "metadata": {},
   "outputs": [],
   "source": [
    "# Built-in scope\n",
    "print()"
   ]
  },
  {
   "cell_type": "code",
   "execution_count": 30,
   "id": "b53e4eb6",
   "metadata": {},
   "outputs": [],
   "source": [
    "# Global scope\n",
    "x = 10"
   ]
  },
  {
   "cell_type": "code",
   "execution_count": 44,
   "id": "52a9a88a",
   "metadata": {},
   "outputs": [],
   "source": [
    "# Local scope\n",
    "def print_integer():\n",
    "    my_integer = 5\n",
    "    print(my_integer)"
   ]
  },
  {
   "cell_type": "code",
   "execution_count": 39,
   "id": "74230f49-e09d-4dcb-894b-a47d1622cc49",
   "metadata": {},
   "outputs": [],
   "source": [
    "# Local scope\n",
    "def print_integer_with_return():\n",
    "    my_integer = 5\n",
    "    return my_integer"
   ]
  },
  {
   "cell_type": "code",
   "execution_count": 35,
   "id": "8fa0a1ad-f57b-4a1a-8b51-6b3164e37f39",
   "metadata": {},
   "outputs": [
    {
     "data": {
      "text/plain": [
       "5"
      ]
     },
     "execution_count": 35,
     "metadata": {},
     "output_type": "execute_result"
    }
   ],
   "source": [
    "print_integer()"
   ]
  },
  {
   "cell_type": "code",
   "execution_count": 40,
   "id": "afce3af7-380c-47ea-ab7b-b8fa71c28cea",
   "metadata": {},
   "outputs": [],
   "source": [
    "x = print_integer_with_return()"
   ]
  },
  {
   "cell_type": "code",
   "execution_count": 41,
   "id": "340a6bc3-9780-4c29-8c64-ea418c3f2c27",
   "metadata": {},
   "outputs": [
    {
     "data": {
      "text/plain": [
       "5"
      ]
     },
     "execution_count": 41,
     "metadata": {},
     "output_type": "execute_result"
    }
   ],
   "source": [
    "x"
   ]
  },
  {
   "cell_type": "code",
   "execution_count": 45,
   "id": "faff4ee9-09cc-44d0-8902-c439060f57c9",
   "metadata": {},
   "outputs": [
    {
     "name": "stdout",
     "output_type": "stream",
     "text": [
      "5\n"
     ]
    }
   ],
   "source": [
    "y = print_integer()"
   ]
  },
  {
   "cell_type": "code",
   "execution_count": 46,
   "id": "bd1be56d-ea25-461e-a018-c910fddc3b9a",
   "metadata": {},
   "outputs": [],
   "source": [
    "y"
   ]
  },
  {
   "cell_type": "code",
   "execution_count": 47,
   "id": "19ea7b14-c3d1-4f41-9fff-3f4551b95baf",
   "metadata": {},
   "outputs": [
    {
     "data": {
      "text/plain": [
       "True"
      ]
     },
     "execution_count": 47,
     "metadata": {},
     "output_type": "execute_result"
    }
   ],
   "source": [
    "y is None"
   ]
  },
  {
   "cell_type": "code",
   "execution_count": 48,
   "id": "4877fdaf-92b4-4dc9-aff7-848d99cb1ef9",
   "metadata": {},
   "outputs": [
    {
     "ename": "NameError",
     "evalue": "name 'my_integer' is not defined",
     "output_type": "error",
     "traceback": [
      "\u001b[0;31m---------------------------------------------------------------------------\u001b[0m",
      "\u001b[0;31mNameError\u001b[0m                                 Traceback (most recent call last)",
      "Cell \u001b[0;32mIn[48], line 1\u001b[0m\n\u001b[0;32m----> 1\u001b[0m \u001b[43mmy_integer\u001b[49m\n",
      "\u001b[0;31mNameError\u001b[0m: name 'my_integer' is not defined"
     ]
    }
   ],
   "source": [
    "my_integer"
   ]
  },
  {
   "cell_type": "code",
   "execution_count": 50,
   "id": "005fdd88",
   "metadata": {},
   "outputs": [],
   "source": [
    "# Enclosing scope\n",
    "def outer():\n",
    "    outer_int = 5\n",
    "    print(f'This is printed in the outer function: {outer_int}')\n",
    "    \n",
    "    def inner():\n",
    "        inner_int = 10\n",
    "        print(f'This is printed in the inner function: {inner_int}')\n",
    "        print(f'This is printed in the inner function: {outer_int}')\n",
    "\n",
    "    inner()"
   ]
  },
  {
   "cell_type": "code",
   "execution_count": 51,
   "id": "89465c8b-d6e2-4ac0-9948-3e66366b9b7c",
   "metadata": {},
   "outputs": [
    {
     "name": "stdout",
     "output_type": "stream",
     "text": [
      "This is printed in the outer function: 5\n",
      "This is printed in the outer function: 10\n",
      "This is printed in the outer function: 5\n"
     ]
    }
   ],
   "source": [
    "outer()"
   ]
  },
  {
   "cell_type": "code",
   "execution_count": 52,
   "id": "311985e4-8ab9-41a6-8ef0-2e58f147bfbb",
   "metadata": {},
   "outputs": [
    {
     "ename": "NameError",
     "evalue": "name 'inner' is not defined",
     "output_type": "error",
     "traceback": [
      "\u001b[0;31m---------------------------------------------------------------------------\u001b[0m",
      "\u001b[0;31mNameError\u001b[0m                                 Traceback (most recent call last)",
      "Cell \u001b[0;32mIn[52], line 1\u001b[0m\n\u001b[0;32m----> 1\u001b[0m \u001b[43minner\u001b[49m()\n",
      "\u001b[0;31mNameError\u001b[0m: name 'inner' is not defined"
     ]
    }
   ],
   "source": [
    "inner()"
   ]
  },
  {
   "cell_type": "code",
   "execution_count": 53,
   "id": "c1f685ba-2cfa-4e88-ae8e-f66a40935f07",
   "metadata": {},
   "outputs": [
    {
     "ename": "NameError",
     "evalue": "name 'outer_int' is not defined",
     "output_type": "error",
     "traceback": [
      "\u001b[0;31m---------------------------------------------------------------------------\u001b[0m",
      "\u001b[0;31mNameError\u001b[0m                                 Traceback (most recent call last)",
      "Cell \u001b[0;32mIn[53], line 1\u001b[0m\n\u001b[0;32m----> 1\u001b[0m \u001b[43mouter_int\u001b[49m\n",
      "\u001b[0;31mNameError\u001b[0m: name 'outer_int' is not defined"
     ]
    }
   ],
   "source": [
    "outer_int"
   ]
  },
  {
   "cell_type": "code",
   "execution_count": 54,
   "id": "6d242d82-b57d-40de-81f2-dbcec11d64f0",
   "metadata": {},
   "outputs": [],
   "source": [
    "def outer():\n",
    "    outer_int = 5\n",
    "    print(f'This is printed in the outer function: {outer_int}')\n",
    "    \n",
    "    def inner():\n",
    "        inner_int = 10\n",
    "        print(f'This is printed in the inner function: {inner_int}')\n",
    "        print(f'This is printed in the inner function: {outer_int}')\n",
    "\n",
    "    inner()\n",
    "    print(f'This is printed in the outer function: {inner_int}')"
   ]
  },
  {
   "cell_type": "code",
   "execution_count": 55,
   "id": "221bb672-086e-4891-bf47-41b2e0634f81",
   "metadata": {},
   "outputs": [
    {
     "name": "stdout",
     "output_type": "stream",
     "text": [
      "This is printed in the outer function: 5\n",
      "This is printed in the inner function: 10\n",
      "This is printed in the inner function: 5\n"
     ]
    },
    {
     "ename": "NameError",
     "evalue": "name 'inner_int' is not defined",
     "output_type": "error",
     "traceback": [
      "\u001b[0;31m---------------------------------------------------------------------------\u001b[0m",
      "\u001b[0;31mNameError\u001b[0m                                 Traceback (most recent call last)",
      "Cell \u001b[0;32mIn[55], line 1\u001b[0m\n\u001b[0;32m----> 1\u001b[0m \u001b[43mouter\u001b[49m\u001b[43m(\u001b[49m\u001b[43m)\u001b[49m\n",
      "Cell \u001b[0;32mIn[54], line 11\u001b[0m, in \u001b[0;36mouter\u001b[0;34m()\u001b[0m\n\u001b[1;32m      8\u001b[0m     \u001b[38;5;28mprint\u001b[39m(\u001b[38;5;124mf\u001b[39m\u001b[38;5;124m'\u001b[39m\u001b[38;5;124mThis is printed in the inner function: \u001b[39m\u001b[38;5;132;01m{\u001b[39;00mouter_int\u001b[38;5;132;01m}\u001b[39;00m\u001b[38;5;124m'\u001b[39m)\n\u001b[1;32m     10\u001b[0m inner()\n\u001b[0;32m---> 11\u001b[0m \u001b[38;5;28mprint\u001b[39m(\u001b[38;5;124mf\u001b[39m\u001b[38;5;124m'\u001b[39m\u001b[38;5;124mThis is printed in the outer function: \u001b[39m\u001b[38;5;132;01m{\u001b[39;00m\u001b[43minner_int\u001b[49m\u001b[38;5;132;01m}\u001b[39;00m\u001b[38;5;124m'\u001b[39m)\n",
      "\u001b[0;31mNameError\u001b[0m: name 'inner_int' is not defined"
     ]
    }
   ],
   "source": [
    "outer()"
   ]
  },
  {
   "cell_type": "code",
   "execution_count": 1,
   "id": "3701c6eb-4b28-40b7-86b9-28e0bceb21be",
   "metadata": {},
   "outputs": [
    {
     "name": "stdout",
     "output_type": "stream",
     "text": [
      "this is the first function\n"
     ]
    },
    {
     "ename": "NameError",
     "evalue": "name 'second_func' is not defined",
     "output_type": "error",
     "traceback": [
      "\u001b[0;31m---------------------------------------------------------------------------\u001b[0m",
      "\u001b[0;31mNameError\u001b[0m                                 Traceback (most recent call last)",
      "Cell \u001b[0;32mIn[1], line 5\u001b[0m\n\u001b[1;32m      2\u001b[0m     \u001b[38;5;28mprint\u001b[39m(\u001b[38;5;124m'\u001b[39m\u001b[38;5;124mthis is the first function\u001b[39m\u001b[38;5;124m'\u001b[39m)\n\u001b[1;32m      3\u001b[0m     second_func()\n\u001b[0;32m----> 5\u001b[0m \u001b[43mfirst_func\u001b[49m\u001b[43m(\u001b[49m\u001b[43m)\u001b[49m\n\u001b[1;32m      7\u001b[0m \u001b[38;5;28;01mdef\u001b[39;00m \u001b[38;5;21msecond_func\u001b[39m():\n\u001b[1;32m      8\u001b[0m     \u001b[38;5;28mprint\u001b[39m(\u001b[38;5;124m'\u001b[39m\u001b[38;5;124mthis is the second function\u001b[39m\u001b[38;5;124m'\u001b[39m)\n",
      "Cell \u001b[0;32mIn[1], line 3\u001b[0m, in \u001b[0;36mfirst_func\u001b[0;34m()\u001b[0m\n\u001b[1;32m      1\u001b[0m \u001b[38;5;28;01mdef\u001b[39;00m \u001b[38;5;21mfirst_func\u001b[39m():\n\u001b[1;32m      2\u001b[0m     \u001b[38;5;28mprint\u001b[39m(\u001b[38;5;124m'\u001b[39m\u001b[38;5;124mthis is the first function\u001b[39m\u001b[38;5;124m'\u001b[39m)\n\u001b[0;32m----> 3\u001b[0m     \u001b[43msecond_func\u001b[49m()\n",
      "\u001b[0;31mNameError\u001b[0m: name 'second_func' is not defined"
     ]
    }
   ],
   "source": [
    "def first_func():\n",
    "    print('this is the first function')\n",
    "    second_func()\n",
    "\n",
    "first_func()\n",
    "\n",
    "def second_func():\n",
    "    print('this is the second function')"
   ]
  },
  {
   "cell_type": "code",
   "execution_count": 2,
   "id": "b8367bb0-9b5f-4c98-92f8-a867653f5530",
   "metadata": {},
   "outputs": [
    {
     "name": "stdout",
     "output_type": "stream",
     "text": [
      "this is the first function\n",
      "this is the second function\n"
     ]
    }
   ],
   "source": [
    "def first_func():\n",
    "    print('this is the first function')\n",
    "    second_func()\n",
    "    \n",
    "def second_func():\n",
    "    print('this is the second function')\n",
    "\n",
    "first_func()"
   ]
  },
  {
   "cell_type": "code",
   "execution_count": 5,
   "id": "c8039c0f",
   "metadata": {},
   "outputs": [],
   "source": [
    "# global keyword\n",
    "n = 5\n",
    "\n",
    "def modify_n():\n",
    "    n = 10\n",
    "    print(n)"
   ]
  },
  {
   "cell_type": "code",
   "execution_count": 6,
   "id": "2b513b00-3d90-4403-885b-a2c14566e14a",
   "metadata": {},
   "outputs": [
    {
     "name": "stdout",
     "output_type": "stream",
     "text": [
      "10\n"
     ]
    }
   ],
   "source": [
    "modify_n()"
   ]
  },
  {
   "cell_type": "code",
   "execution_count": 7,
   "id": "79cb2171-d83e-4cad-a39a-a6a28c113ecd",
   "metadata": {},
   "outputs": [
    {
     "data": {
      "text/plain": [
       "5"
      ]
     },
     "execution_count": 7,
     "metadata": {},
     "output_type": "execute_result"
    }
   ],
   "source": [
    "n"
   ]
  },
  {
   "cell_type": "code",
   "execution_count": 8,
   "id": "0c91ac26-fb5e-46a3-9f66-ffdc73e600de",
   "metadata": {},
   "outputs": [],
   "source": [
    "def modify_n():\n",
    "    global n\n",
    "    n = 10\n",
    "    print(n)"
   ]
  },
  {
   "cell_type": "code",
   "execution_count": 9,
   "id": "1917941c-20d1-4fb6-bec2-bd1521fa2e8a",
   "metadata": {},
   "outputs": [
    {
     "name": "stdout",
     "output_type": "stream",
     "text": [
      "10\n"
     ]
    }
   ],
   "source": [
    "modify_n()"
   ]
  },
  {
   "cell_type": "code",
   "execution_count": 10,
   "id": "fbecd744-3740-46ab-8ff6-27c12ba2ba2f",
   "metadata": {},
   "outputs": [
    {
     "data": {
      "text/plain": [
       "10"
      ]
     },
     "execution_count": 10,
     "metadata": {},
     "output_type": "execute_result"
    }
   ],
   "source": [
    "n"
   ]
  },
  {
   "cell_type": "markdown",
   "id": "9c9f45a2",
   "metadata": {},
   "source": [
    "# Exercises\n",
    "\n",
    "1. Write a function that returns even numbers from a given list."
   ]
  },
  {
   "cell_type": "code",
   "execution_count": 15,
   "id": "8db1a452",
   "metadata": {},
   "outputs": [],
   "source": [
    "def only_even(list_of_numbers):\n",
    "    even_numbers = []\n",
    "    \n",
    "    for n in list_of_numbers:\n",
    "        if n % 2 == 0:\n",
    "            even_numbers.append(n)\n",
    "        else:\n",
    "            continue\n",
    "\n",
    "    return even_numbers"
   ]
  },
  {
   "cell_type": "code",
   "execution_count": 16,
   "id": "199e3fcc-ae5e-4eff-9aaf-a6440195126f",
   "metadata": {},
   "outputs": [],
   "source": [
    "a = only_even([1, 2, 3, 4, 5, 6, 7, 8, 9, 10])"
   ]
  },
  {
   "cell_type": "code",
   "execution_count": 17,
   "id": "b8565d10-d593-46d2-ad7c-da32a88c7607",
   "metadata": {},
   "outputs": [
    {
     "data": {
      "text/plain": [
       "[2, 4, 6, 8, 10]"
      ]
     },
     "execution_count": 17,
     "metadata": {},
     "output_type": "execute_result"
    }
   ],
   "source": [
    "a"
   ]
  },
  {
   "cell_type": "markdown",
   "id": "16560107",
   "metadata": {},
   "source": [
    "2. Write a function that counts the occurrences of each vowel inside a given string."
   ]
  },
  {
   "cell_type": "raw",
   "id": "5d6cfa4e-4216-47cc-9237-4987372e27d3",
   "metadata": {},
   "source": [
    "'computer science' -> {'o': 1, 'u': 1, 'e': 3, 'i': 1}"
   ]
  },
  {
   "cell_type": "code",
   "execution_count": null,
   "id": "67da45a5-7f56-4870-a89f-ba98fa77e455",
   "metadata": {},
   "outputs": [],
   "source": [
    "def vowel_count(word):\n",
    "    a = 0\n",
    "    e = 0\n",
    "    i = 0\n",
    "    o = 0\n",
    "    u = 0\n",
    "\n",
    "    for i in range(0, len(word) - 1):\n",
    "        if word[i].lower() == 'a':\n",
    "            a += 1\n",
    "\n",
    "    ...\n",
    "\n",
    "    "
   ]
  },
  {
   "cell_type": "code",
   "execution_count": 18,
   "id": "55f7b123-f07c-4a40-8259-956add46b1d5",
   "metadata": {},
   "outputs": [],
   "source": [
    "def vowel_count(word):\n",
    "    vowel = ['a', 'e', 'i', 'o', 'u']\n",
    "    count = {}\n",
    "\n",
    "    for v in vowel:\n",
    "        count[v] = 0\n",
    "\n",
    "    for char in word:\n",
    "        char = char.lower()\n",
    "        if char in count.keys():\n",
    "            count[char] += 1\n",
    "\n",
    "    return count"
   ]
  },
  {
   "cell_type": "code",
   "execution_count": 19,
   "id": "a7698951-072e-4283-83ff-46004faa3119",
   "metadata": {},
   "outputs": [
    {
     "data": {
      "text/plain": [
       "{'a': 0, 'e': 3, 'i': 1, 'o': 1, 'u': 1}"
      ]
     },
     "execution_count": 19,
     "metadata": {},
     "output_type": "execute_result"
    }
   ],
   "source": [
    "vowel_count('computer science')"
   ]
  },
  {
   "cell_type": "code",
   "execution_count": 21,
   "id": "faeb72d0-5e4a-4dcf-b682-b3cc134ae9d1",
   "metadata": {},
   "outputs": [],
   "source": [
    "def vowel_count(word):\n",
    "    vowel = ['a', 'e', 'i', 'o', 'u']\n",
    "    count = {}\n",
    "\n",
    "    for char in word:\n",
    "        char = char.lower()\n",
    "        if char in vowel:\n",
    "            if char in count.keys():\n",
    "                count[char] += 1\n",
    "            else:\n",
    "                count[char] = 1\n",
    "    \n",
    "    return count"
   ]
  },
  {
   "cell_type": "code",
   "execution_count": 22,
   "id": "cb365e2e-1fcc-49ac-9033-54cffdc9a10d",
   "metadata": {},
   "outputs": [
    {
     "data": {
      "text/plain": [
       "{'o': 1, 'u': 1, 'e': 3, 'i': 1}"
      ]
     },
     "execution_count": 22,
     "metadata": {},
     "output_type": "execute_result"
    }
   ],
   "source": [
    "vowel_count('computer science')"
   ]
  },
  {
   "cell_type": "code",
   "execution_count": 23,
   "id": "d5749ff7-cca0-4172-b542-33c88624b125",
   "metadata": {},
   "outputs": [],
   "source": [
    "count = {}"
   ]
  },
  {
   "cell_type": "code",
   "execution_count": 25,
   "id": "d20f5c3b-96b6-4949-89ea-ffe17ee5412e",
   "metadata": {},
   "outputs": [
    {
     "ename": "KeyError",
     "evalue": "'o'",
     "output_type": "error",
     "traceback": [
      "\u001b[0;31m---------------------------------------------------------------------------\u001b[0m",
      "\u001b[0;31mKeyError\u001b[0m                                  Traceback (most recent call last)",
      "Cell \u001b[0;32mIn[25], line 1\u001b[0m\n\u001b[0;32m----> 1\u001b[0m \u001b[43mcount\u001b[49m\u001b[43m[\u001b[49m\u001b[38;5;124;43m'\u001b[39;49m\u001b[38;5;124;43mo\u001b[39;49m\u001b[38;5;124;43m'\u001b[39;49m\u001b[43m]\u001b[49m \u001b[38;5;241m+\u001b[39m\u001b[38;5;241m=\u001b[39m \u001b[38;5;241m1\u001b[39m\n",
      "\u001b[0;31mKeyError\u001b[0m: 'o'"
     ]
    }
   ],
   "source": [
    "count['o'] += 1"
   ]
  },
  {
   "cell_type": "code",
   "execution_count": 26,
   "id": "791eb10a-c0ff-4112-a77a-d1ebee1c7edd",
   "metadata": {},
   "outputs": [
    {
     "data": {
      "text/plain": [
       "{}"
      ]
     },
     "execution_count": 26,
     "metadata": {},
     "output_type": "execute_result"
    }
   ],
   "source": [
    "count"
   ]
  },
  {
   "cell_type": "code",
   "execution_count": 27,
   "id": "f8921e5a-b4f6-4250-91a1-eeaad184be00",
   "metadata": {},
   "outputs": [],
   "source": [
    "count['o'] = 1"
   ]
  },
  {
   "cell_type": "code",
   "execution_count": 28,
   "id": "5b7ffcf0-9e17-4eed-8484-6b3cb31d06cb",
   "metadata": {},
   "outputs": [
    {
     "data": {
      "text/plain": [
       "{'o': 1}"
      ]
     },
     "execution_count": 28,
     "metadata": {},
     "output_type": "execute_result"
    }
   ],
   "source": [
    "count"
   ]
  },
  {
   "cell_type": "code",
   "execution_count": 29,
   "id": "9b840e56-fce3-4ed3-854d-f81f8abf159f",
   "metadata": {},
   "outputs": [],
   "source": [
    "count['o'] += 1"
   ]
  },
  {
   "cell_type": "code",
   "execution_count": 30,
   "id": "e07eb93f-310c-4dbd-9d0a-80b4b7a06c8e",
   "metadata": {},
   "outputs": [
    {
     "data": {
      "text/plain": [
       "{'o': 2}"
      ]
     },
     "execution_count": 30,
     "metadata": {},
     "output_type": "execute_result"
    }
   ],
   "source": [
    "count"
   ]
  },
  {
   "cell_type": "code",
   "execution_count": null,
   "id": "d4d087a5-b656-45e3-a940-a0b00cc00b41",
   "metadata": {},
   "outputs": [],
   "source": []
  }
 ],
 "metadata": {
  "kernelspec": {
   "display_name": "Python 3 (ipykernel)",
   "language": "python",
   "name": "python3"
  },
  "language_info": {
   "codemirror_mode": {
    "name": "ipython",
    "version": 3
   },
   "file_extension": ".py",
   "mimetype": "text/x-python",
   "name": "python",
   "nbconvert_exporter": "python",
   "pygments_lexer": "ipython3",
   "version": "3.11.5"
  }
 },
 "nbformat": 4,
 "nbformat_minor": 5
}
